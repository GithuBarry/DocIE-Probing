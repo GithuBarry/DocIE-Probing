{
 "cells": [
  {
   "cell_type": "code",
   "execution_count": 44,
   "id": "initial_id",
   "metadata": {
    "collapsed": true,
    "ExecuteTime": {
     "end_time": "2023-10-20T00:49:23.098192Z",
     "start_time": "2023-10-20T00:49:23.066118Z"
    }
   },
   "outputs": [],
   "source": [
    "import json\n",
    "from collections import defaultdict, Counter"
   ]
  },
  {
   "cell_type": "code",
   "execution_count": 45,
   "id": "dd3e5824127f97f8",
   "metadata": {
    "collapsed": false,
    "ExecuteTime": {
     "end_time": "2023-10-20T00:49:23.355477Z",
     "start_time": "2023-10-20T00:49:23.072219Z"
    }
   },
   "outputs": [],
   "source": [
    "file_names = [\"test\", \"dev\", \"train\"]\n",
    "coref_files = [f\"../Raw/Coref/{file_name}.jsonlines\" for file_name in file_names]\n",
    "files = [f\"../Raw/{file_name}.jsonl\" for file_name in file_names]\n",
    "data = defaultdict(list)\n",
    "for file, name in zip(files, file_names):\n",
    "    for line in open(file).readlines():\n",
    "        data[name].append(json.loads(line))"
   ]
  },
  {
   "cell_type": "code",
   "execution_count": 45,
   "id": "6cfc0c4606df76ef",
   "metadata": {
    "collapsed": false,
    "ExecuteTime": {
     "end_time": "2023-10-20T00:49:23.359174Z",
     "start_time": "2023-10-20T00:49:23.356406Z"
    }
   },
   "outputs": [],
   "source": []
  },
  {
   "cell_type": "code",
   "execution_count": 46,
   "id": "8825c609ab76e1a0",
   "metadata": {
    "collapsed": false,
    "ExecuteTime": {
     "end_time": "2023-10-20T00:49:23.392984Z",
     "start_time": "2023-10-20T00:49:23.390756Z"
    }
   },
   "outputs": [],
   "source": [
    "counts = defaultdict(Counter)\n",
    "for file in file_names:\n",
    "    list_of_list = [[event['event_type'] for event in example['event_mentions']] for example in data[file]]\n",
    "    for lst in list_of_list:\n",
    "        counts['event_type'].update(lst)\n",
    "        counts['event_type_level0'].update([x.split(\".\")[0] for x in lst])\n",
    "        counts['event_type_level1'].update([\".\".join(x.split(\".\")[:2]) for x in lst])\n",
    "        counts[f'event_type_{file}'].update(lst)\n",
    "        counts[f'event_type_level0_{file}'].update([x.split(\".\")[0] for x in lst])\n",
    "        counts[f'event_type_level1_{file}'].update([\".\".join(x.split(\".\")[:2]) for x in lst])\n",
    "    list_of_list = [[[arg['role'] for arg in event['arguments']] for event in example['event_mentions']] for example in\n",
    "                    data[file]]\n",
    "    for lst in list_of_list:\n",
    "        for args in lst:\n",
    "            counts['role_type'].update(args)\n",
    "            counts[f'role_type_{file}'].update(args)"
   ]
  },
  {
   "cell_type": "code",
   "execution_count": 47,
   "id": "3ddc9f66bbd9dcdd",
   "metadata": {
    "collapsed": false,
    "ExecuteTime": {
     "end_time": "2023-10-20T00:49:23.400430Z",
     "start_time": "2023-10-20T00:49:23.395467Z"
    }
   },
   "outputs": [
    {
     "data": {
      "text/plain": "Counter({'Life.Die.Unspecified': 525,\n         'Conflict.Attack.DetonateExplode': 823,\n         'Cognitive.IdentifyCategorize.Unspecified': 60,\n         'Life.Injure.Unspecified': 301,\n         'Contact.Contact.Correspondence': 18,\n         'Movement.Transportation.Unspecified': 156,\n         'Contact.Contact.Meet': 53,\n         'GenericCrime.GenericCrime.GenericCrime': 75,\n         'Justice.Sentence.Unspecified': 61,\n         'ArtifactExistence.DamageDestroyDisableDismantle.Damage': 48,\n         'Conflict.Attack.Unspecified': 411,\n         'Justice.ChargeIndict.Unspecified': 104,\n         'ArtifactExistence.DamageDestroyDisableDismantle.Destroy': 51,\n         'ArtifactExistence.ManufactureAssemble.Unspecified': 69,\n         'Cognitive.Inspection.SensoryObserve': 37,\n         'Cognitive.Research.Unspecified': 11,\n         'Justice.ArrestJailDetain.Unspecified': 188,\n         'Contact.Contact.Unspecified': 202,\n         'Contact.ThreatenCoerce.Unspecified': 26,\n         'Contact.Contact.Broadcast': 195,\n         'ArtifactExistence.DamageDestroyDisableDismantle.Dismantle': 8,\n         'Medical.Intervention.Unspecified': 23,\n         'Justice.TrialHearing.Unspecified': 41,\n         'Transaction.ExchangeBuySell.Unspecified': 69,\n         'Personnel.StartPosition.Unspecified': 4,\n         'Contact.RequestCommand.Correspondence': 1,\n         'Movement.Transportation.IllegalTransportation': 14,\n         'Justice.InvestigateCrime.Unspecified': 92,\n         'ArtifactExistence.DamageDestroyDisableDismantle.DisableDefuse': 8,\n         'Disaster.Crash.Unspecified': 10,\n         'Contact.RequestCommand.Unspecified': 32,\n         'Control.ImpedeInterfereWith.Unspecified': 14,\n         'Conflict.Demonstrate.Unspecified': 32,\n         'Disaster.DiseaseOutbreak.Unspecified': 15,\n         'Personnel.EndPosition.Unspecified': 6,\n         'Conflict.Demonstrate.DemonstrateWithViolence': 5,\n         'Contact.RequestCommand.Broadcast': 5,\n         'Contact.ThreatenCoerce.Broadcast': 5,\n         'Movement.Transportation.Evacuation': 26,\n         'Justice.ReleaseParole.Unspecified': 15,\n         'Justice.Convict.Unspecified': 52,\n         'Contact.RequestCommand.Meet': 3,\n         'Justice.Acquit.Unspecified': 4,\n         'Movement.Transportation.PreventPassage': 22,\n         'Conflict.Defeat.Unspecified': 5,\n         'Life.Infect.Unspecified': 4,\n         'ArtifactExistence.DamageDestroyDisableDismantle.Unspecified': 11,\n         'Contact.ThreatenCoerce.Correspondence': 3,\n         'Cognitive.TeachingTrainingLearning.Unspecified': 7,\n         'Transaction.Donation.Unspecified': 1})"
     },
     "execution_count": 47,
     "metadata": {},
     "output_type": "execute_result"
    }
   ],
   "source": [
    "counts['event_type']"
   ]
  },
  {
   "cell_type": "code",
   "execution_count": 48,
   "id": "cfd916cf5511c849",
   "metadata": {
    "collapsed": false,
    "ExecuteTime": {
     "end_time": "2023-10-20T00:49:23.404754Z",
     "start_time": "2023-10-20T00:49:23.400539Z"
    }
   },
   "outputs": [
    {
     "data": {
      "text/plain": "Counter({'Life': 830,\n         'Conflict': 1276,\n         'Cognitive': 115,\n         'Contact': 543,\n         'Movement': 218,\n         'GenericCrime': 75,\n         'Justice': 557,\n         'ArtifactExistence': 195,\n         'Medical': 23,\n         'Transaction': 70,\n         'Personnel': 10,\n         'Disaster': 25,\n         'Control': 14})"
     },
     "execution_count": 48,
     "metadata": {},
     "output_type": "execute_result"
    }
   ],
   "source": [
    "counts['event_type_level0']"
   ]
  },
  {
   "cell_type": "code",
   "execution_count": 49,
   "id": "98f53e1b8ab8bac7",
   "metadata": {
    "collapsed": false,
    "ExecuteTime": {
     "end_time": "2023-10-20T00:49:23.411346Z",
     "start_time": "2023-10-20T00:49:23.405823Z"
    }
   },
   "outputs": [
    {
     "data": {
      "text/plain": "Counter({'Life.Die': 525,\n         'Conflict.Attack': 1234,\n         'Cognitive.IdentifyCategorize': 60,\n         'Life.Injure': 301,\n         'Contact.Contact': 468,\n         'Movement.Transportation': 218,\n         'GenericCrime.GenericCrime': 75,\n         'Justice.Sentence': 61,\n         'ArtifactExistence.DamageDestroyDisableDismantle': 126,\n         'Justice.ChargeIndict': 104,\n         'ArtifactExistence.ManufactureAssemble': 69,\n         'Cognitive.Inspection': 37,\n         'Cognitive.Research': 11,\n         'Justice.ArrestJailDetain': 188,\n         'Contact.ThreatenCoerce': 34,\n         'Medical.Intervention': 23,\n         'Justice.TrialHearing': 41,\n         'Transaction.ExchangeBuySell': 69,\n         'Personnel.StartPosition': 4,\n         'Contact.RequestCommand': 41,\n         'Justice.InvestigateCrime': 92,\n         'Disaster.Crash': 10,\n         'Control.ImpedeInterfereWith': 14,\n         'Conflict.Demonstrate': 37,\n         'Disaster.DiseaseOutbreak': 15,\n         'Personnel.EndPosition': 6,\n         'Justice.ReleaseParole': 15,\n         'Justice.Convict': 52,\n         'Justice.Acquit': 4,\n         'Conflict.Defeat': 5,\n         'Life.Infect': 4,\n         'Cognitive.TeachingTrainingLearning': 7,\n         'Transaction.Donation': 1})"
     },
     "execution_count": 49,
     "metadata": {},
     "output_type": "execute_result"
    }
   ],
   "source": [
    "counts['event_type_level1']"
   ]
  },
  {
   "cell_type": "code",
   "execution_count": 50,
   "id": "eea7d5eb01438ada",
   "metadata": {
    "collapsed": false,
    "ExecuteTime": {
     "end_time": "2023-10-20T00:49:23.441212Z",
     "start_time": "2023-10-20T00:49:23.413463Z"
    }
   },
   "outputs": [
    {
     "name": "stdout",
     "output_type": "stream",
     "text": [
      "25\n",
      "25\n",
      "33\n",
      "Test/Dev Event types are not in training: set()\n",
      "Training Event types are not in Test/Dev: {'Cognitive.TeachingTrainingLearning', 'Justice.Acquit', 'Conflict.Defeat', 'Transaction.Donation', 'Life.Infect'}\n",
      "28\n"
     ]
    }
   ],
   "source": [
    "print(len(set(counts['event_type_level1_test'].keys())))\n",
    "print(len(set(counts['event_type_level1_dev'].keys())))\n",
    "print(len(set(counts['event_type_level1_train'].keys())))\n",
    "print(\"Test/Dev Event types are not in training:\",\n",
    "      set(counts['event_type_level1_test'].keys()).union(set(counts['event_type_level1_dev'].keys())).difference(\n",
    "          set(counts['event_type_level1_train'].keys())))\n",
    "print(\"Training Event types are not in Test/Dev:\", set(counts['event_type_level1_train'].keys()).difference(\n",
    "    set(counts['event_type_level1_test'].keys()).union(set(counts['event_type_level1_dev'].keys()))))\n",
    "\n",
    "chosen_event_types = set(counts['event_type_level1_train'].keys()).intersection(\n",
    "    set(counts['event_type_level1_test'].keys()).union(set(counts['event_type_level1_dev'].keys())))\n",
    "print(len(chosen_event_types))"
   ]
  },
  {
   "cell_type": "code",
   "execution_count": 51,
   "id": "b90a629bae98d64a",
   "metadata": {
    "collapsed": false,
    "ExecuteTime": {
     "end_time": "2023-10-20T00:49:23.448386Z",
     "start_time": "2023-10-20T00:49:23.420580Z"
    }
   },
   "outputs": [
    {
     "name": "stdout",
     "output_type": "stream",
     "text": [
      "13\n",
      "13\n",
      "13\n"
     ]
    },
    {
     "data": {
      "text/plain": "set()"
     },
     "execution_count": 51,
     "metadata": {},
     "output_type": "execute_result"
    }
   ],
   "source": [
    "print(len(set(counts['event_type_level0_test'].keys())))\n",
    "print(len(set(counts['event_type_level0_dev'].keys())))\n",
    "print(len(set(counts['event_type_level0_train'].keys())))\n",
    "set(counts['event_type_level0_test'].keys()).union(set(counts['event_type_level0_dev'].keys())).difference(\n",
    "    set(counts['event_type_level0_train'].keys()))"
   ]
  },
  {
   "cell_type": "code",
   "execution_count": 52,
   "id": "8f64c8d9c0e6b984",
   "metadata": {
    "collapsed": false,
    "ExecuteTime": {
     "end_time": "2023-10-20T00:49:23.448859Z",
     "start_time": "2023-10-20T00:49:23.428422Z"
    }
   },
   "outputs": [
    {
     "name": "stdout",
     "output_type": "stream",
     "text": [
      "34\n",
      "35\n",
      "49\n"
     ]
    },
    {
     "data": {
      "text/plain": "{'Contact.RequestCommand.Correspondence'}"
     },
     "execution_count": 52,
     "metadata": {},
     "output_type": "execute_result"
    }
   ],
   "source": [
    "print(len(set(counts['event_type_test'].keys())))\n",
    "print(len(set(counts['event_type_dev'].keys())))\n",
    "print(len(set(counts['event_type_train'].keys())))\n",
    "set(counts['event_type_test'].keys()).union(set(counts['event_type_dev'].keys())).difference(\n",
    "    set(counts['event_type_train'].keys()))"
   ]
  },
  {
   "cell_type": "code",
   "execution_count": 52,
   "id": "7ab1c9adf3d4b3a2",
   "metadata": {
    "collapsed": false,
    "ExecuteTime": {
     "end_time": "2023-10-20T00:49:23.448941Z",
     "start_time": "2023-10-20T00:49:23.432625Z"
    }
   },
   "outputs": [],
   "source": []
  },
  {
   "cell_type": "code",
   "execution_count": 53,
   "id": "5f4051eb2ce65742",
   "metadata": {
    "collapsed": false,
    "ExecuteTime": {
     "end_time": "2023-10-20T00:49:23.449036Z",
     "start_time": "2023-10-20T00:49:23.436744Z"
    }
   },
   "outputs": [
    {
     "data": {
      "text/plain": "44"
     },
     "execution_count": 53,
     "metadata": {},
     "output_type": "execute_result"
    }
   ],
   "source": [
    "chosen_argument_types = set(counts['role_type_train'].keys()).intersection(set(counts['role_type_test'].keys()).union(\n",
    "    set(counts['role_type_dev'].keys())))\n",
    "len(chosen_argument_types)"
   ]
  },
  {
   "cell_type": "code",
   "execution_count": 54,
   "id": "960dd72b3bf830c2",
   "metadata": {
    "collapsed": false,
    "ExecuteTime": {
     "end_time": "2023-10-20T00:49:23.449572Z",
     "start_time": "2023-10-20T00:49:23.441316Z"
    }
   },
   "outputs": [
    {
     "data": {
      "text/plain": "2"
     },
     "execution_count": 54,
     "metadata": {},
     "output_type": "execute_result"
    }
   ],
   "source": [
    "len(set(counts['role_type_test'].keys()).union(set(counts['role_type_dev'].keys())).difference(\n",
    "    set(counts['role_type_train'].keys())))"
   ]
  },
  {
   "cell_type": "code",
   "execution_count": 55,
   "id": "7f041056d9ae86f1",
   "metadata": {
    "collapsed": false,
    "ExecuteTime": {
     "end_time": "2023-10-20T00:49:23.517355Z",
     "start_time": "2023-10-20T00:49:23.447304Z"
    }
   },
   "outputs": [],
   "source": [
    "\n",
    "universal_coref = defaultdict(list)\n",
    "universal_informative_mentions = defaultdict(list)\n",
    "\n",
    "for coref_filename in coref_files:\n",
    "    lines = open(coref_filename).readlines()\n",
    "    jsons = [json.loads(line) for line in lines]\n",
    "    for j in jsons:\n",
    "        for list_of_ids in j['clusters']:\n",
    "            for id in list_of_ids:\n",
    "                for id2 in list_of_ids:\n",
    "                    if id2 != id:\n",
    "                        universal_coref[id].append(id2)\n",
    "        universal_informative_mentions[j['doc_key']] = j['informative_mentions']"
   ]
  },
  {
   "cell_type": "code",
   "execution_count": 60,
   "id": "32c4a1a76f228ef3",
   "metadata": {
    "collapsed": false,
    "ExecuteTime": {
     "end_time": "2023-10-20T01:20:54.699875Z",
     "start_time": "2023-10-20T01:20:54.443068Z"
    }
   },
   "outputs": [],
   "source": [
    "gtt_formats = defaultdict(list)\n",
    "index = 0\n",
    "\n",
    "event_type_to_ordering = defaultdict(list)\n",
    "event_type_to_templates = defaultdict(list)\n",
    "\n",
    "\n",
    "def token_index_to_text_index(tokens, token_index):\n",
    "    return len(\" \".join(tokens[:token_index]).replace(\" \\\\u\", \"\\\\u\"))\n",
    "\n",
    "\n",
    "for file in file_names:\n",
    "    for example in data[file]:\n",
    "        index += 1\n",
    "        new_example = {'original_doc_id': example[\"doc_id\"], 'docid': index,\n",
    "                       'doctext': \" \".join(example['tokens']).replace(\" \\\\u\", \"\\\\u\"), 'token': example['tokens'],\n",
    "                       'templates': []}\n",
    "        gtt_formats[file].append(new_example)\n",
    "        for event in example['event_mentions']:\n",
    "            event_type = event['event_type'][:event['event_type'].rindex('.')]\n",
    "            new_template = {\"incident_type\": event_type, \"Trigger\": event['trigger']['text'],\n",
    "                            \"TriggerIndex\": len(\n",
    "                                \" \".join(example['tokens'][:event[\"trigger\"][\"start\"]]).replace(\" \\\\u\", \"\\\\u\"))}\n",
    "            event_type_to_templates[event_type].append(new_template)\n",
    "            new_example['templates'].append(new_template)\n",
    "            ordering = event_type_to_ordering[event_type]\n",
    "            for role in ordering:\n",
    "                new_template[role] = []\n",
    "\n",
    "            for argument in event['arguments']:\n",
    "                role = argument['role']\n",
    "                if role not in new_template:\n",
    "                    ordering.append(role)\n",
    "                    for template in event_type_to_templates[event_type]:\n",
    "                        template[role] = []\n",
    "                argument_mention = [x for x in example['entity_mentions'] if x['id'] == argument['entity_id']][0]\n",
    "\n",
    "                new_template[role].append(\n",
    "                    [[argument['text'], token_index_to_text_index(example['tokens'], argument_mention['start'])]])\n",
    "                pass\n"
   ]
  },
  {
   "cell_type": "markdown",
   "id": "3de0e6c39d5de553",
   "metadata": {
    "collapsed": false
   },
   "source": []
  },
  {
   "cell_type": "code",
   "execution_count": 61,
   "id": "8ea40d0ae7145d65",
   "metadata": {
    "collapsed": false,
    "ExecuteTime": {
     "end_time": "2023-10-20T01:20:55.596782Z",
     "start_time": "2023-10-20T01:20:55.592736Z"
    }
   },
   "outputs": [],
   "source": [
    "gtt_formats = dict(gtt_formats)\n",
    "pass"
   ]
  },
  {
   "cell_type": "code",
   "execution_count": 62,
   "outputs": [],
   "source": [
    "for filename, records in gtt_formats.items():\n",
    "    with open(filename + \".jsonl\", 'w') as f:\n",
    "        for record in records:\n",
    "            json_str = json.dumps(record)\n",
    "            f.write(json_str + '\\n')\n"
   ],
   "metadata": {
    "collapsed": false,
    "ExecuteTime": {
     "end_time": "2023-10-20T01:20:55.869742Z",
     "start_time": "2023-10-20T01:20:55.835554Z"
    }
   },
   "id": "57c38c19e89958b8"
  },
  {
   "cell_type": "code",
   "execution_count": 63,
   "outputs": [],
   "source": [
    "json.dump(dict(event_type_to_ordering), open(\"EventTypeToRoles.json\", \"w+\"))"
   ],
   "metadata": {
    "collapsed": false,
    "ExecuteTime": {
     "end_time": "2023-10-20T01:20:55.875421Z",
     "start_time": "2023-10-20T01:20:55.871486Z"
    }
   },
   "id": "e8b1054490c227f9"
  },
  {
   "cell_type": "code",
   "execution_count": 63,
   "outputs": [],
   "source": [],
   "metadata": {
    "collapsed": false,
    "ExecuteTime": {
     "end_time": "2023-10-20T01:20:56.113079Z",
     "start_time": "2023-10-20T01:20:56.110264Z"
    }
   },
   "id": "72bdcb5c423faaef"
  },
  {
   "cell_type": "code",
   "execution_count": null,
   "outputs": [],
   "source": [],
   "metadata": {
    "collapsed": false
   },
   "id": "e98a58b44bf080e0"
  }
 ],
 "metadata": {
  "kernelspec": {
   "display_name": "Python 3",
   "language": "python",
   "name": "python3"
  },
  "language_info": {
   "codemirror_mode": {
    "name": "ipython",
    "version": 2
   },
   "file_extension": ".py",
   "mimetype": "text/x-python",
   "name": "python",
   "nbconvert_exporter": "python",
   "pygments_lexer": "ipython2",
   "version": "2.7.6"
  }
 },
 "nbformat": 4,
 "nbformat_minor": 5
}
