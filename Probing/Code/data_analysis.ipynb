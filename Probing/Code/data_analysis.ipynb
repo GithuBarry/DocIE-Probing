{
 "cells": [
  {
   "cell_type": "code",
   "execution_count": 86,
   "metadata": {
    "collapsed": true,
    "ExecuteTime": {
     "end_time": "2023-05-01T02:13:57.617973Z",
     "start_time": "2023-05-01T02:13:57.611983Z"
    }
   },
   "outputs": [],
   "source": [
    "\n",
    "import json\n",
    "import os\n",
    "from collections import defaultdict"
   ]
  },
  {
   "cell_type": "code",
   "execution_count": 87,
   "outputs": [],
   "source": [
    "def sort_dict_by_key(dictionary):\n",
    "    sorted_dict = dict(sorted(dictionary.items()))\n",
    "    return sorted_dict"
   ],
   "metadata": {
    "collapsed": false,
    "ExecuteTime": {
     "end_time": "2023-05-01T02:13:57.851904Z",
     "start_time": "2023-05-01T02:13:57.848894Z"
    }
   }
  },
  {
   "cell_type": "code",
   "execution_count": 88,
   "outputs": [
    {
     "name": "stdout",
     "output_type": "stream",
     "text": [
      "../Results-MLPwAttention-Bucketed/probresult_Y_bucket_num_events_muc1700_X_GTT_layer_last_bert-uncased_epoch20_muc1700_epoch48_nhid400.json\n",
      "../Results-MLPwAttention-Bucketed/probresult_Y_bucket_num_sent_muc1700_X_TANL_layer_0_bert-uncased_epoch20_muc1700_epoch52_nhid800.json\n",
      "../Results-MLPwAttention-Bucketed/probresult_Y_bucket_num_sent_muc1700_X_GTT_layer_last_bert-uncased_epoch20_muc1700_epoch56_nhid800.json\n",
      "../Results-MLPwAttention-Bucketed/probresult_Y_bucket_num_words_muc1700_X_GTT_layer_last_bert-uncased_epoch20_muc1700_epoch52_nhid400.json\n",
      "../Results-MLPwAttention-Bucketed/probresult_Y_bucket_num_sent_muc1700_X_GTT_layer_last_bert-uncased_epoch20_muc1700_epoch60_nhid400.json\n",
      "../Results-MLPwAttention-Bucketed/probresult_Y_bucket_num_words_muc1700_X_GTT_layer_last_bert-uncased_epoch20_muc1700_epoch52_nhid800.json\n",
      "../Results-MLPwAttention-Bucketed/probresult_Y_bucket_num_words_muc1700_X_TANL_layer_last_bert-uncased_epoch20_muc1700_epoch64_nhid800.json\n",
      "../Results-MLPwAttention-Bucketed/probresult_Y_bucket_num_events_muc1700_X_dygiepp_embedding-unpadded_bert-uncased_epoch21_muc1700_epoch68.json\n",
      "../Results-MLPwAttention-Bucketed/probresult_Y_bucket_num_sent_muc1700_X_GTT_layer_last_bert-uncased_epoch20_muc1700_epoch52_nhid100.json\n",
      "../Results-MLPwAttention-Bucketed/probresult_Y_bucket_num_words_muc1700_X_GTT_layer_last_bert-uncased_epoch20_muc1700_epoch60_nhid100.json\n",
      "../Results-MLPwAttention-Bucketed/probresult_Y_bucket_num_sent_muc1700_X_TANL_layer_0_bert-uncased_epoch20_muc1700_epoch56_nhid100.json\n",
      "../Results-MLPwAttention-Bucketed/probresult_Y_bucket_num_sent_muc1700_X_TANL_layer_last_bert-uncased_epoch20_muc1700_epoch56_nhid100.json\n",
      "../Results-MLPwAttention-Bucketed/probresult_Y_bucket_num_words_muc1700_X_dygiepp_embedding-unpadded_bert-uncased_epoch21_muc1700_epoch72_nhid400.json\n",
      "../Results-MLPwAttention-Bucketed/probresult_Y_bucket_num_sent_muc1700_X_TANL_layer_last_bert-uncased_epoch20_muc1700_epoch52.json\n",
      "../Results-MLPwAttention-Bucketed/probresult_Y_bucket_num_sent_muc1700_X_TANL_layer_0_bert-uncased_epoch20_muc1700_epoch52.json\n",
      "../Results-MLPwAttention-Bucketed/probresult_Y_bucket_num_sent_muc1700_X_GTT_layer_0_bert-uncased_epoch20_muc1700_epoch60.json\n",
      "../Results-MLPwAttention-Bucketed/probresult_Y_bucket_num_events_muc1700_X_GTT_layer_0_bert-uncased_epoch20_muc1700_epoch56_nhid800.json\n",
      "../Results-MLPwAttention-Bucketed/probresult_Y_bucket_num_words_muc1700_X_TANL_layer_0_bert-uncased_epoch20_muc1700_epoch60_nhid100.json\n",
      "../Results-MLPwAttention-Bucketed/probresult_Y_bucket_num_words_muc1700_X_GTT_layer_0_bert-uncased_epoch20_muc1700_epoch56_nhid800.json\n",
      "../Results-MLPwAttention-Bucketed/probresult_Y_bucket_num_events_muc1700_X_TANL_layer_0_bert-uncased_epoch20_muc1700_epoch48_nhid400.json\n",
      "../Results-MLPwAttention-Bucketed/probresult_Y_bucket_num_sent_muc1700_X_TANL_layer_last_bert-uncased_epoch20_muc1700_epoch64_nhid800.json\n",
      "../Results-MLPwAttention-Bucketed/probresult_Y_bucket_num_events_muc1700_X_TANL_layer_0_bert-uncased_epoch20_muc1700_epoch48_nhid800.json\n",
      "../Results-MLPwAttention-Bucketed/probresult_Y_bucket_num_sent_muc1700_X_dygiepp_embedding-unpadded_bert-uncased_epoch21_muc1700_epoch64_nhid800.json\n",
      "../Results-MLPwAttention-Bucketed/probresult_Y_bucket_num_events_muc1700_X_GTT_layer_0_bert-uncased_epoch20_muc1700_epoch64_nhid100.json\n",
      "../Results-MLPwAttention-Bucketed/probresult_Y_bucket_num_sent_muc1700_X_GTT_layer_last_bert-uncased_epoch20_muc1700_epoch60.json\n",
      "../Results-MLPwAttention-Bucketed/probresult_Y_bucket_num_sent_muc1700_X_dygiepp_embedding-unpadded_bert-uncased_epoch21_muc1700_epoch60.json\n",
      "../Results-MLPwAttention-Bucketed/probresult_Y_bucket_num_events_muc1700_X_dygiepp_embedding-unpadded_bert-uncased_epoch21_muc1700_epoch56_nhid100.json\n",
      "../Results-MLPwAttention-Bucketed/probresult_Y_bucket_num_words_muc1700_X_dygiepp_embedding-unpadded_bert-uncased_epoch21_muc1700_epoch76_nhid100.json\n",
      "../Results-MLPwAttention-Bucketed/probresult_Y_bucket_num_words_muc1700_X_GTT_layer_0_bert-uncased_epoch20_muc1700_epoch60_nhid400.json\n",
      "../Results-MLPwAttention-Bucketed/probresult_Y_bucket_num_events_muc1700_X_dygiepp_embedding-unpadded_bert-uncased_epoch21_muc1700_epoch56_nhid400.json\n",
      "../Results-MLPwAttention-Bucketed/probresult_Y_bucket_num_words_muc1700_X_GTT_layer_0_bert-uncased_epoch20_muc1700_epoch60_nhid100.json\n",
      "../Results-MLPwAttention-Bucketed/probresult_Y_bucket_num_words_muc1700_X_dygiepp_embedding-unpadded_bert-uncased_epoch21_muc1700_epoch76_nhid800.json\n",
      "../Results-MLPwAttention-Bucketed/probresult_Y_bucket_num_sent_muc1700_X_GTT_layer_0_bert-uncased_epoch20_muc1700_epoch52_nhid100.json\n",
      "../Results-MLPwAttention-Bucketed/probresult_Y_bucket_num_events_muc1700_X_TANL_layer_0_bert-uncased_epoch20_muc1700_epoch48_nhid100.json\n",
      "../Results-MLPwAttention-Bucketed/probresult_Y_bucket_num_events_muc1700_X_dygiepp_embedding-unpadded_bert-uncased_epoch21_muc1700_epoch60_nhid800.json\n",
      "../Results-MLPwAttention-Bucketed/probresult_Y_bucket_num_events_muc1700_X_GTT_layer_last_bert-uncased_epoch20_muc1700_epoch52_nhid800.json\n",
      "../Results-MLPwAttention-Bucketed/probresult_Y_bucket_num_events_muc1700_X_TANL_layer_0_bert-uncased_epoch20_muc1700_epoch48.json\n",
      "../Results-MLPwAttention-Bucketed/probresult_Y_bucket_num_words_muc1700_X_TANL_layer_last_bert-uncased_epoch20_muc1700_epoch68.json\n",
      "../Results-MLPwAttention-Bucketed/probresult_Y_bucket_num_words_muc1700_X_TANL_layer_0_bert-uncased_epoch20_muc1700_epoch60_nhid800.json\n",
      "../Results-MLPwAttention-Bucketed/probresult_Y_bucket_num_sent_muc1700_X_GTT_layer_0_bert-uncased_epoch20_muc1700_epoch56_nhid400.json\n",
      "../Results-MLPwAttention-Bucketed/probresult_Y_bucket_num_sent_muc1700_X_TANL_layer_last_bert-uncased_epoch20_muc1700_epoch60_nhid400.json\n",
      "../Results-MLPwAttention-Bucketed/probresult_Y_bucket_num_sent_muc1700_X_GTT_layer_0_bert-uncased_epoch20_muc1700_epoch56_nhid800.json\n",
      "../Results-MLPwAttention-Bucketed/probresult_Y_bucket_num_words_muc1700_X_GTT_layer_last_bert-uncased_epoch20_muc1700_epoch56.json\n",
      "../Results-MLPwAttention-Bucketed/probresult_Y_bucket_num_words_muc1700_X_TANL_layer_0_bert-uncased_epoch20_muc1700_epoch56.json\n",
      "../Results-MLPwAttention-Bucketed/probresult_Y_bucket_num_words_muc1700_X_TANL_layer_0_bert-uncased_epoch20_muc1700_epoch56_nhid400.json\n",
      "../Results-MLPwAttention-Bucketed/probresult_Y_bucket_num_sent_muc1700_X_TANL_layer_0_bert-uncased_epoch20_muc1700_epoch56_nhid400.json\n",
      "../Results-MLPwAttention-Bucketed/probresult_Y_bucket_num_sent_muc1700_X_dygiepp_embedding-unpadded_bert-uncased_epoch21_muc1700_epoch68_nhid100.json\n",
      "../Results-MLPwAttention-Bucketed/probresult_Y_bucket_num_events_muc1700_X_GTT_layer_0_bert-uncased_epoch20_muc1700_epoch68_nhid400.json\n",
      "../Results-MLPwAttention-Bucketed/probresult_Y_bucket_num_sent_muc1700_X_dygiepp_embedding-unpadded_bert-uncased_epoch21_muc1700_epoch80_nhid400.json\n",
      "../Results-MLPwAttention-Bucketed/probresult_Y_bucket_num_words_muc1700_X_TANL_layer_last_bert-uncased_epoch20_muc1700_epoch64_nhid100.json\n",
      "../Results-MLPwAttention-Bucketed/probresult_Y_bucket_num_events_muc1700_X_TANL_layer_last_bert-uncased_epoch20_muc1700_epoch56_nhid100.json\n",
      "../Results-MLPwAttention-Bucketed/probresult_Y_bucket_num_words_muc1700_X_GTT_layer_0_bert-uncased_epoch20_muc1700_epoch56.json\n",
      "../Results-MLPwAttention-Bucketed/probresult_Y_bucket_num_words_muc1700_X_dygiepp_embedding-unpadded_bert-uncased_epoch21_muc1700_epoch72.json\n",
      "../Results-MLPwAttention-Bucketed/probresult_Y_bucket_num_events_muc1700_X_GTT_layer_last_bert-uncased_epoch20_muc1700_epoch48.json\n",
      "../Results-MLPwAttention-Bucketed/probresult_Y_bucket_num_events_muc1700_X_TANL_layer_last_bert-uncased_epoch20_muc1700_epoch68.json\n",
      "../Results-MLPwAttention-Bucketed/probresult_Y_bucket_num_words_muc1700_X_TANL_layer_last_bert-uncased_epoch20_muc1700_epoch72_nhid400.json\n",
      "../Results-MLPwAttention-Bucketed/probresult_Y_bucket_num_events_muc1700_X_GTT_layer_0_bert-uncased_epoch20_muc1700_epoch76.json\n",
      "../Results-MLPwAttention-Bucketed/probresult_Y_bucket_num_events_muc1700_X_TANL_layer_last_bert-uncased_epoch20_muc1700_epoch64_nhid800.json\n",
      "../Results-MLPwAttention-Bucketed/probresult_Y_bucket_num_events_muc1700_X_TANL_layer_last_bert-uncased_epoch20_muc1700_epoch64_nhid400.json\n",
      "../Results-MLPwAttention-Bucketed/probresult_Y_bucket_num_events_muc1700_X_GTT_layer_last_bert-uncased_epoch20_muc1700_epoch48_nhid100.json\n"
     ]
    }
   ],
   "source": [
    "results = defaultdict(lambda: defaultdict(list))\n",
    "results_path = \"../Results-MLPwAttention-Bucketed/\"\n",
    "for file in os.listdir(results_path):\n",
    "    prefix = \"probresult\"\n",
    "    if file[:len(prefix)] == prefix and file[-5:] == \".json\":\n",
    "        print(os.path.join(results_path, file))\n",
    "        with open(os.path.join(results_path, file)) as f:\n",
    "            result = json.load(f)\n",
    "            results[result[\"X\"]][result[\"Y\"]].append(result)\n"
   ],
   "metadata": {
    "collapsed": false,
    "ExecuteTime": {
     "end_time": "2023-05-01T02:13:58.247292Z",
     "start_time": "2023-05-01T02:13:58.082632Z"
    }
   }
  },
  {
   "cell_type": "code",
   "execution_count": 89,
   "outputs": [
    {
     "data": {
      "text/plain": "[dict_keys(['Y_bucket_num_events_muc1700', 'Y_bucket_num_sent_muc1700', 'Y_bucket_num_words_muc1700']),\n dict_keys(['Y_bucket_num_sent_muc1700', 'Y_bucket_num_words_muc1700', 'Y_bucket_num_events_muc1700']),\n dict_keys(['Y_bucket_num_words_muc1700', 'Y_bucket_num_sent_muc1700', 'Y_bucket_num_events_muc1700']),\n dict_keys(['Y_bucket_num_events_muc1700', 'Y_bucket_num_words_muc1700', 'Y_bucket_num_sent_muc1700']),\n dict_keys(['Y_bucket_num_sent_muc1700', 'Y_bucket_num_events_muc1700', 'Y_bucket_num_words_muc1700'])]"
     },
     "execution_count": 89,
     "metadata": {},
     "output_type": "execute_result"
    }
   ],
   "source": [
    "[results[k].keys() for k in results.keys()]"
   ],
   "metadata": {
    "collapsed": false,
    "ExecuteTime": {
     "end_time": "2023-05-01T02:13:58.254645Z",
     "start_time": "2023-05-01T02:13:58.250584Z"
    }
   }
  },
  {
   "cell_type": "code",
   "execution_count": 138,
   "outputs": [],
   "source": [
    "display_dict = {}  # Create an empty dictionary to store the final result\n",
    "\n",
    "for embedding_layer_name, v in results.items():  # Iterate through each key-value pair in the \"results\" dictionary\n",
    "    inner_dict = {}  # Create an empty dictionary to store the inner values\n",
    "    for task_name, list_of_results in v.items():  # Iterate through each key-value pair in the inner dictionary\n",
    "        # Sort the values based on the 'hidden_size' key and extract the 'val_acc' values\n",
    "        sorted_values = sorted([(d['hidden_size'], d['val_acc']) for d in list_of_results], key=lambda p: p[0])\n",
    "        # Extract the 'val_acc' values from the sorted list and assign them to the inner dictionary\n",
    "        inner_dict[task_name] = [p[1] for p in sorted_values]\n",
    "        inner_dict[task_name] = [str(p) + (\"*\" if p == max(inner_dict[task_name]) else \"\") for p in\n",
    "                                 inner_dict[task_name]]\n",
    "    # Remove the last 29 characters in column names (\"_bert-uncased_epoch20_muc1700\")\n",
    "    display_dict[embedding_layer_name[2:-29]] = inner_dict\n",
    "\n",
    "df = pd.DataFrame.from_dict(sort_dict_by_key(display_dict), orient='index')\n",
    "df_aligned = df.applymap(lambda l: [x.ljust(6) for x in l])\n",
    "\n",
    "df_aligned.columns.name = \"val acc of hidden size\\n [100, 200, 400, 800]\\nbert-uncased, muc1700\\n * = best performance in cell\""
   ],
   "metadata": {
    "collapsed": false,
    "ExecuteTime": {
     "end_time": "2023-05-01T02:35:28.078113Z",
     "start_time": "2023-05-01T02:35:28.072826Z"
    }
   }
  },
  {
   "cell_type": "code",
   "execution_count": 139,
   "outputs": [
    {
     "data": {
      "text/plain": "val acc of hidden size\n [100, 200, 400, 800]\nbert-uncased, muc1700\n * = best performance in cell         Y_bucket_num_sent_muc1700  \\\nGTT_layer_0                                                                                       [0.15  , 0.155*, 0.135 , 0.15  ]   \nGTT_layer_last                                                                                    [0.14  , 0.145 , 0.175*, 0.14  ]   \nTANL_layer_0                                                                                      [0.12  , 0.175*, 0.175*, 0.175*]   \nTANL_layer_last                                                                                   [0.405 , 0.41  , 0.405 , 0.415*]   \ndygiepp_embedding-unpadded                                                                        [0.595*, 0.545 , 0.555 , 0.485 ]   \n\nval acc of hidden size\n [100, 200, 400, 800]\nbert-uncased, muc1700\n * = best performance in cell       Y_bucket_num_events_muc1700  \\\nGTT_layer_0                                                                                       [0.435 , 0.465*, 0.45  , 0.435 ]   \nGTT_layer_last                                                                                    [0.42  , 0.42  , 0.415 , 0.425*]   \nTANL_layer_0                                                                                      [0.42  , 0.49  , 0.535*, 0.485 ]   \nTANL_layer_last                                                                                   [0.67  , 0.685 , 0.7   , 0.715*]   \ndygiepp_embedding-unpadded                                                                        [0.7   , 0.705 , 0.7   , 0.71* ]   \n\nval acc of hidden size\n [100, 200, 400, 800]\nbert-uncased, muc1700\n * = best performance in cell        Y_bucket_num_words_muc1700  \nGTT_layer_0                                                                                       [0.14  , 0.145*, 0.125 , 0.125 ]  \nGTT_layer_last                                                                                    [0.135 , 0.145 , 0.15* , 0.13  ]  \nTANL_layer_0                                                                                      [0.125 , 0.175 , 0.14  , 0.19* ]  \nTANL_layer_last                                                                                   [0.555*, 0.545 , 0.545 , 0.55  ]  \ndygiepp_embedding-unpadded                                                                        [0.62* , 0.61  , 0.61  , 0.56  ]  ",
      "text/html": "<div>\n<style scoped>\n    .dataframe tbody tr th:only-of-type {\n        vertical-align: middle;\n    }\n\n    .dataframe tbody tr th {\n        vertical-align: top;\n    }\n\n    .dataframe thead th {\n        text-align: right;\n    }\n</style>\n<table border=\"1\" class=\"dataframe\">\n  <thead>\n    <tr style=\"text-align: right;\">\n      <th>val acc of hidden size\n [100, 200, 400, 800]\nbert-uncased, muc1700\n * = best performance in cell</th>\n      <th>Y_bucket_num_sent_muc1700</th>\n      <th>Y_bucket_num_events_muc1700</th>\n      <th>Y_bucket_num_words_muc1700</th>\n    </tr>\n  </thead>\n  <tbody>\n    <tr>\n      <th>GTT_layer_0</th>\n      <td>[0.15  , 0.155*, 0.135 , 0.15  ]</td>\n      <td>[0.435 , 0.465*, 0.45  , 0.435 ]</td>\n      <td>[0.14  , 0.145*, 0.125 , 0.125 ]</td>\n    </tr>\n    <tr>\n      <th>GTT_layer_last</th>\n      <td>[0.14  , 0.145 , 0.175*, 0.14  ]</td>\n      <td>[0.42  , 0.42  , 0.415 , 0.425*]</td>\n      <td>[0.135 , 0.145 , 0.15* , 0.13  ]</td>\n    </tr>\n    <tr>\n      <th>TANL_layer_0</th>\n      <td>[0.12  , 0.175*, 0.175*, 0.175*]</td>\n      <td>[0.42  , 0.49  , 0.535*, 0.485 ]</td>\n      <td>[0.125 , 0.175 , 0.14  , 0.19* ]</td>\n    </tr>\n    <tr>\n      <th>TANL_layer_last</th>\n      <td>[0.405 , 0.41  , 0.405 , 0.415*]</td>\n      <td>[0.67  , 0.685 , 0.7   , 0.715*]</td>\n      <td>[0.555*, 0.545 , 0.545 , 0.55  ]</td>\n    </tr>\n    <tr>\n      <th>dygiepp_embedding-unpadded</th>\n      <td>[0.595*, 0.545 , 0.555 , 0.485 ]</td>\n      <td>[0.7   , 0.705 , 0.7   , 0.71* ]</td>\n      <td>[0.62* , 0.61  , 0.61  , 0.56  ]</td>\n    </tr>\n  </tbody>\n</table>\n</div>"
     },
     "execution_count": 139,
     "metadata": {},
     "output_type": "execute_result"
    }
   ],
   "source": [
    "df_aligned"
   ],
   "metadata": {
    "collapsed": false,
    "ExecuteTime": {
     "end_time": "2023-05-01T02:35:28.442015Z",
     "start_time": "2023-05-01T02:35:28.436178Z"
    }
   }
  },
  {
   "cell_type": "code",
   "execution_count": 140,
   "outputs": [],
   "source": [
    "display_dict = {}  # Create an empty dictionary to store the final result\n",
    "\n",
    "for embedding_layer_name, v in results.items():  # Iterate through each key-value pair in the \"results\" dictionary\n",
    "    inner_dict = {}  # Create an empty dictionary to store the inner values\n",
    "    for task_name, list_of_results in v.items():  # Iterate through each key-value pair in the inner dictionary\n",
    "        # Sort the values based on the 'hidden_size' key and extract the 'val_acc' values\n",
    "        sorted_values = sorted([(d['hidden_size'], d['test_acc']) for d in list_of_results], key=lambda p: p[0])\n",
    "        # Extract the 'val_acc' values from the sorted list and assign them to the inner dictionary\n",
    "        inner_dict[task_name] = [p[1] for p in sorted_values]\n",
    "        inner_dict[task_name] = [str(p) + (\"*\" if p == max(inner_dict[task_name]) else \"\") for p in\n",
    "                                 inner_dict[task_name]]\n",
    "    # Remove the last 29 characters in column names (\"_bert-uncased_epoch**_muc1700\")\n",
    "    display_dict[embedding_layer_name[2:-29]] = inner_dict\n",
    "\n",
    "df = pd.DataFrame.from_dict(sort_dict_by_key(display_dict), orient='index')\n",
    "df_aligned = df.applymap(lambda l: [x.ljust(6) for x in l])\n",
    "\n",
    "df_aligned.columns.name = \"Test acc of hidden size\\n [100, 200, 400, 800]\\nbert-uncased, muc1700\\n * = best performance in cell\""
   ],
   "metadata": {
    "collapsed": false,
    "ExecuteTime": {
     "end_time": "2023-05-01T02:35:28.799208Z",
     "start_time": "2023-05-01T02:35:28.789521Z"
    }
   }
  },
  {
   "cell_type": "code",
   "execution_count": 141,
   "outputs": [
    {
     "data": {
      "text/plain": "Test acc of hidden size\n [100, 200, 400, 800]\nbert-uncased, muc1700\n * = best performance in cell         Y_bucket_num_sent_muc1700  \\\nGTT_layer_0                                                                                        [0.105 , 0.125*, 0.105 , 0.12  ]   \nGTT_layer_last                                                                                     [0.075 , 0.08  , 0.055 , 0.125*]   \nTANL_layer_0                                                                                       [0.16* , 0.13  , 0.135 , 0.135 ]   \nTANL_layer_last                                                                                    [0.415*, 0.415*, 0.41  , 0.415*]   \ndygiepp_embedding-unpadded                                                                         [0.57* , 0.565 , 0.57* , 0.54  ]   \n\nTest acc of hidden size\n [100, 200, 400, 800]\nbert-uncased, muc1700\n * = best performance in cell       Y_bucket_num_events_muc1700  \\\nGTT_layer_0                                                                                        [0.435*, 0.43  , 0.425 , 0.415 ]   \nGTT_layer_last                                                                                     [0.36  , 0.365 , 0.385*, 0.365 ]   \nTANL_layer_0                                                                                       [0.37  , 0.415 , 0.44* , 0.37  ]   \nTANL_layer_last                                                                                    [0.595 , 0.62* , 0.6   , 0.61  ]   \ndygiepp_embedding-unpadded                                                                         [0.625 , 0.64  , 0.655*, 0.655*]   \n\nTest acc of hidden size\n [100, 200, 400, 800]\nbert-uncased, muc1700\n * = best performance in cell        Y_bucket_num_words_muc1700  \nGTT_layer_0                                                                                        [0.12  , 0.14* , 0.105 , 0.09  ]  \nGTT_layer_last                                                                                     [0.06  , 0.085 , 0.09* , 0.07  ]  \nTANL_layer_0                                                                                       [0.105 , 0.145 , 0.125 , 0.155*]  \nTANL_layer_last                                                                                    [0.59  , 0.595 , 0.605*, 0.545 ]  \ndygiepp_embedding-unpadded                                                                         [0.635 , 0.625 , 0.65* , 0.505 ]  ",
      "text/html": "<div>\n<style scoped>\n    .dataframe tbody tr th:only-of-type {\n        vertical-align: middle;\n    }\n\n    .dataframe tbody tr th {\n        vertical-align: top;\n    }\n\n    .dataframe thead th {\n        text-align: right;\n    }\n</style>\n<table border=\"1\" class=\"dataframe\">\n  <thead>\n    <tr style=\"text-align: right;\">\n      <th>Test acc of hidden size\n [100, 200, 400, 800]\nbert-uncased, muc1700\n * = best performance in cell</th>\n      <th>Y_bucket_num_sent_muc1700</th>\n      <th>Y_bucket_num_events_muc1700</th>\n      <th>Y_bucket_num_words_muc1700</th>\n    </tr>\n  </thead>\n  <tbody>\n    <tr>\n      <th>GTT_layer_0</th>\n      <td>[0.105 , 0.125*, 0.105 , 0.12  ]</td>\n      <td>[0.435*, 0.43  , 0.425 , 0.415 ]</td>\n      <td>[0.12  , 0.14* , 0.105 , 0.09  ]</td>\n    </tr>\n    <tr>\n      <th>GTT_layer_last</th>\n      <td>[0.075 , 0.08  , 0.055 , 0.125*]</td>\n      <td>[0.36  , 0.365 , 0.385*, 0.365 ]</td>\n      <td>[0.06  , 0.085 , 0.09* , 0.07  ]</td>\n    </tr>\n    <tr>\n      <th>TANL_layer_0</th>\n      <td>[0.16* , 0.13  , 0.135 , 0.135 ]</td>\n      <td>[0.37  , 0.415 , 0.44* , 0.37  ]</td>\n      <td>[0.105 , 0.145 , 0.125 , 0.155*]</td>\n    </tr>\n    <tr>\n      <th>TANL_layer_last</th>\n      <td>[0.415*, 0.415*, 0.41  , 0.415*]</td>\n      <td>[0.595 , 0.62* , 0.6   , 0.61  ]</td>\n      <td>[0.59  , 0.595 , 0.605*, 0.545 ]</td>\n    </tr>\n    <tr>\n      <th>dygiepp_embedding-unpadded</th>\n      <td>[0.57* , 0.565 , 0.57* , 0.54  ]</td>\n      <td>[0.625 , 0.64  , 0.655*, 0.655*]</td>\n      <td>[0.635 , 0.625 , 0.65* , 0.505 ]</td>\n    </tr>\n  </tbody>\n</table>\n</div>"
     },
     "execution_count": 141,
     "metadata": {},
     "output_type": "execute_result"
    }
   ],
   "source": [
    "df_aligned"
   ],
   "metadata": {
    "collapsed": false,
    "ExecuteTime": {
     "end_time": "2023-05-01T02:35:29.173933Z",
     "start_time": "2023-05-01T02:35:29.148315Z"
    }
   }
  },
  {
   "cell_type": "code",
   "execution_count": 142,
   "outputs": [
    {
     "data": {
      "text/plain": "Test acc of hidden size 400\nbert-uncased, muc1700\n   Y_bucket_num_sent_muc1700  \\\nGTT_layer_0                                                              0.105   \nGTT_layer_last                                                           0.055   \nTANL_layer_0                                                             0.135   \nTANL_layer_last                                                          0.410   \ndygiepp_embedding-unpadded                                               0.570   \n\nTest acc of hidden size 400\nbert-uncased, muc1700\n   Y_bucket_num_events_muc1700  \\\nGTT_layer_0                                                                0.425   \nGTT_layer_last                                                             0.385   \nTANL_layer_0                                                               0.440   \nTANL_layer_last                                                            0.600   \ndygiepp_embedding-unpadded                                                 0.655   \n\nTest acc of hidden size 400\nbert-uncased, muc1700\n   Y_bucket_num_words_muc1700  \nGTT_layer_0                                                               0.105  \nGTT_layer_last                                                            0.090  \nTANL_layer_0                                                              0.125  \nTANL_layer_last                                                           0.605  \ndygiepp_embedding-unpadded                                                0.650  ",
      "text/html": "<div>\n<style scoped>\n    .dataframe tbody tr th:only-of-type {\n        vertical-align: middle;\n    }\n\n    .dataframe tbody tr th {\n        vertical-align: top;\n    }\n\n    .dataframe thead th {\n        text-align: right;\n    }\n</style>\n<table border=\"1\" class=\"dataframe\">\n  <thead>\n    <tr style=\"text-align: right;\">\n      <th>Test acc of hidden size 400\nbert-uncased, muc1700</th>\n      <th>Y_bucket_num_sent_muc1700</th>\n      <th>Y_bucket_num_events_muc1700</th>\n      <th>Y_bucket_num_words_muc1700</th>\n    </tr>\n  </thead>\n  <tbody>\n    <tr>\n      <th>GTT_layer_0</th>\n      <td>0.105</td>\n      <td>0.425</td>\n      <td>0.105</td>\n    </tr>\n    <tr>\n      <th>GTT_layer_last</th>\n      <td>0.055</td>\n      <td>0.385</td>\n      <td>0.090</td>\n    </tr>\n    <tr>\n      <th>TANL_layer_0</th>\n      <td>0.135</td>\n      <td>0.440</td>\n      <td>0.125</td>\n    </tr>\n    <tr>\n      <th>TANL_layer_last</th>\n      <td>0.410</td>\n      <td>0.600</td>\n      <td>0.605</td>\n    </tr>\n    <tr>\n      <th>dygiepp_embedding-unpadded</th>\n      <td>0.570</td>\n      <td>0.655</td>\n      <td>0.650</td>\n    </tr>\n  </tbody>\n</table>\n</div>"
     },
     "execution_count": 142,
     "metadata": {},
     "output_type": "execute_result"
    }
   ],
   "source": [
    "display_dict = {}  # Create an empty dictionary to store the final result\n",
    "\n",
    "for embedding_layer_name, v in results.items():  # Iterate through each key-value pair in the \"results\" dictionary\n",
    "    inner_dict = {}  # Create an empty dictionary to store the inner values\n",
    "    for task_name, list_of_results in v.items():  # Iterate through each key-value pair in the inner dictionary\n",
    "        # Sort the values based on the 'hidden_size' key and extract the 'val_acc' values\n",
    "        size_to_test_acc = {d['hidden_size']: d['test_acc'] for d in list_of_results}\n",
    "        # Extract the 'val_acc' values from the sorted list and assign them to the inner dictionary\n",
    "        inner_dict[task_name] = size_to_test_acc[400]\n",
    "    # Remove the last 29 characters in column names (\"_bert-uncased_epoch**_muc1700\")\n",
    "    display_dict[embedding_layer_name[2:-29]] = inner_dict\n",
    "\n",
    "df = pd.DataFrame.from_dict(sort_dict_by_key(display_dict), orient='index')\n",
    "#df_aligned = df.applymap(lambda l: [x.ljust(6) for x in l])\n",
    "\n",
    "df.columns.name = \"Test acc of hidden size 400\\nbert-uncased, muc1700\\n \"\n",
    "df"
   ],
   "metadata": {
    "collapsed": false,
    "ExecuteTime": {
     "end_time": "2023-05-01T02:35:29.479087Z",
     "start_time": "2023-05-01T02:35:29.475237Z"
    }
   }
  },
  {
   "cell_type": "code",
   "execution_count": 142,
   "outputs": [],
   "source": [],
   "metadata": {
    "collapsed": false,
    "ExecuteTime": {
     "end_time": "2023-05-01T02:35:29.799710Z",
     "start_time": "2023-05-01T02:35:29.796785Z"
    }
   }
  },
  {
   "cell_type": "code",
   "execution_count": null,
   "outputs": [],
   "source": [],
   "metadata": {
    "collapsed": false
   }
  }
 ],
 "metadata": {
  "kernelspec": {
   "display_name": "Python 3",
   "language": "python",
   "name": "python3"
  },
  "language_info": {
   "codemirror_mode": {
    "name": "ipython",
    "version": 2
   },
   "file_extension": ".py",
   "mimetype": "text/x-python",
   "name": "python",
   "nbconvert_exporter": "python",
   "pygments_lexer": "ipython2",
   "version": "2.7.6"
  }
 },
 "nbformat": 4,
 "nbformat_minor": 0
}
