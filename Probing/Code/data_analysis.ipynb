{
 "cells": [
  {
   "cell_type": "code",
   "execution_count": 229,
   "metadata": {
    "collapsed": true,
    "ExecuteTime": {
     "end_time": "2023-05-02T20:27:56.474497Z",
     "start_time": "2023-05-02T20:27:56.468655Z"
    }
   },
   "outputs": [],
   "source": [
    "import json\n",
    "import os\n",
    "from collections import defaultdict"
   ]
  },
  {
   "cell_type": "code",
   "execution_count": 230,
   "outputs": [],
   "source": [
    "import re\n",
    "\n",
    "\n",
    "def sort_dict_by_key(dictionary):\n",
    "    sorted_dict = dict(\n",
    "        sorted(dictionary.items(), key=lambda x: [int(s) if s.isdigit() else s for s in re.split(r'(\\d+)', x[0])]))\n",
    "    return sorted_dict"
   ],
   "metadata": {
    "collapsed": false,
    "ExecuteTime": {
     "end_time": "2023-05-02T20:27:57.542246Z",
     "start_time": "2023-05-02T20:27:57.538856Z"
    }
   }
  },
  {
   "cell_type": "code",
   "execution_count": 231,
   "outputs": [
    {
     "name": "stdout",
     "output_type": "stream",
     "text": [
      "../Results-MLPwAttention-Bucketed/probresult_Y_bucket_num_sent_muc1700_X_TANL_layer_3_bert-uncased_epoch20_muc1700_epoch60_nhid100.json\n",
      "../Results-MLPwAttention-Bucketed/probresult_Y_bucket_num_events_muc1700_X_TANL_layer_11_bert-uncased_epoch20_muc1700_epoch48_nhid400.json\n",
      "../Results-MLPwAttention-Bucketed/probresult_Y_bucket_num_words_muc1700_X_TANL_layer_7_bert-uncased_epoch20_muc1700_epoch60_nhid200.json\n",
      "../Results-MLPwAttention-Bucketed/probresult_Y_bucket_num_words_muc1700_X_TANL_layer_2_bert-uncased_epoch20_muc1700_epoch64_nhid200.json\n",
      "../Results-MLPwAttention-Bucketed/probresult_Y_bucket_num_sent_muc1700_X_GTT_layer_last_bert-uncased_epoch18_muc1700_epoch76_nhid200.json\n",
      "../Results-MLPwAttention-Bucketed/probresult_Y_bucket_num_words_muc1700_X_TANL_layer_9_bert-uncased_epoch20_muc1700_epoch56_nhid800.json\n",
      "../Results-MLPwAttention-Bucketed/probresult_Y_bucket_num_words_muc1700_X_TANL_layer_3_bert-uncased_epoch20_muc1700_epoch52_nhid200.json\n",
      "../Results-MLPwAttention-Bucketed/probresult_Y_bucket_num_words_muc1700_X_GTT_layer_3_bert-uncased_epoch18_muc1700_epoch52_nhid400.json\n",
      "../Results-MLPwAttention-Bucketed/probresult_Y_bucket_num_events_muc1700_X_TANL_layer_7_bert-uncased_epoch20_muc1700_epoch52_nhid800.json\n",
      "../Results-MLPwAttention-Bucketed/probresult_Y_bucket_num_words_muc1700_X_GTT_layer_6_bert-uncased_epoch18_muc1700_epoch56_nhid800.json\n",
      "../Results-MLPwAttention-Bucketed/probresult_Y_bucket_num_events_muc1700_X_GTT_layer_0_bert-uncased_epoch18_muc1700_epoch52_nhid800.json\n",
      "../Results-MLPwAttention-Bucketed/probresult_Y_bucket_num_words_muc1700_X_GTT_layer_11_bert-uncased_epoch18_muc1700_epoch64_nhid400.json\n",
      "../Results-MLPwAttention-Bucketed/probresult_Y_bucket_num_sent_muc1700_X_GTT_layer_3_bert-uncased_epoch18_muc1700_epoch48_nhid200.json\n",
      "../Results-MLPwAttention-Bucketed/probresult_Y_bucket_num_events_muc1700_X_GTT_layer_4_bert-uncased_epoch18_muc1700_epoch60_nhid400.json\n",
      "../Results-MLPwAttention-Bucketed/probresult_Y_bucket_num_sent_muc1700_X_TANL_layer_5_bert-uncased_epoch20_muc1700_epoch56_nhid800.json\n",
      "../Results-MLPwAttention-Bucketed/probresult_Y_bucket_num_words_muc1700_X_TANL_layer_8_bert-uncased_epoch20_muc1700_epoch72_nhid400.json\n",
      "../Results-MLPwAttention-Bucketed/probresult_Y_bucket_num_words_muc1700_X_TANL_layer_11_bert-uncased_epoch20_muc1700_epoch56_nhid800.json\n",
      "../Results-MLPwAttention-Bucketed/probresult_Y_bucket_num_sent_muc1700_X_GTT_layer_6_bert-uncased_epoch18_muc1700_epoch52_nhid800.json\n",
      "../Results-MLPwAttention-Bucketed/probresult_Y_bucket_num_events_muc1700_X_GTT_layer_4_bert-uncased_epoch18_muc1700_epoch60_nhid800.json\n",
      "../Results-MLPwAttention-Bucketed/probresult_Y_bucket_num_words_muc1700_X_GTT_layer_11_bert-uncased_epoch18_muc1700_epoch64_nhid800.json\n",
      "../Results-MLPwAttention-Bucketed/probresult_Y_bucket_num_sent_muc1700_X_TANL_layer_0_bert-uncased_epoch20_muc1700_epoch52_nhid800.json\n",
      "../Results-MLPwAttention-Bucketed/probresult_Y_bucket_num_sent_muc1700_X_GTT_layer_6_bert-uncased_epoch18_muc1700_epoch52_nhid400.json\n",
      "../Results-MLPwAttention-Bucketed/probresult_Y_bucket_num_words_muc1700_X_TANL_layer_11_bert-uncased_epoch20_muc1700_epoch56_nhid400.json\n",
      "../Results-MLPwAttention-Bucketed/probresult_Y_bucket_num_events_muc1700_X_TANL_layer_8_bert-uncased_epoch20_muc1700_epoch52_nhid200.json\n",
      "../Results-MLPwAttention-Bucketed/probresult_Y_bucket_num_sent_muc1700_X_GTT_layer_8_bert-uncased_epoch18_muc1700_epoch64_nhid200.json\n",
      "../Results-MLPwAttention-Bucketed/probresult_Y_bucket_num_words_muc1700_X_GTT_layer_3_bert-uncased_epoch18_muc1700_epoch52_nhid800.json\n",
      "../Results-MLPwAttention-Bucketed/probresult_Y_bucket_num_words_muc1700_X_TANL_layer_10_bert-uncased_epoch20_muc1700_epoch60_nhid400.json\n",
      "../Results-MLPwAttention-Bucketed/probresult_Y_bucket_num_events_muc1700_X_TANL_layer_3_bert-uncased_epoch20_muc1700_epoch48_nhid200.json\n",
      "../Results-MLPwAttention-Bucketed/probresult_Y_bucket_num_events_muc1700_X_TANL_layer_6_bert-uncased_epoch20_muc1700_epoch52_nhid800.json\n",
      "../Results-MLPwAttention-Bucketed/probresult_Y_bucket_num_words_muc1700_X_GTT_layer_7_bert-uncased_epoch18_muc1700_epoch56_nhid800.json\n",
      "../Results-MLPwAttention-Bucketed/probresult_Y_bucket_num_sent_muc1700_X_GTT_layer_2_bert-uncased_epoch18_muc1700_epoch48_nhid200.json\n",
      "../Results-MLPwAttention-Bucketed/probresult_Y_bucket_num_events_muc1700_X_GTT_layer_5_bert-uncased_epoch18_muc1700_epoch60_nhid400.json\n",
      "../Results-MLPwAttention-Bucketed/probresult_Y_bucket_num_sent_muc1700_X_TANL_layer_4_bert-uncased_epoch20_muc1700_epoch56_nhid800.json\n",
      "../Results-MLPwAttention-Bucketed/probresult_Y_bucket_num_words_muc1700_X_GTT_layer_9_bert-uncased_epoch18_muc1700_epoch60_nhid200.json\n",
      "../Results-MLPwAttention-Bucketed/probresult_Y_bucket_num_sent_muc1700_X_TANL_layer_4_bert-uncased_epoch20_muc1700_epoch56_nhid400.json\n",
      "../Results-MLPwAttention-Bucketed/probresult_Y_bucket_num_sent_muc1700_X_GTT_layer_10_bert-uncased_epoch18_muc1700_epoch48_nhid100.json\n",
      "../Results-MLPwAttention-Bucketed/probresult_Y_bucket_num_words_muc1700_X_GTT_layer_10_bert-uncased_epoch18_muc1700_epoch64_nhid800.json\n",
      "../Results-MLPwAttention-Bucketed/probresult_Y_bucket_num_words_muc1700_X_GTT_layer_6_bert-uncased_epoch18_muc1700_epoch60_nhid400.json\n",
      "../Results-MLPwAttention-Bucketed/probresult_Y_bucket_num_sent_muc1700_X_TANL_layer_8_bert-uncased_epoch20_muc1700_epoch68_nhid100.json\n",
      "../Results-MLPwAttention-Bucketed/probresult_Y_bucket_num_words_muc1700_X_GTT_layer_2_bert-uncased_epoch18_muc1700_epoch52_nhid800.json\n",
      "../Results-MLPwAttention-Bucketed/probresult_Y_bucket_num_sent_muc1700_X_TANL_layer_5_bert-uncased_epoch20_muc1700_epoch60_nhid400.json\n",
      "../Results-MLPwAttention-Bucketed/probresult_Y_bucket_num_words_muc1700_X_GTT_layer_8_bert-uncased_epoch18_muc1700_epoch56_nhid200.json\n",
      "../Results-MLPwAttention-Bucketed/probresult_Y_bucket_num_words_muc1700_X_GTT_layer_7_bert-uncased_epoch18_muc1700_epoch56_nhid400.json\n",
      "../Results-MLPwAttention-Bucketed/probresult_Y_bucket_num_events_muc1700_X_TANL_layer_1_bert-uncased_epoch20_muc1700_epoch52_nhid100.json\n",
      "../Results-MLPwAttention-Bucketed/probresult_Y_bucket_num_words_muc1700_X_GTT_layer_0_bert-uncased_epoch18_muc1700_epoch56_nhid100.json\n",
      "../Results-MLPwAttention-Bucketed/probresult_Y_bucket_num_events_muc1700_X_TANL_layer_10_bert-uncased_epoch20_muc1700_epoch48_nhid400.json\n",
      "../Results-MLPwAttention-Bucketed/probresult_Y_bucket_num_sent_muc1700_X_GTT_layer_5_bert-uncased_epoch18_muc1700_epoch56_nhid100.json\n",
      "../Results-MLPwAttention-Bucketed/probresult_Y_bucket_num_words_muc1700_X_dygiepp_embedding-unpadded_bert-uncased_epoch21_muc1700_epoch72_nhid200.json\n",
      "../Results-MLPwAttention-Bucketed/probresult_Y_bucket_num_events_muc1700_X_TANL_layer_1_bert-uncased_epoch20_muc1700_epoch48_nhid200.json\n",
      "../Results-MLPwAttention-Bucketed/probresult_Y_bucket_num_events_muc1700_X_TANL_layer_4_bert-uncased_epoch20_muc1700_epoch52_nhid800.json\n",
      "../Results-MLPwAttention-Bucketed/probresult_Y_bucket_num_words_muc1700_X_GTT_layer_5_bert-uncased_epoch18_muc1700_epoch56_nhid800.json\n",
      "../Results-MLPwAttention-Bucketed/probresult_Y_bucket_num_sent_muc1700_X_GTT_layer_0_bert-uncased_epoch18_muc1700_epoch48_nhid200.json\n",
      "../Results-MLPwAttention-Bucketed/probresult_Y_bucket_num_sent_muc1700_X_TANL_layer_6_bert-uncased_epoch20_muc1700_epoch56_nhid800.json\n",
      "../Results-MLPwAttention-Bucketed/probresult_Y_bucket_num_sent_muc1700_X_GTT_layer_0_bert-uncased_epoch18_muc1700_epoch56_nhid400.json\n",
      "../Results-MLPwAttention-Bucketed/probresult_Y_bucket_num_sent_muc1700_X_TANL_layer_last_bert-uncased_epoch20_muc1700_epoch52_nhid200.json\n",
      "../Results-MLPwAttention-Bucketed/probresult_Y_bucket_num_sent_muc1700_X_TANL_layer_9_bert-uncased_epoch20_muc1700_epoch56_nhid200.json\n",
      "../Results-MLPwAttention-Bucketed/probresult_Y_bucket_num_words_muc1700_X_TANL_layer_last_bert-uncased_epoch20_muc1700_epoch64_nhid800.json\n",
      "../Results-MLPwAttention-Bucketed/probresult_Y_bucket_num_sent_muc1700_X_TANL_layer_7_bert-uncased_epoch20_muc1700_epoch60_nhid400.json\n",
      "../Results-MLPwAttention-Bucketed/probresult_Y_bucket_num_words_muc1700_X_GTT_layer_5_bert-uncased_epoch18_muc1700_epoch56_nhid400.json\n",
      "../Results-MLPwAttention-Bucketed/probresult_Y_bucket_num_events_muc1700_X_GTT_layer_3_bert-uncased_epoch18_muc1700_epoch52_nhid400.json\n",
      "../Results-MLPwAttention-Bucketed/probresult_Y_bucket_num_words_muc1700_X_TANL_layer_5_bert-uncased_epoch20_muc1700_epoch56_nhid200.json\n",
      "../Results-MLPwAttention-Bucketed/probresult_Y_bucket_num_words_muc1700_X_TANL_layer_last_bert-uncased_epoch20_muc1700_epoch68_nhid200.json\n",
      "../Results-MLPwAttention-Bucketed/probresult_Y_bucket_num_words_muc1700_X_TANL_layer_4_bert-uncased_epoch20_muc1700_epoch60_nhid200.json\n",
      "../Results-MLPwAttention-Bucketed/probresult_Y_bucket_num_sent_muc1700_X_TANL_layer_11_bert-uncased_epoch20_muc1700_epoch60_nhid100.json\n",
      "../Results-MLPwAttention-Bucketed/probresult_Y_bucket_num_words_muc1700_X_TANL_layer_1_bert-uncased_epoch20_muc1700_epoch64_nhid200.json\n",
      "../Results-MLPwAttention-Bucketed/probresult_Y_bucket_num_sent_muc1700_X_GTT_layer_7_bert-uncased_epoch18_muc1700_epoch56_nhid100.json\n",
      "../Results-MLPwAttention-Bucketed/probresult_Y_bucket_num_events_muc1700_X_TANL_layer_9_bert-uncased_epoch20_muc1700_epoch48_nhid100.json\n",
      "../Results-MLPwAttention-Bucketed/probresult_Y_bucket_num_words_muc1700_X_GTT_layer_7_bert-uncased_epoch18_muc1700_epoch52_nhid100.json\n",
      "../Results-MLPwAttention-Bucketed/probresult_Y_bucket_num_sent_muc1700_X_TANL_layer_1_bert-uncased_epoch20_muc1700_epoch60_nhid100.json\n",
      "../Results-MLPwAttention-Bucketed/probresult_Y_bucket_num_sent_muc1700_X_TANL_layer_10_bert-uncased_epoch20_muc1700_epoch60_nhid100.json\n",
      "../Results-MLPwAttention-Bucketed/probresult_Y_bucket_num_sent_muc1700_X_TANL_layer_0_bert-uncased_epoch20_muc1700_epoch56_nhid100.json\n",
      "../Results-MLPwAttention-Bucketed/probresult_Y_bucket_num_sent_muc1700_X_GTT_layer_6_bert-uncased_epoch18_muc1700_epoch56_nhid100.json\n",
      "../Results-MLPwAttention-Bucketed/probresult_Y_bucket_num_events_muc1700_X_GTT_layer_last_bert-uncased_epoch18_muc1700_epoch60_nhid100.json\n",
      "../Results-MLPwAttention-Bucketed/probresult_Y_bucket_num_events_muc1700_X_TANL_layer_8_bert-uncased_epoch20_muc1700_epoch48_nhid100.json\n",
      "../Results-MLPwAttention-Bucketed/probresult_Y_bucket_num_words_muc1700_X_GTT_layer_1_bert-uncased_epoch18_muc1700_epoch52_nhid400.json\n",
      "../Results-MLPwAttention-Bucketed/probresult_Y_bucket_num_events_muc1700_X_TANL_layer_0_bert-uncased_epoch20_muc1700_epoch48_nhid200.json\n",
      "../Results-MLPwAttention-Bucketed/probresult_Y_bucket_num_events_muc1700_X_TANL_layer_5_bert-uncased_epoch20_muc1700_epoch52_nhid800.json\n",
      "../Results-MLPwAttention-Bucketed/probresult_Y_bucket_num_sent_muc1700_X_GTT_layer_10_bert-uncased_epoch18_muc1700_epoch68_nhid800.json\n",
      "../Results-MLPwAttention-Bucketed/probresult_Y_bucket_num_sent_muc1700_X_GTT_layer_1_bert-uncased_epoch18_muc1700_epoch48_nhid200.json\n",
      "../Results-MLPwAttention-Bucketed/probresult_Y_bucket_num_sent_muc1700_X_TANL_layer_7_bert-uncased_epoch20_muc1700_epoch56_nhid800.json\n",
      "../Results-MLPwAttention-Bucketed/probresult_Y_bucket_num_sent_muc1700_X_TANL_layer_8_bert-uncased_epoch20_muc1700_epoch56_nhid200.json\n",
      "../Results-MLPwAttention-Bucketed/probresult_Y_bucket_num_events_muc1700_X_GTT_layer_7_bert-uncased_epoch18_muc1700_epoch56_nhid800.json\n",
      "../Results-MLPwAttention-Bucketed/probresult_Y_bucket_num_sent_muc1700_X_TANL_layer_6_bert-uncased_epoch20_muc1700_epoch60_nhid400.json\n",
      "../Results-MLPwAttention-Bucketed/probresult_Y_bucket_num_sent_muc1700_X_GTT_layer_0_bert-uncased_epoch18_muc1700_epoch60_nhid800.json\n",
      "../Results-MLPwAttention-Bucketed/probresult_Y_bucket_num_events_muc1700_X_GTT_layer_2_bert-uncased_epoch18_muc1700_epoch52_nhid400.json\n",
      "../Results-MLPwAttention-Bucketed/probresult_Y_bucket_num_sent_muc1700_X_TANL_layer_last_bert-uncased_epoch20_muc1700_epoch56_nhid100.json\n",
      "../Results-MLPwAttention-Bucketed/probresult_Y_bucket_num_words_muc1700_X_TANL_layer_9_bert-uncased_epoch20_muc1700_epoch60_nhid200.json\n",
      "../Results-MLPwAttention-Bucketed/probresult_Y_bucket_num_words_muc1700_X_TANL_layer_6_bert-uncased_epoch20_muc1700_epoch60_nhid400.json\n",
      "../Results-MLPwAttention-Bucketed/probresult_Y_bucket_num_words_muc1700_X_GTT_layer_11_bert-uncased_epoch18_muc1700_epoch80_nhid100.json\n",
      "../Results-MLPwAttention-Bucketed/probresult_Y_bucket_num_events_muc1700_X_GTT_layer_9_bert-uncased_epoch18_muc1700_epoch52_nhid100.json\n",
      "../Results-MLPwAttention-Bucketed/probresult_Y_bucket_num_events_muc1700_X_GTT_layer_3_bert-uncased_epoch18_muc1700_epoch48_nhid100.json\n",
      "../Results-MLPwAttention-Bucketed/probresult_Y_bucket_num_words_muc1700_X_dygiepp_embedding-unpadded_bert-uncased_epoch21_muc1700_epoch72_nhid400.json\n",
      "../Results-MLPwAttention-Bucketed/probresult_Y_bucket_num_events_muc1700_X_TANL_layer_4_bert-uncased_epoch20_muc1700_epoch48_nhid100.json\n",
      "../Results-MLPwAttention-Bucketed/probresult_Y_bucket_num_sent_muc1700_X_TANL_layer_11_bert-uncased_epoch20_muc1700_epoch64_nhid200.json\n",
      "../Results-MLPwAttention-Bucketed/probresult_Y_bucket_num_words_muc1700_X_GTT_layer_10_bert-uncased_epoch18_muc1700_epoch64_nhid200.json\n",
      "../Results-MLPwAttention-Bucketed/probresult_Y_bucket_num_sent_muc1700_X_GTT_layer_2_bert-uncased_epoch18_muc1700_epoch48_nhid400.json\n",
      "../Results-MLPwAttention-Bucketed/probresult_Y_bucket_num_words_muc1700_X_GTT_layer_last_bert-uncased_epoch18_muc1700_epoch60_nhid800.json\n",
      "../Results-MLPwAttention-Bucketed/probresult_Y_bucket_num_sent_muc1700_X_GTT_layer_9_bert-uncased_epoch18_muc1700_epoch64_nhid800.json\n",
      "../Results-MLPwAttention-Bucketed/probresult_Y_bucket_num_events_muc1700_X_TANL_layer_3_bert-uncased_epoch20_muc1700_epoch48_nhid400.json\n",
      "../Results-MLPwAttention-Bucketed/probresult_Y_bucket_num_events_muc1700_X_TANL_layer_9_bert-uncased_epoch20_muc1700_epoch52_nhid800.json\n",
      "../Results-MLPwAttention-Bucketed/probresult_Y_bucket_num_words_muc1700_X_GTT_layer_8_bert-uncased_epoch18_muc1700_epoch56_nhid800.json\n",
      "../Results-MLPwAttention-Bucketed/probresult_Y_bucket_num_sent_muc1700_X_GTT_layer_6_bert-uncased_epoch18_muc1700_epoch64_nhid200.json\n",
      "../Results-MLPwAttention-Bucketed/probresult_Y_bucket_num_words_muc1700_X_GTT_layer_7_bert-uncased_epoch18_muc1700_epoch56_nhid200.json\n",
      "../Results-MLPwAttention-Bucketed/probresult_Y_bucket_num_events_muc1700_X_GTT_layer_last_bert-uncased_epoch18_muc1700_epoch52_nhid200.json\n",
      "../Results-MLPwAttention-Bucketed/probresult_Y_bucket_num_words_muc1700_X_GTT_layer_last_bert-uncased_epoch18_muc1700_epoch60_nhid400.json\n",
      "../Results-MLPwAttention-Bucketed/probresult_Y_bucket_num_sent_muc1700_X_TANL_layer_5_bert-uncased_epoch20_muc1700_epoch60_nhid200.json\n",
      "../Results-MLPwAttention-Bucketed/probresult_Y_bucket_num_words_muc1700_X_TANL_layer_1_bert-uncased_epoch20_muc1700_epoch60_nhid100.json\n",
      "../Results-MLPwAttention-Bucketed/probresult_Y_bucket_num_sent_muc1700_X_GTT_layer_2_bert-uncased_epoch18_muc1700_epoch48_nhid800.json\n",
      "../Results-MLPwAttention-Bucketed/probresult_Y_bucket_num_sent_muc1700_X_TANL_layer_10_bert-uncased_epoch20_muc1700_epoch64_nhid200.json\n",
      "../Results-MLPwAttention-Bucketed/probresult_Y_bucket_num_sent_muc1700_X_TANL_layer_0_bert-uncased_epoch20_muc1700_epoch52_nhid200.json\n",
      "../Results-MLPwAttention-Bucketed/probresult_Y_bucket_num_words_muc1700_X_GTT_layer_11_bert-uncased_epoch18_muc1700_epoch64_nhid200.json\n",
      "../Results-MLPwAttention-Bucketed/probresult_Y_bucket_num_events_muc1700_X_GTT_layer_4_bert-uncased_epoch18_muc1700_epoch60_nhid200.json\n",
      "../Results-MLPwAttention-Bucketed/probresult_Y_bucket_num_sent_muc1700_X_GTT_layer_3_bert-uncased_epoch18_muc1700_epoch48_nhid400.json\n",
      "../Results-MLPwAttention-Bucketed/probresult_Y_bucket_num_events_muc1700_X_GTT_layer_5_bert-uncased_epoch18_muc1700_epoch56_nhid200.json\n",
      "../Results-MLPwAttention-Bucketed/probresult_Y_bucket_num_words_muc1700_X_GTT_layer_3_bert-uncased_epoch18_muc1700_epoch52_nhid200.json\n",
      "../Results-MLPwAttention-Bucketed/probresult_Y_bucket_num_events_muc1700_X_TANL_layer_2_bert-uncased_epoch20_muc1700_epoch48_nhid400.json\n",
      "../Results-MLPwAttention-Bucketed/probresult_Y_bucket_num_events_muc1700_X_TANL_layer_8_bert-uncased_epoch20_muc1700_epoch52_nhid800.json\n",
      "../Results-MLPwAttention-Bucketed/probresult_Y_bucket_num_sent_muc1700_X_GTT_layer_7_bert-uncased_epoch18_muc1700_epoch64_nhid200.json\n",
      "../Results-MLPwAttention-Bucketed/probresult_Y_bucket_num_words_muc1700_X_GTT_layer_6_bert-uncased_epoch18_muc1700_epoch56_nhid200.json\n",
      "../Results-MLPwAttention-Bucketed/probresult_Y_bucket_num_words_muc1700_X_TANL_layer_10_bert-uncased_epoch20_muc1700_epoch60_nhid200.json\n",
      "../Results-MLPwAttention-Bucketed/probresult_Y_bucket_num_sent_muc1700_X_TANL_layer_4_bert-uncased_epoch20_muc1700_epoch60_nhid200.json\n",
      "../Results-MLPwAttention-Bucketed/probresult_Y_bucket_num_words_muc1700_X_TANL_layer_0_bert-uncased_epoch20_muc1700_epoch60_nhid100.json\n",
      "../Results-MLPwAttention-Bucketed/probresult_Y_bucket_num_sent_muc1700_X_GTT_layer_3_bert-uncased_epoch18_muc1700_epoch48_nhid800.json\n",
      "../Results-MLPwAttention-Bucketed/probresult_Y_bucket_num_events_muc1700_X_dygiepp_embedding-unpadded_bert-uncased_epoch21_muc1700_epoch68_nhid200.json\n",
      "../Results-MLPwAttention-Bucketed/probresult_Y_bucket_num_words_muc1700_X_TANL_layer_8_bert-uncased_epoch20_muc1700_epoch60_nhid200.json\n",
      "../Results-MLPwAttention-Bucketed/probresult_Y_bucket_num_words_muc1700_X_TANL_layer_7_bert-uncased_epoch20_muc1700_epoch60_nhid400.json\n",
      "../Results-MLPwAttention-Bucketed/probresult_Y_bucket_num_events_muc1700_X_GTT_layer_11_bert-uncased_epoch18_muc1700_epoch56_nhid800.json\n",
      "../Results-MLPwAttention-Bucketed/probresult_Y_bucket_num_sent_muc1700_X_GTT_layer_7_bert-uncased_epoch18_muc1700_epoch68_nhid800.json\n",
      "../Results-MLPwAttention-Bucketed/probresult_Y_bucket_num_events_muc1700_X_TANL_layer_5_bert-uncased_epoch20_muc1700_epoch48_nhid100.json\n",
      "../Results-MLPwAttention-Bucketed/probresult_Y_bucket_num_events_muc1700_X_TANL_layer_11_bert-uncased_epoch20_muc1700_epoch52_nhid100.json\n",
      "../Results-MLPwAttention-Bucketed/probresult_Y_bucket_num_sent_muc1700_X_GTT_layer_1_bert-uncased_epoch18_muc1700_epoch48_nhid400.json\n",
      "../Results-MLPwAttention-Bucketed/probresult_Y_bucket_num_events_muc1700_X_GTT_layer_7_bert-uncased_epoch18_muc1700_epoch56_nhid200.json\n",
      "../Results-MLPwAttention-Bucketed/probresult_Y_bucket_num_words_muc1700_X_GTT_layer_1_bert-uncased_epoch18_muc1700_epoch52_nhid200.json\n",
      "../Results-MLPwAttention-Bucketed/probresult_Y_bucket_num_events_muc1700_X_TANL_layer_0_bert-uncased_epoch20_muc1700_epoch48_nhid400.json\n",
      "../Results-MLPwAttention-Bucketed/probresult_Y_bucket_num_sent_muc1700_X_TANL_layer_last_bert-uncased_epoch20_muc1700_epoch64_nhid800.json\n",
      "../Results-MLPwAttention-Bucketed/probresult_Y_bucket_num_words_muc1700_X_GTT_layer_4_bert-uncased_epoch18_muc1700_epoch56_nhid200.json\n",
      "../Results-MLPwAttention-Bucketed/probresult_Y_bucket_num_events_muc1700_X_GTT_layer_2_bert-uncased_epoch18_muc1700_epoch52_nhid200.json\n",
      "../Results-MLPwAttention-Bucketed/probresult_Y_bucket_num_events_muc1700_X_TANL_layer_0_bert-uncased_epoch20_muc1700_epoch48_nhid800.json\n",
      "../Results-MLPwAttention-Bucketed/probresult_Y_bucket_num_words_muc1700_X_TANL_layer_2_bert-uncased_epoch20_muc1700_epoch60_nhid100.json\n",
      "../Results-MLPwAttention-Bucketed/probresult_Y_bucket_num_events_muc1700_X_GTT_layer_9_bert-uncased_epoch18_muc1700_epoch60_nhid800.json\n",
      "../Results-MLPwAttention-Bucketed/probresult_Y_bucket_num_sent_muc1700_X_GTT_layer_1_bert-uncased_epoch18_muc1700_epoch48_nhid800.json\n",
      "../Results-MLPwAttention-Bucketed/probresult_Y_bucket_num_sent_muc1700_X_TANL_layer_7_bert-uncased_epoch20_muc1700_epoch56_nhid200.json\n",
      "../Results-MLPwAttention-Bucketed/probresult_Y_bucket_num_sent_muc1700_X_dygiepp_embedding-unpadded_bert-uncased_epoch21_muc1700_epoch64_nhid800.json\n",
      "../Results-MLPwAttention-Bucketed/probresult_Y_bucket_num_words_muc1700_X_TANL_layer_5_bert-uncased_epoch20_muc1700_epoch60_nhid400.json\n",
      "../Results-MLPwAttention-Bucketed/probresult_Y_bucket_num_sent_muc1700_X_TANL_layer_9_bert-uncased_epoch20_muc1700_epoch72_nhid800.json\n",
      "../Results-MLPwAttention-Bucketed/probresult_Y_bucket_num_events_muc1700_X_TANL_layer_7_bert-uncased_epoch20_muc1700_epoch48_nhid100.json\n",
      "../Results-MLPwAttention-Bucketed/probresult_Y_bucket_num_words_muc1700_X_TANL_layer_4_bert-uncased_epoch20_muc1700_epoch56_nhid800.json\n",
      "../Results-MLPwAttention-Bucketed/probresult_Y_bucket_num_sent_muc1700_X_GTT_layer_8_bert-uncased_epoch18_muc1700_epoch60_nhid100.json\n",
      "../Results-MLPwAttention-Bucketed/probresult_Y_bucket_num_words_muc1700_X_TANL_layer_4_bert-uncased_epoch20_muc1700_epoch60_nhid400.json\n",
      "../Results-MLPwAttention-Bucketed/probresult_Y_bucket_num_events_muc1700_X_TANL_layer_6_bert-uncased_epoch20_muc1700_epoch48_nhid100.json\n",
      "../Results-MLPwAttention-Bucketed/probresult_Y_bucket_num_words_muc1700_X_GTT_layer_8_bert-uncased_epoch18_muc1700_epoch52_nhid100.json\n",
      "../Results-MLPwAttention-Bucketed/probresult_Y_bucket_num_events_muc1700_X_GTT_layer_8_bert-uncased_epoch18_muc1700_epoch60_nhid400.json\n",
      "../Results-MLPwAttention-Bucketed/probresult_Y_bucket_num_sent_muc1700_X_TANL_layer_2_bert-uncased_epoch20_muc1700_epoch64_nhid200.json\n",
      "../Results-MLPwAttention-Bucketed/probresult_Y_bucket_num_words_muc1700_X_GTT_layer_0_bert-uncased_epoch18_muc1700_epoch52_nhid200.json\n",
      "../Results-MLPwAttention-Bucketed/probresult_Y_bucket_num_words_muc1700_X_TANL_layer_7_bert-uncased_epoch20_muc1700_epoch52_nhid100.json\n",
      "../Results-MLPwAttention-Bucketed/probresult_Y_bucket_num_events_muc1700_X_dygiepp_embedding-unpadded_bert-uncased_epoch21_muc1700_epoch56_nhid100.json\n",
      "../Results-MLPwAttention-Bucketed/probresult_Y_bucket_num_words_muc1700_X_dygiepp_embedding-unpadded_bert-uncased_epoch21_muc1700_epoch76_nhid100.json\n",
      "../Results-MLPwAttention-Bucketed/probresult_Y_bucket_num_events_muc1700_X_TANL_layer_4_bert-uncased_epoch20_muc1700_epoch52_nhid200.json\n",
      "../Results-MLPwAttention-Bucketed/probresult_Y_bucket_num_words_muc1700_X_GTT_layer_5_bert-uncased_epoch18_muc1700_epoch56_nhid200.json\n",
      "../Results-MLPwAttention-Bucketed/probresult_Y_bucket_num_events_muc1700_X_GTT_layer_3_bert-uncased_epoch18_muc1700_epoch52_nhid200.json\n",
      "../Results-MLPwAttention-Bucketed/probresult_Y_bucket_num_sent_muc1700_X_TANL_layer_8_bert-uncased_epoch20_muc1700_epoch60_nhid400.json\n",
      "../Results-MLPwAttention-Bucketed/probresult_Y_bucket_num_events_muc1700_X_GTT_layer_10_bert-uncased_epoch18_muc1700_epoch52_nhid100.json\n",
      "../Results-MLPwAttention-Bucketed/probresult_Y_bucket_num_words_muc1700_X_GTT_layer_last_bert-uncased_epoch18_muc1700_epoch76_nhid100.json\n",
      "../Results-MLPwAttention-Bucketed/probresult_Y_bucket_num_sent_muc1700_X_TANL_layer_9_bert-uncased_epoch20_muc1700_epoch56_nhid400.json\n",
      "../Results-MLPwAttention-Bucketed/probresult_Y_bucket_num_words_muc1700_X_TANL_layer_3_bert-uncased_epoch20_muc1700_epoch60_nhid100.json\n",
      "../Results-MLPwAttention-Bucketed/probresult_Y_bucket_num_sent_muc1700_X_GTT_layer_5_bert-uncased_epoch18_muc1700_epoch52_nhid200.json\n",
      "../Results-MLPwAttention-Bucketed/probresult_Y_bucket_num_sent_muc1700_X_TANL_layer_6_bert-uncased_epoch20_muc1700_epoch56_nhid200.json\n",
      "../Results-MLPwAttention-Bucketed/probresult_Y_bucket_num_events_muc1700_X_TANL_layer_7_bert-uncased_epoch20_muc1700_epoch60_nhid200.json\n",
      "../Results-MLPwAttention-Bucketed/probresult_Y_bucket_num_sent_muc1700_X_GTT_layer_8_bert-uncased_epoch18_muc1700_epoch56_nhid400.json\n",
      "../Results-MLPwAttention-Bucketed/probresult_Y_bucket_num_words_muc1700_X_GTT_layer_9_bert-uncased_epoch18_muc1700_epoch64_nhid400.json\n",
      "../Results-MLPwAttention-Bucketed/probresult_Y_bucket_num_events_muc1700_X_TANL_layer_6_bert-uncased_epoch20_muc1700_epoch48_nhid400.json\n",
      "../Results-MLPwAttention-Bucketed/probresult_Y_bucket_num_events_muc1700_X_GTT_layer_1_bert-uncased_epoch18_muc1700_epoch56_nhid200.json\n",
      "../Results-MLPwAttention-Bucketed/probresult_Y_bucket_num_words_muc1700_X_TANL_layer_11_bert-uncased_epoch20_muc1700_epoch64_nhid200.json\n",
      "../Results-MLPwAttention-Bucketed/probresult_Y_bucket_num_words_muc1700_X_GTT_layer_8_bert-uncased_epoch18_muc1700_epoch52_nhid400.json\n",
      "../Results-MLPwAttention-Bucketed/probresult_Y_bucket_num_events_muc1700_X_TANL_layer_9_bert-uncased_epoch20_muc1700_epoch48_nhid200.json\n",
      "../Results-MLPwAttention-Bucketed/probresult_Y_bucket_num_words_muc1700_X_GTT_layer_9_bert-uncased_epoch18_muc1700_epoch64_nhid800.json\n",
      "../Results-MLPwAttention-Bucketed/probresult_Y_bucket_num_words_muc1700_X_TANL_layer_4_bert-uncased_epoch20_muc1700_epoch60_nhid100.json\n",
      "../Results-MLPwAttention-Bucketed/probresult_Y_bucket_num_sent_muc1700_X_GTT_layer_8_bert-uncased_epoch18_muc1700_epoch56_nhid800.json\n",
      "../Results-MLPwAttention-Bucketed/probresult_Y_bucket_num_words_muc1700_X_TANL_layer_3_bert-uncased_epoch20_muc1700_epoch60_nhid400.json\n",
      "../Results-MLPwAttention-Bucketed/probresult_Y_bucket_num_events_muc1700_X_TANL_layer_10_bert-uncased_epoch20_muc1700_epoch52_nhid800.json\n",
      "../Results-MLPwAttention-Bucketed/probresult_Y_bucket_num_events_muc1700_X_dygiepp_embedding-unpadded_bert-uncased_epoch21_muc1700_epoch56_nhid400.json\n",
      "../Results-MLPwAttention-Bucketed/probresult_Y_bucket_num_events_muc1700_X_GTT_layer_10_bert-uncased_epoch18_muc1700_epoch52_nhid400.json\n",
      "../Results-MLPwAttention-Bucketed/probresult_Y_bucket_num_words_muc1700_X_TANL_layer_7_bert-uncased_epoch20_muc1700_epoch52_nhid800.json\n",
      "../Results-MLPwAttention-Bucketed/probresult_Y_bucket_num_words_muc1700_X_GTT_layer_last_bert-uncased_epoch18_muc1700_epoch68_nhid200.json\n",
      "../Results-MLPwAttention-Bucketed/probresult_Y_bucket_num_events_muc1700_X_GTT_layer_10_bert-uncased_epoch18_muc1700_epoch52_nhid800.json\n",
      "../Results-MLPwAttention-Bucketed/probresult_Y_bucket_num_words_muc1700_X_dygiepp_embedding-unpadded_bert-uncased_epoch21_muc1700_epoch76_nhid800.json\n",
      "../Results-MLPwAttention-Bucketed/probresult_Y_bucket_num_words_muc1700_X_TANL_layer_2_bert-uncased_epoch20_muc1700_epoch56_nhid800.json\n",
      "../Results-MLPwAttention-Bucketed/probresult_Y_bucket_num_words_muc1700_X_TANL_layer_3_bert-uncased_epoch20_muc1700_epoch60_nhid800.json\n",
      "../Results-MLPwAttention-Bucketed/probresult_Y_bucket_num_events_muc1700_X_GTT_layer_8_bert-uncased_epoch18_muc1700_epoch60_nhid100.json\n",
      "../Results-MLPwAttention-Bucketed/probresult_Y_bucket_num_sent_muc1700_X_GTT_layer_0_bert-uncased_epoch18_muc1700_epoch48_nhid100.json\n",
      "../Results-MLPwAttention-Bucketed/probresult_Y_bucket_num_words_muc1700_X_TANL_layer_2_bert-uncased_epoch20_muc1700_epoch60_nhid400.json\n",
      "../Results-MLPwAttention-Bucketed/probresult_Y_bucket_num_events_muc1700_X_TANL_layer_11_bert-uncased_epoch20_muc1700_epoch52_nhid800.json\n",
      "../Results-MLPwAttention-Bucketed/probresult_Y_bucket_num_events_muc1700_X_GTT_layer_11_bert-uncased_epoch18_muc1700_epoch52_nhid400.json\n",
      "../Results-MLPwAttention-Bucketed/probresult_Y_bucket_num_sent_muc1700_X_TANL_layer_9_bert-uncased_epoch20_muc1700_epoch60_nhid100.json\n",
      "../Results-MLPwAttention-Bucketed/probresult_Y_bucket_num_words_muc1700_X_TANL_layer_6_bert-uncased_epoch20_muc1700_epoch52_nhid800.json\n",
      "../Results-MLPwAttention-Bucketed/probresult_Y_bucket_num_sent_muc1700_X_GTT_layer_last_bert-uncased_epoch18_muc1700_epoch72_nhid400.json\n",
      "../Results-MLPwAttention-Bucketed/probresult_Y_bucket_num_events_muc1700_X_TANL_layer_0_bert-uncased_epoch20_muc1700_epoch48_nhid100.json\n",
      "../Results-MLPwAttention-Bucketed/probresult_Y_bucket_num_events_muc1700_X_dygiepp_embedding-unpadded_bert-uncased_epoch21_muc1700_epoch60_nhid800.json\n",
      "../Results-MLPwAttention-Bucketed/probresult_Y_bucket_num_sent_muc1700_X_GTT_layer_1_bert-uncased_epoch18_muc1700_epoch48_nhid100.json\n",
      "../Results-MLPwAttention-Bucketed/probresult_Y_bucket_num_sent_muc1700_X_GTT_layer_11_bert-uncased_epoch18_muc1700_epoch52_nhid100.json\n",
      "../Results-MLPwAttention-Bucketed/probresult_Y_bucket_num_sent_muc1700_X_GTT_layer_9_bert-uncased_epoch18_muc1700_epoch56_nhid400.json\n",
      "../Results-MLPwAttention-Bucketed/probresult_Y_bucket_num_events_muc1700_X_GTT_layer_0_bert-uncased_epoch18_muc1700_epoch48_nhid400.json\n",
      "../Results-MLPwAttention-Bucketed/probresult_Y_bucket_num_events_muc1700_X_TANL_layer_7_bert-uncased_epoch20_muc1700_epoch48_nhid400.json\n",
      "../Results-MLPwAttention-Bucketed/probresult_Y_bucket_num_sent_muc1700_X_GTT_layer_last_bert-uncased_epoch18_muc1700_epoch60_nhid800.json\n",
      "../Results-MLPwAttention-Bucketed/probresult_Y_bucket_num_sent_muc1700_X_TANL_layer_1_bert-uncased_epoch20_muc1700_epoch60_nhid200.json\n",
      "../Results-MLPwAttention-Bucketed/probresult_Y_bucket_num_events_muc1700_X_TANL_layer_2_bert-uncased_epoch20_muc1700_epoch52_nhid200.json\n",
      "../Results-MLPwAttention-Bucketed/probresult_Y_bucket_num_words_muc1700_X_TANL_layer_5_bert-uncased_epoch20_muc1700_epoch60_nhid100.json\n",
      "../Results-MLPwAttention-Bucketed/probresult_Y_bucket_num_sent_muc1700_X_GTT_layer_11_bert-uncased_epoch18_muc1700_epoch56_nhid400.json\n",
      "../Results-MLPwAttention-Bucketed/probresult_Y_bucket_num_sent_muc1700_X_GTT_layer_10_bert-uncased_epoch18_muc1700_epoch60_nhid400.json\n",
      "../Results-MLPwAttention-Bucketed/probresult_Y_bucket_num_words_muc1700_X_TANL_layer_1_bert-uncased_epoch20_muc1700_epoch56_nhid800.json\n",
      "../Results-MLPwAttention-Bucketed/probresult_Y_bucket_num_words_muc1700_X_TANL_layer_0_bert-uncased_epoch20_muc1700_epoch60_nhid800.json\n",
      "../Results-MLPwAttention-Bucketed/probresult_Y_bucket_num_sent_muc1700_X_GTT_layer_3_bert-uncased_epoch18_muc1700_epoch48_nhid100.json\n",
      "../Results-MLPwAttention-Bucketed/probresult_Y_bucket_num_sent_muc1700_X_GTT_layer_11_bert-uncased_epoch18_muc1700_epoch56_nhid800.json\n",
      "../Results-MLPwAttention-Bucketed/probresult_Y_bucket_num_sent_muc1700_X_GTT_layer_4_bert-uncased_epoch18_muc1700_epoch48_nhid400.json\n",
      "../Results-MLPwAttention-Bucketed/probresult_Y_bucket_num_events_muc1700_X_GTT_layer_8_bert-uncased_epoch18_muc1700_epoch52_nhid800.json\n",
      "../Results-MLPwAttention-Bucketed/probresult_Y_bucket_num_events_muc1700_X_GTT_layer_11_bert-uncased_epoch18_muc1700_epoch56_nhid100.json\n",
      "../Results-MLPwAttention-Bucketed/probresult_Y_bucket_num_events_muc1700_X_TANL_layer_5_bert-uncased_epoch20_muc1700_epoch48_nhid400.json\n",
      "../Results-MLPwAttention-Bucketed/probresult_Y_bucket_num_words_muc1700_X_GTT_layer_1_bert-uncased_epoch18_muc1700_epoch48_nhid800.json\n",
      "../Results-MLPwAttention-Bucketed/probresult_Y_bucket_num_events_muc1700_X_GTT_layer_2_bert-uncased_epoch18_muc1700_epoch48_nhid800.json\n",
      "../Results-MLPwAttention-Bucketed/probresult_Y_bucket_num_sent_muc1700_X_TANL_layer_last_bert-uncased_epoch20_muc1700_epoch60_nhid400.json\n",
      "../Results-MLPwAttention-Bucketed/probresult_Y_bucket_num_sent_muc1700_X_GTT_layer_4_bert-uncased_epoch18_muc1700_epoch48_nhid800.json\n",
      "../Results-MLPwAttention-Bucketed/probresult_Y_bucket_num_words_muc1700_X_GTT_layer_0_bert-uncased_epoch18_muc1700_epoch48_nhid800.json\n",
      "../Results-MLPwAttention-Bucketed/probresult_Y_bucket_num_events_muc1700_X_GTT_layer_3_bert-uncased_epoch18_muc1700_epoch48_nhid800.json\n",
      "../Results-MLPwAttention-Bucketed/probresult_Y_bucket_num_events_muc1700_X_GTT_layer_9_bert-uncased_epoch18_muc1700_epoch52_nhid400.json\n",
      "../Results-MLPwAttention-Bucketed/probresult_Y_bucket_num_events_muc1700_X_GTT_layer_6_bert-uncased_epoch18_muc1700_epoch52_nhid200.json\n",
      "../Results-MLPwAttention-Bucketed/probresult_Y_bucket_num_words_muc1700_X_GTT_layer_0_bert-uncased_epoch18_muc1700_epoch48_nhid400.json\n",
      "../Results-MLPwAttention-Bucketed/probresult_Y_bucket_num_sent_muc1700_X_TANL_layer_3_bert-uncased_epoch20_muc1700_epoch56_nhid200.json\n",
      "../Results-MLPwAttention-Bucketed/probresult_Y_bucket_num_words_muc1700_X_GTT_layer_10_bert-uncased_epoch18_muc1700_epoch68_nhid100.json\n",
      "../Results-MLPwAttention-Bucketed/probresult_Y_bucket_num_sent_muc1700_X_GTT_layer_5_bert-uncased_epoch18_muc1700_epoch48_nhid800.json\n",
      "../Results-MLPwAttention-Bucketed/probresult_Y_bucket_num_words_muc1700_X_TANL_layer_6_bert-uncased_epoch20_muc1700_epoch60_nhid100.json\n",
      "../Results-MLPwAttention-Bucketed/probresult_Y_bucket_num_words_muc1700_X_TANL_layer_1_bert-uncased_epoch20_muc1700_epoch60_nhid400.json\n",
      "../Results-MLPwAttention-Bucketed/probresult_Y_bucket_num_words_muc1700_X_GTT_layer_9_bert-uncased_epoch18_muc1700_epoch60_nhid100.json\n",
      "../Results-MLPwAttention-Bucketed/probresult_Y_bucket_num_words_muc1700_X_TANL_layer_0_bert-uncased_epoch20_muc1700_epoch56_nhid400.json\n",
      "../Results-MLPwAttention-Bucketed/probresult_Y_bucket_num_words_muc1700_X_TANL_layer_5_bert-uncased_epoch20_muc1700_epoch52_nhid800.json\n",
      "../Results-MLPwAttention-Bucketed/probresult_Y_bucket_num_sent_muc1700_X_GTT_layer_9_bert-uncased_epoch18_muc1700_epoch64_nhid100.json\n",
      "../Results-MLPwAttention-Bucketed/probresult_Y_bucket_num_events_muc1700_X_TANL_layer_3_bert-uncased_epoch20_muc1700_epoch48_nhid100.json\n",
      "../Results-MLPwAttention-Bucketed/probresult_Y_bucket_num_sent_muc1700_X_GTT_layer_2_bert-uncased_epoch18_muc1700_epoch48_nhid100.json\n",
      "../Results-MLPwAttention-Bucketed/probresult_Y_bucket_num_events_muc1700_X_TANL_layer_8_bert-uncased_epoch20_muc1700_epoch48_nhid400.json\n",
      "../Results-MLPwAttention-Bucketed/probresult_Y_bucket_num_events_muc1700_X_TANL_layer_2_bert-uncased_epoch20_muc1700_epoch52_nhid800.json\n",
      "../Results-MLPwAttention-Bucketed/probresult_Y_bucket_num_events_muc1700_X_GTT_layer_0_bert-uncased_epoch18_muc1700_epoch48_nhid200.json\n",
      "../Results-MLPwAttention-Bucketed/probresult_Y_bucket_num_sent_muc1700_X_GTT_layer_9_bert-uncased_epoch18_muc1700_epoch56_nhid200.json\n",
      "../Results-MLPwAttention-Bucketed/probresult_Y_bucket_num_events_muc1700_X_GTT_layer_last_bert-uncased_epoch18_muc1700_epoch60_nhid400.json\n",
      "../Results-MLPwAttention-Bucketed/probresult_Y_bucket_num_events_muc1700_X_GTT_layer_last_bert-uncased_epoch18_muc1700_epoch60_nhid800.json\n",
      "../Results-MLPwAttention-Bucketed/probresult_Y_bucket_num_events_muc1700_X_GTT_layer_1_bert-uncased_epoch18_muc1700_epoch60_nhid800.json\n",
      "../Results-MLPwAttention-Bucketed/probresult_Y_bucket_num_sent_muc1700_X_TANL_layer_0_bert-uncased_epoch20_muc1700_epoch56_nhid400.json\n",
      "../Results-MLPwAttention-Bucketed/probresult_Y_bucket_num_sent_muc1700_X_TANL_layer_10_bert-uncased_epoch20_muc1700_epoch60_nhid400.json\n",
      "../Results-MLPwAttention-Bucketed/probresult_Y_bucket_num_words_muc1700_X_GTT_layer_10_bert-uncased_epoch18_muc1700_epoch56_nhid400.json\n",
      "../Results-MLPwAttention-Bucketed/probresult_Y_bucket_num_events_muc1700_X_GTT_layer_11_bert-uncased_epoch18_muc1700_epoch52_nhid200.json\n",
      "../Results-MLPwAttention-Bucketed/probresult_Y_bucket_num_words_muc1700_X_GTT_layer_4_bert-uncased_epoch18_muc1700_epoch56_nhid100.json\n",
      "../Results-MLPwAttention-Bucketed/probresult_Y_bucket_num_events_muc1700_X_GTT_layer_2_bert-uncased_epoch18_muc1700_epoch52_nhid100.json\n",
      "../Results-MLPwAttention-Bucketed/probresult_Y_bucket_num_sent_muc1700_X_dygiepp_embedding-unpadded_bert-uncased_epoch21_muc1700_epoch68_nhid100.json\n",
      "../Results-MLPwAttention-Bucketed/probresult_Y_bucket_num_sent_muc1700_X_GTT_layer_4_bert-uncased_epoch18_muc1700_epoch52_nhid100.json\n",
      "../Results-MLPwAttention-Bucketed/probresult_Y_bucket_num_events_muc1700_X_TANL_layer_11_bert-uncased_epoch20_muc1700_epoch52_nhid200.json\n",
      "../Results-MLPwAttention-Bucketed/probresult_Y_bucket_num_sent_muc1700_X_TANL_layer_2_bert-uncased_epoch20_muc1700_epoch52_nhid100.json\n",
      "../Results-MLPwAttention-Bucketed/probresult_Y_bucket_num_words_muc1700_X_TANL_layer_6_bert-uncased_epoch20_muc1700_epoch52_nhid200.json\n",
      "../Results-MLPwAttention-Bucketed/probresult_Y_bucket_num_events_muc1700_X_GTT_layer_7_bert-uncased_epoch18_muc1700_epoch56_nhid100.json\n",
      "../Results-MLPwAttention-Bucketed/probresult_Y_bucket_num_words_muc1700_X_GTT_layer_1_bert-uncased_epoch18_muc1700_epoch52_nhid100.json\n",
      "../Results-MLPwAttention-Bucketed/probresult_Y_bucket_num_words_muc1700_X_TANL_layer_9_bert-uncased_epoch20_muc1700_epoch52_nhid400.json\n",
      "../Results-MLPwAttention-Bucketed/probresult_Y_bucket_num_sent_muc1700_X_dygiepp_embedding-unpadded_bert-uncased_epoch21_muc1700_epoch80_nhid400.json\n",
      "../Results-MLPwAttention-Bucketed/probresult_Y_bucket_num_sent_muc1700_X_TANL_layer_7_bert-uncased_epoch20_muc1700_epoch60_nhid100.json\n",
      "../Results-MLPwAttention-Bucketed/probresult_Y_bucket_num_events_muc1700_X_GTT_layer_10_bert-uncased_epoch18_muc1700_epoch52_nhid200.json\n",
      "../Results-MLPwAttention-Bucketed/probresult_Y_bucket_num_words_muc1700_X_TANL_layer_8_bert-uncased_epoch20_muc1700_epoch52_nhid800.json\n",
      "../Results-MLPwAttention-Bucketed/probresult_Y_bucket_num_words_muc1700_X_GTT_layer_5_bert-uncased_epoch18_muc1700_epoch56_nhid100.json\n",
      "../Results-MLPwAttention-Bucketed/probresult_Y_bucket_num_sent_muc1700_X_TANL_layer_6_bert-uncased_epoch20_muc1700_epoch56_nhid100.json\n",
      "../Results-MLPwAttention-Bucketed/probresult_Y_bucket_num_events_muc1700_X_TANL_layer_10_bert-uncased_epoch20_muc1700_epoch52_nhid200.json\n",
      "../Results-MLPwAttention-Bucketed/probresult_Y_bucket_num_words_muc1700_X_TANL_layer_last_bert-uncased_epoch20_muc1700_epoch64_nhid100.json\n",
      "../Results-MLPwAttention-Bucketed/probresult_Y_bucket_num_events_muc1700_X_GTT_layer_6_bert-uncased_epoch18_muc1700_epoch56_nhid100.json\n",
      "../Results-MLPwAttention-Bucketed/probresult_Y_bucket_num_events_muc1700_X_TANL_layer_last_bert-uncased_epoch20_muc1700_epoch56_nhid100.json\n",
      "../Results-MLPwAttention-Bucketed/probresult_Y_bucket_num_events_muc1700_X_TANL_layer_9_bert-uncased_epoch20_muc1700_epoch48_nhid400.json\n",
      "../Results-MLPwAttention-Bucketed/probresult_Y_bucket_num_events_muc1700_X_TANL_layer_3_bert-uncased_epoch20_muc1700_epoch52_nhid800.json\n",
      "../Results-MLPwAttention-Bucketed/probresult_Y_bucket_num_events_muc1700_X_TANL_layer_6_bert-uncased_epoch20_muc1700_epoch48_nhid200.json\n",
      "../Results-MLPwAttention-Bucketed/probresult_Y_bucket_num_events_muc1700_X_GTT_layer_1_bert-uncased_epoch18_muc1700_epoch56_nhid400.json\n",
      "../Results-MLPwAttention-Bucketed/probresult_Y_bucket_num_sent_muc1700_X_TANL_layer_10_bert-uncased_epoch20_muc1700_epoch56_nhid800.json\n",
      "../Results-MLPwAttention-Bucketed/probresult_Y_bucket_num_events_muc1700_X_GTT_layer_5_bert-uncased_epoch18_muc1700_epoch64_nhid800.json\n",
      "../Results-MLPwAttention-Bucketed/probresult_Y_bucket_num_sent_muc1700_X_TANL_layer_11_bert-uncased_epoch20_muc1700_epoch60_nhid800.json\n",
      "../Results-MLPwAttention-Bucketed/probresult_Y_bucket_num_sent_muc1700_X_GTT_layer_7_bert-uncased_epoch18_muc1700_epoch56_nhid400.json\n",
      "../Results-MLPwAttention-Bucketed/probresult_Y_bucket_num_sent_muc1700_X_TANL_layer_1_bert-uncased_epoch20_muc1700_epoch56_nhid800.json\n",
      "../Results-MLPwAttention-Bucketed/probresult_Y_bucket_num_words_muc1700_X_TANL_layer_10_bert-uncased_epoch20_muc1700_epoch52_nhid800.json\n",
      "../Results-MLPwAttention-Bucketed/probresult_Y_bucket_num_sent_muc1700_X_TANL_layer_1_bert-uncased_epoch20_muc1700_epoch56_nhid400.json\n",
      "../Results-MLPwAttention-Bucketed/probresult_Y_bucket_num_sent_muc1700_X_TANL_layer_11_bert-uncased_epoch20_muc1700_epoch60_nhid400.json\n",
      "../Results-MLPwAttention-Bucketed/probresult_Y_bucket_num_words_muc1700_X_GTT_layer_2_bert-uncased_epoch18_muc1700_epoch48_nhid200.json\n",
      "../Results-MLPwAttention-Bucketed/probresult_Y_bucket_num_words_muc1700_X_GTT_layer_2_bert-uncased_epoch18_muc1700_epoch56_nhid400.json\n",
      "../Results-MLPwAttention-Bucketed/probresult_Y_bucket_num_sent_muc1700_X_TANL_layer_5_bert-uncased_epoch20_muc1700_epoch60_nhid100.json\n",
      "../Results-MLPwAttention-Bucketed/probresult_Y_bucket_num_events_muc1700_X_GTT_layer_1_bert-uncased_epoch18_muc1700_epoch52_nhid100.json\n",
      "../Results-MLPwAttention-Bucketed/probresult_Y_bucket_num_words_muc1700_X_TANL_layer_11_bert-uncased_epoch20_muc1700_epoch60_nhid100.json\n",
      "../Results-MLPwAttention-Bucketed/probresult_Y_bucket_num_words_muc1700_X_TANL_layer_0_bert-uncased_epoch20_muc1700_epoch56_nhid200.json\n",
      "../Results-MLPwAttention-Bucketed/probresult_Y_bucket_num_sent_muc1700_X_GTT_layer_10_bert-uncased_epoch18_muc1700_epoch56_nhid200.json\n",
      "../Results-MLPwAttention-Bucketed/probresult_Y_bucket_num_events_muc1700_X_GTT_layer_5_bert-uncased_epoch18_muc1700_epoch60_nhid100.json\n",
      "../Results-MLPwAttention-Bucketed/probresult_Y_bucket_num_events_muc1700_X_GTT_layer_4_bert-uncased_epoch18_muc1700_epoch56_nhid100.json\n",
      "../Results-MLPwAttention-Bucketed/probresult_Y_bucket_num_sent_muc1700_X_TANL_layer_8_bert-uncased_epoch20_muc1700_epoch68_nhid800.json\n",
      "../Results-MLPwAttention-Bucketed/probresult_Y_bucket_num_words_muc1700_X_GTT_layer_2_bert-uncased_epoch18_muc1700_epoch52_nhid100.json\n",
      "../Results-MLPwAttention-Bucketed/probresult_Y_bucket_num_words_muc1700_X_TANL_layer_last_bert-uncased_epoch20_muc1700_epoch72_nhid400.json\n",
      "../Results-MLPwAttention-Bucketed/probresult_Y_bucket_num_events_muc1700_X_GTT_layer_6_bert-uncased_epoch18_muc1700_epoch52_nhid800.json\n",
      "../Results-MLPwAttention-Bucketed/probresult_Y_bucket_num_events_muc1700_X_TANL_layer_1_bert-uncased_epoch20_muc1700_epoch52_nhid800.json\n",
      "../Results-MLPwAttention-Bucketed/probresult_Y_bucket_num_events_muc1700_X_TANL_layer_4_bert-uncased_epoch20_muc1700_epoch56_nhid400.json\n",
      "../Results-MLPwAttention-Bucketed/probresult_Y_bucket_num_sent_muc1700_X_GTT_layer_5_bert-uncased_epoch18_muc1700_epoch56_nhid400.json\n",
      "../Results-MLPwAttention-Bucketed/probresult_Y_bucket_num_sent_muc1700_X_TANL_layer_3_bert-uncased_epoch20_muc1700_epoch56_nhid800.json\n",
      "../Results-MLPwAttention-Bucketed/probresult_Y_bucket_num_events_muc1700_X_TANL_layer_10_bert-uncased_epoch20_muc1700_epoch48_nhid100.json\n",
      "../Results-MLPwAttention-Bucketed/probresult_Y_bucket_num_sent_muc1700_X_TANL_layer_3_bert-uncased_epoch20_muc1700_epoch56_nhid400.json\n",
      "../Results-MLPwAttention-Bucketed/probresult_Y_bucket_num_events_muc1700_X_TANL_layer_1_bert-uncased_epoch20_muc1700_epoch52_nhid400.json\n",
      "../Results-MLPwAttention-Bucketed/probresult_Y_bucket_num_events_muc1700_X_GTT_layer_6_bert-uncased_epoch18_muc1700_epoch52_nhid400.json\n",
      "../Results-MLPwAttention-Bucketed/probresult_Y_bucket_num_events_muc1700_X_GTT_layer_9_bert-uncased_epoch18_muc1700_epoch52_nhid200.json\n",
      "../Results-MLPwAttention-Bucketed/probresult_Y_bucket_num_sent_muc1700_X_GTT_layer_last_bert-uncased_epoch18_muc1700_epoch68_nhid100.json\n",
      "../Results-MLPwAttention-Bucketed/probresult_Y_bucket_num_events_muc1700_X_TANL_layer_5_bert-uncased_epoch20_muc1700_epoch48_nhid200.json\n",
      "../Results-MLPwAttention-Bucketed/probresult_Y_bucket_num_words_muc1700_X_GTT_layer_4_bert-uncased_epoch18_muc1700_epoch52_nhid400.json\n",
      "../Results-MLPwAttention-Bucketed/probresult_Y_bucket_num_sent_muc1700_X_TANL_layer_2_bert-uncased_epoch20_muc1700_epoch56_nhid800.json\n",
      "../Results-MLPwAttention-Bucketed/probresult_Y_bucket_num_sent_muc1700_X_GTT_layer_4_bert-uncased_epoch18_muc1700_epoch48_nhid200.json\n",
      "../Results-MLPwAttention-Bucketed/probresult_Y_bucket_num_events_muc1700_X_TANL_layer_last_bert-uncased_epoch20_muc1700_epoch64_nhid800.json\n",
      "../Results-MLPwAttention-Bucketed/probresult_Y_bucket_num_words_muc1700_X_TANL_layer_8_bert-uncased_epoch20_muc1700_epoch60_nhid100.json\n",
      "../Results-MLPwAttention-Bucketed/probresult_Y_bucket_num_events_muc1700_X_TANL_layer_last_bert-uncased_epoch20_muc1700_epoch64_nhid400.json\n",
      "../Results-MLPwAttention-Bucketed/probresult_Y_bucket_num_sent_muc1700_X_TANL_layer_2_bert-uncased_epoch20_muc1700_epoch56_nhid400.json\n",
      "../Results-MLPwAttention-Bucketed/probresult_Y_bucket_num_events_muc1700_X_GTT_layer_7_bert-uncased_epoch18_muc1700_epoch52_nhid400.json\n",
      "../Results-MLPwAttention-Bucketed/probresult_Y_bucket_num_events_muc1700_X_GTT_layer_8_bert-uncased_epoch18_muc1700_epoch52_nhid200.json\n",
      "../Results-MLPwAttention-Bucketed/probresult_Y_bucket_num_words_muc1700_X_GTT_layer_4_bert-uncased_epoch18_muc1700_epoch52_nhid800.json\n",
      "../Results-MLPwAttention-Bucketed/probresult_Y_bucket_num_words_muc1700_X_TANL_layer_9_bert-uncased_epoch20_muc1700_epoch56_nhid100.json\n",
      "../Results-MLPwAttention-Bucketed/probresult_Y_bucket_num_sent_muc1700_X_TANL_layer_4_bert-uncased_epoch20_muc1700_epoch60_nhid100.json\n",
      "../Results-MLPwAttention-Bucketed/probresult_Y_bucket_num_words_muc1700_X_GTT_layer_6_bert-uncased_epoch18_muc1700_epoch56_nhid100.json\n",
      "../Results-MLPwAttention-Bucketed/probresult_Y_bucket_num_events_muc1700_X_GTT_layer_0_bert-uncased_epoch18_muc1700_epoch52_nhid100.json\n",
      "../Results-MLPwAttention-Bucketed/probresult_Y_bucket_num_words_muc1700_X_TANL_layer_10_bert-uncased_epoch20_muc1700_epoch60_nhid100.json\n",
      "../Results-MLPwAttention-Bucketed/probresult_Y_bucket_num_sent_muc1700_X_GTT_layer_11_bert-uncased_epoch18_muc1700_epoch56_nhid200.json\n",
      "../Results-MLPwAttention-Bucketed/probresult_Y_bucket_num_sent_muc1700_X_dygiepp_embedding-unpadded_bert-uncased_epoch21_muc1700_epoch60_nhid200.json\n",
      "../Results-MLPwAttention-Bucketed/probresult_Y_bucket_num_events_muc1700_X_TANL_layer_last_bert-uncased_epoch20_muc1700_epoch68_nhid200.json\n",
      "../Results-MLPwAttention-Bucketed/probresult_Y_bucket_num_events_muc1700_X_TANL_layer_2_bert-uncased_epoch20_muc1700_epoch56_nhid100.json\n",
      "../Results-MLPwAttention-Bucketed/probresult_Y_bucket_num_words_muc1700_X_GTT_layer_3_bert-uncased_epoch18_muc1700_epoch52_nhid100.json\n"
     ]
    }
   ],
   "source": [
    "results = defaultdict(lambda: defaultdict(list))\n",
    "results_path = \"../Results-MLPwAttention-Bucketed/\"\n",
    "for file in os.listdir(results_path):\n",
    "    prefix = \"probresult\"\n",
    "    if file[:len(prefix)] == prefix and file[-5:] == \".json\":\n",
    "        print(os.path.join(results_path, file))\n",
    "        with open(os.path.join(results_path, file)) as f:\n",
    "            result = json.load(f)\n",
    "            results[result[\"X\"]][result[\"Y\"]].append(result)\n"
   ],
   "metadata": {
    "collapsed": false,
    "ExecuteTime": {
     "end_time": "2023-05-02T20:27:58.784591Z",
     "start_time": "2023-05-02T20:27:57.547663Z"
    }
   }
  },
  {
   "cell_type": "code",
   "execution_count": 232,
   "outputs": [
    {
     "data": {
      "text/plain": "[dict_keys(['Y_bucket_num_sent_muc1700', 'Y_bucket_num_words_muc1700', 'Y_bucket_num_events_muc1700']),\n dict_keys(['Y_bucket_num_events_muc1700', 'Y_bucket_num_words_muc1700', 'Y_bucket_num_sent_muc1700']),\n dict_keys(['Y_bucket_num_words_muc1700', 'Y_bucket_num_events_muc1700', 'Y_bucket_num_sent_muc1700']),\n dict_keys(['Y_bucket_num_words_muc1700', 'Y_bucket_num_events_muc1700', 'Y_bucket_num_sent_muc1700']),\n dict_keys(['Y_bucket_num_sent_muc1700', 'Y_bucket_num_events_muc1700', 'Y_bucket_num_words_muc1700']),\n dict_keys(['Y_bucket_num_words_muc1700', 'Y_bucket_num_sent_muc1700', 'Y_bucket_num_events_muc1700']),\n dict_keys(['Y_bucket_num_words_muc1700', 'Y_bucket_num_sent_muc1700', 'Y_bucket_num_events_muc1700']),\n dict_keys(['Y_bucket_num_words_muc1700', 'Y_bucket_num_sent_muc1700', 'Y_bucket_num_events_muc1700']),\n dict_keys(['Y_bucket_num_events_muc1700', 'Y_bucket_num_words_muc1700', 'Y_bucket_num_sent_muc1700']),\n dict_keys(['Y_bucket_num_words_muc1700', 'Y_bucket_num_events_muc1700', 'Y_bucket_num_sent_muc1700']),\n dict_keys(['Y_bucket_num_events_muc1700', 'Y_bucket_num_words_muc1700', 'Y_bucket_num_sent_muc1700']),\n dict_keys(['Y_bucket_num_sent_muc1700', 'Y_bucket_num_words_muc1700', 'Y_bucket_num_events_muc1700']),\n dict_keys(['Y_bucket_num_words_muc1700', 'Y_bucket_num_events_muc1700', 'Y_bucket_num_sent_muc1700']),\n dict_keys(['Y_bucket_num_sent_muc1700', 'Y_bucket_num_events_muc1700', 'Y_bucket_num_words_muc1700']),\n dict_keys(['Y_bucket_num_sent_muc1700', 'Y_bucket_num_words_muc1700', 'Y_bucket_num_events_muc1700']),\n dict_keys(['Y_bucket_num_words_muc1700', 'Y_bucket_num_events_muc1700', 'Y_bucket_num_sent_muc1700']),\n dict_keys(['Y_bucket_num_events_muc1700', 'Y_bucket_num_sent_muc1700', 'Y_bucket_num_words_muc1700']),\n dict_keys(['Y_bucket_num_words_muc1700', 'Y_bucket_num_sent_muc1700', 'Y_bucket_num_events_muc1700']),\n dict_keys(['Y_bucket_num_sent_muc1700', 'Y_bucket_num_words_muc1700', 'Y_bucket_num_events_muc1700']),\n dict_keys(['Y_bucket_num_events_muc1700', 'Y_bucket_num_sent_muc1700', 'Y_bucket_num_words_muc1700']),\n dict_keys(['Y_bucket_num_sent_muc1700', 'Y_bucket_num_events_muc1700', 'Y_bucket_num_words_muc1700']),\n dict_keys(['Y_bucket_num_words_muc1700', 'Y_bucket_num_events_muc1700', 'Y_bucket_num_sent_muc1700']),\n dict_keys(['Y_bucket_num_sent_muc1700', 'Y_bucket_num_words_muc1700', 'Y_bucket_num_events_muc1700']),\n dict_keys(['Y_bucket_num_events_muc1700', 'Y_bucket_num_words_muc1700', 'Y_bucket_num_sent_muc1700']),\n dict_keys(['Y_bucket_num_words_muc1700', 'Y_bucket_num_events_muc1700', 'Y_bucket_num_sent_muc1700']),\n dict_keys(['Y_bucket_num_sent_muc1700', 'Y_bucket_num_words_muc1700', 'Y_bucket_num_events_muc1700']),\n dict_keys(['Y_bucket_num_words_muc1700', 'Y_bucket_num_sent_muc1700', 'Y_bucket_num_events_muc1700'])]"
     },
     "execution_count": 232,
     "metadata": {},
     "output_type": "execute_result"
    }
   ],
   "source": [
    "[results[k].keys() for k in results.keys()]"
   ],
   "metadata": {
    "collapsed": false,
    "ExecuteTime": {
     "end_time": "2023-05-02T20:27:58.788328Z",
     "start_time": "2023-05-02T20:27:58.783057Z"
    }
   }
  },
  {
   "cell_type": "code",
   "execution_count": 233,
   "outputs": [],
   "source": [
    "display_dict = {}  # Create an empty dictionary to store the final result\n",
    "\n",
    "for embedding_layer_name, v in results.items():  # Iterate through each key-value pair in the \"results\" dictionary\n",
    "    inner_dict = {}  # Create an empty dictionary to store the inner values\n",
    "    for task_name, list_of_results in v.items():  # Iterate through each key-value pair in the inner dictionary\n",
    "        # Sort the values based on the 'hidden_size' key and extract the 'val_acc' values\n",
    "        sorted_values = sorted([(d['hidden_size'], d['val_acc']) for d in list_of_results], key=lambda p: p[0])\n",
    "        # Extract the 'val_acc' values from the sorted list and assign them to the inner dictionary\n",
    "        inner_dict[task_name] = [p[1] for p in sorted_values]\n",
    "        inner_dict[task_name] = [str(p) + (\"*\" if p == max(inner_dict[task_name]) else \"\") for p in\n",
    "                                 inner_dict[task_name]]\n",
    "    # Remove the last 29 characters in column names (\"_bert-uncased_epoch20_muc1700\")\n",
    "    display_dict[embedding_layer_name[2:-29]] = inner_dict\n",
    "\n",
    "df = pd.DataFrame.from_dict(sort_dict_by_key(display_dict), orient='index')\n",
    "df_aligned = df.applymap(lambda l: [x.ljust(6) for x in l])\n",
    "\n",
    "df_aligned.columns.name = \"val acc of hidden size\\n [100, 200, 400, 800]\\nbert-uncased, muc1700\\n * = best performance in cell\""
   ],
   "metadata": {
    "collapsed": false,
    "ExecuteTime": {
     "end_time": "2023-05-02T20:27:58.800056Z",
     "start_time": "2023-05-02T20:27:58.793167Z"
    }
   }
  },
  {
   "cell_type": "code",
   "execution_count": 234,
   "outputs": [
    {
     "data": {
      "text/plain": "val acc of hidden size\n [100, 200, 400, 800]\nbert-uncased, muc1700\n * = best performance in cell       Y_bucket_num_events_muc1700  \\\nGTT_layer_0                                                                                       [0.635*, 0.615 , 0.605 , 0.62  ]   \nGTT_layer_1                                                                                       [0.665 , 0.66  , 0.655 , 0.67* ]   \nGTT_layer_2                                                                                       [0.695*, 0.68  , 0.69  , 0.695*]   \nGTT_layer_3                                                                                       [0.665 , 0.67  , 0.675*, 0.67  ]   \nGTT_layer_4                                                                                       [0.69  , 0.7*  , 0.7*  , 0.695 ]   \nGTT_layer_5                                                                                       [0.705 , 0.695 , 0.7   , 0.71* ]   \nGTT_layer_6                                                                                       [0.685 , 0.69* , 0.69* , 0.69* ]   \nGTT_layer_7                                                                                       [0.7*  , 0.695 , 0.69  , 0.69  ]   \nGTT_layer_8                                                                                       [0.7*  , 0.695 , 0.7*  , 0.69  ]   \nGTT_layer_9                                                                                       [0.695 , 0.7   , 0.705*, 0.705*]   \nGTT_layer_10                                                                                      [0.7   , 0.71* , 0.7   , 0.7   ]   \nGTT_layer_11                                                                                      [0.7   , 0.7   , 0.7   , 0.705*]   \nGTT_layer_last                                                                                    [0.705 , 0.7   , 0.71* , 0.7   ]   \nTANL_layer_0                                                                                      [0.42  , 0.49  , 0.535*, 0.485 ]   \nTANL_layer_1                                                                                      [0.52* , 0.42  , 0.43  , 0.45  ]   \nTANL_layer_2                                                                                      [0.53* , 0.435 , 0.42  , 0.42  ]   \nTANL_layer_3                                                                                      [0.42* , 0.42* , 0.42* , 0.42* ]   \nTANL_layer_4                                                                                      [0.42  , 0.42  , 0.475*, 0.42  ]   \nTANL_layer_5                                                                                      [0.42* , 0.42* , 0.42* , 0.42* ]   \nTANL_layer_6                                                                                      [0.42* , 0.42* , 0.42* , 0.42* ]   \nTANL_layer_7                                                                                      [0.42  , 0.48* , 0.42  , 0.42  ]   \nTANL_layer_8                                                                                      [0.42  , 0.5*  , 0.42  , 0.42  ]   \nTANL_layer_9                                                                                      [0.42  , 0.44* , 0.42  , 0.42  ]   \nTANL_layer_10                                                                                     [0.42  , 0.42  , 0.42  , 0.475*]   \nTANL_layer_11                                                                                     [0.42  , 0.44* , 0.42  , 0.42  ]   \nTANL_layer_last                                                                                   [0.67  , 0.685 , 0.7   , 0.715*]   \ndygiepp_embedding-unpadded                                                                        [0.7   , 0.705 , 0.7   , 0.71* ]   \n\nval acc of hidden size\n [100, 200, 400, 800]\nbert-uncased, muc1700\n * = best performance in cell        Y_bucket_num_words_muc1700  \\\nGTT_layer_0                                                                                       [0.595 , 0.6*  , 0.585 , 0.565 ]   \nGTT_layer_1                                                                                       [0.525 , 0.535 , 0.545 , 0.555*]   \nGTT_layer_2                                                                                       [0.54* , 0.525 , 0.54* , 0.535 ]   \nGTT_layer_3                                                                                       [0.51  , 0.52  , 0.515 , 0.525*]   \nGTT_layer_4                                                                                       [0.545*, 0.54  , 0.54  , 0.545*]   \nGTT_layer_5                                                                                       [0.565*, 0.565*, 0.55  , 0.56  ]   \nGTT_layer_6                                                                                       [0.57* , 0.55  , 0.56  , 0.555 ]   \nGTT_layer_7                                                                                       [0.59* , 0.51  , 0.51  , 0.525 ]   \nGTT_layer_8                                                                                       [0.605*, 0.5   , 0.54  , 0.515 ]   \nGTT_layer_9                                                                                       [0.575 , 0.615*, 0.61  , 0.61  ]   \nGTT_layer_10                                                                                      [0.585 , 0.59  , 0.6   , 0.62* ]   \nGTT_layer_11                                                                                      [0.555 , 0.58  , 0.59  , 0.61* ]   \nGTT_layer_last                                                                                    [0.595 , 0.605*, 0.59  , 0.59  ]   \nTANL_layer_0                                                                                      [0.125 , 0.175 , 0.14  , 0.19* ]   \nTANL_layer_1                                                                                      [0.165 , 0.18* , 0.17  , 0.12  ]   \nTANL_layer_2                                                                                      [0.125 , 0.2*  , 0.125 , 0.12  ]   \nTANL_layer_3                                                                                      [0.125 , 0.13  , 0.125 , 0.175*]   \nTANL_layer_4                                                                                      [0.125*, 0.125*, 0.125*, 0.12  ]   \nTANL_layer_5                                                                                      [0.125*, 0.125*, 0.125*, 0.12  ]   \nTANL_layer_6                                                                                      [0.125 , 0.145*, 0.125 , 0.12  ]   \nTANL_layer_7                                                                                      [0.155*, 0.125 , 0.125 , 0.12  ]   \nTANL_layer_8                                                                                      [0.125 , 0.125 , 0.195*, 0.12  ]   \nTANL_layer_9                                                                                      [0.125 , 0.125 , 0.155 , 0.19* ]   \nTANL_layer_10                                                                                     [0.125*, 0.125*, 0.125*, 0.12  ]   \nTANL_layer_11                                                                                     [0.125 , 0.185*, 0.175 , 0.165 ]   \nTANL_layer_last                                                                                   [0.555*, 0.545 , 0.545 , 0.55  ]   \ndygiepp_embedding-unpadded                                                                        [0.62* , 0.61  , 0.61  , 0.56  ]   \n\nval acc of hidden size\n [100, 200, 400, 800]\nbert-uncased, muc1700\n * = best performance in cell         Y_bucket_num_sent_muc1700  \nGTT_layer_0                                                                                       [0.42* , 0.42* , 0.38  , 0.34  ]  \nGTT_layer_1                                                                                       [0.41* , 0.4   , 0.395 , 0.38  ]  \nGTT_layer_2                                                                                       [0.44* , 0.42  , 0.395 , 0.39  ]  \nGTT_layer_3                                                                                       [0.42  , 0.435*, 0.425 , 0.41  ]  \nGTT_layer_4                                                                                       [0.44* , 0.41  , 0.44* , 0.43  ]  \nGTT_layer_5                                                                                       [0.495*, 0.435 , 0.445 , 0.42  ]  \nGTT_layer_6                                                                                       [0.49* , 0.435 , 0.42  , 0.43  ]  \nGTT_layer_7                                                                                       [0.505*, 0.415 , 0.48  , 0.48  ]  \nGTT_layer_8                                                                                       [0.485*, 0.46  , 0.48  , 0.47  ]  \nGTT_layer_9                                                                                       [0.47* , 0.4   , 0.425 , 0.425 ]  \nGTT_layer_10                                                                                      [0.43  , 0.455*, 0.445 , 0.45  ]  \nGTT_layer_11                                                                                      [0.435 , 0.445 , 0.415 , 0.465*]  \nGTT_layer_last                                                                                    [0.535 , 0.525 , 0.54* , 0.505 ]  \nTANL_layer_0                                                                                      [0.12  , 0.175*, 0.175*, 0.175*]  \nTANL_layer_1                                                                                      [0.21* , 0.175 , 0.18  , 0.175 ]  \nTANL_layer_2                                                                                      [0.185*, 0.175 , 0.175 , 0.175 ]  \nTANL_layer_3                                                                                      [0.175 , 0.22* , 0.175 , 0.175 ]  \nTANL_layer_4                                                                                      [0.175*, 0.175*, 0.175*, 0.175*]  \nTANL_layer_5                                                                                      [0.175*, 0.175*, 0.175*, 0.175*]  \nTANL_layer_6                                                                                      [0.175 , 0.18* , 0.175 , 0.175 ]  \nTANL_layer_7                                                                                      [0.18* , 0.175 , 0.175 , 0.175 ]  \nTANL_layer_8                                                                                      [0.235*, 0.175 , 0.175 , 0.23  ]  \nTANL_layer_9                                                                                      [0.175 , 0.175 , 0.19  , 0.23* ]  \nTANL_layer_10                                                                                     [0.175 , 0.185*, 0.175 , 0.175 ]  \nTANL_layer_11                                                                                     [0.185 , 0.215*, 0.19  , 0.185 ]  \nTANL_layer_last                                                                                   [0.405 , 0.41  , 0.405 , 0.415*]  \ndygiepp_embedding-unpadded                                                                        [0.595*, 0.545 , 0.555 , 0.485 ]  ",
      "text/html": "<div>\n<style scoped>\n    .dataframe tbody tr th:only-of-type {\n        vertical-align: middle;\n    }\n\n    .dataframe tbody tr th {\n        vertical-align: top;\n    }\n\n    .dataframe thead th {\n        text-align: right;\n    }\n</style>\n<table border=\"1\" class=\"dataframe\">\n  <thead>\n    <tr style=\"text-align: right;\">\n      <th>val acc of hidden size\n [100, 200, 400, 800]\nbert-uncased, muc1700\n * = best performance in cell</th>\n      <th>Y_bucket_num_events_muc1700</th>\n      <th>Y_bucket_num_words_muc1700</th>\n      <th>Y_bucket_num_sent_muc1700</th>\n    </tr>\n  </thead>\n  <tbody>\n    <tr>\n      <th>GTT_layer_0</th>\n      <td>[0.635*, 0.615 , 0.605 , 0.62  ]</td>\n      <td>[0.595 , 0.6*  , 0.585 , 0.565 ]</td>\n      <td>[0.42* , 0.42* , 0.38  , 0.34  ]</td>\n    </tr>\n    <tr>\n      <th>GTT_layer_1</th>\n      <td>[0.665 , 0.66  , 0.655 , 0.67* ]</td>\n      <td>[0.525 , 0.535 , 0.545 , 0.555*]</td>\n      <td>[0.41* , 0.4   , 0.395 , 0.38  ]</td>\n    </tr>\n    <tr>\n      <th>GTT_layer_2</th>\n      <td>[0.695*, 0.68  , 0.69  , 0.695*]</td>\n      <td>[0.54* , 0.525 , 0.54* , 0.535 ]</td>\n      <td>[0.44* , 0.42  , 0.395 , 0.39  ]</td>\n    </tr>\n    <tr>\n      <th>GTT_layer_3</th>\n      <td>[0.665 , 0.67  , 0.675*, 0.67  ]</td>\n      <td>[0.51  , 0.52  , 0.515 , 0.525*]</td>\n      <td>[0.42  , 0.435*, 0.425 , 0.41  ]</td>\n    </tr>\n    <tr>\n      <th>GTT_layer_4</th>\n      <td>[0.69  , 0.7*  , 0.7*  , 0.695 ]</td>\n      <td>[0.545*, 0.54  , 0.54  , 0.545*]</td>\n      <td>[0.44* , 0.41  , 0.44* , 0.43  ]</td>\n    </tr>\n    <tr>\n      <th>GTT_layer_5</th>\n      <td>[0.705 , 0.695 , 0.7   , 0.71* ]</td>\n      <td>[0.565*, 0.565*, 0.55  , 0.56  ]</td>\n      <td>[0.495*, 0.435 , 0.445 , 0.42  ]</td>\n    </tr>\n    <tr>\n      <th>GTT_layer_6</th>\n      <td>[0.685 , 0.69* , 0.69* , 0.69* ]</td>\n      <td>[0.57* , 0.55  , 0.56  , 0.555 ]</td>\n      <td>[0.49* , 0.435 , 0.42  , 0.43  ]</td>\n    </tr>\n    <tr>\n      <th>GTT_layer_7</th>\n      <td>[0.7*  , 0.695 , 0.69  , 0.69  ]</td>\n      <td>[0.59* , 0.51  , 0.51  , 0.525 ]</td>\n      <td>[0.505*, 0.415 , 0.48  , 0.48  ]</td>\n    </tr>\n    <tr>\n      <th>GTT_layer_8</th>\n      <td>[0.7*  , 0.695 , 0.7*  , 0.69  ]</td>\n      <td>[0.605*, 0.5   , 0.54  , 0.515 ]</td>\n      <td>[0.485*, 0.46  , 0.48  , 0.47  ]</td>\n    </tr>\n    <tr>\n      <th>GTT_layer_9</th>\n      <td>[0.695 , 0.7   , 0.705*, 0.705*]</td>\n      <td>[0.575 , 0.615*, 0.61  , 0.61  ]</td>\n      <td>[0.47* , 0.4   , 0.425 , 0.425 ]</td>\n    </tr>\n    <tr>\n      <th>GTT_layer_10</th>\n      <td>[0.7   , 0.71* , 0.7   , 0.7   ]</td>\n      <td>[0.585 , 0.59  , 0.6   , 0.62* ]</td>\n      <td>[0.43  , 0.455*, 0.445 , 0.45  ]</td>\n    </tr>\n    <tr>\n      <th>GTT_layer_11</th>\n      <td>[0.7   , 0.7   , 0.7   , 0.705*]</td>\n      <td>[0.555 , 0.58  , 0.59  , 0.61* ]</td>\n      <td>[0.435 , 0.445 , 0.415 , 0.465*]</td>\n    </tr>\n    <tr>\n      <th>GTT_layer_last</th>\n      <td>[0.705 , 0.7   , 0.71* , 0.7   ]</td>\n      <td>[0.595 , 0.605*, 0.59  , 0.59  ]</td>\n      <td>[0.535 , 0.525 , 0.54* , 0.505 ]</td>\n    </tr>\n    <tr>\n      <th>TANL_layer_0</th>\n      <td>[0.42  , 0.49  , 0.535*, 0.485 ]</td>\n      <td>[0.125 , 0.175 , 0.14  , 0.19* ]</td>\n      <td>[0.12  , 0.175*, 0.175*, 0.175*]</td>\n    </tr>\n    <tr>\n      <th>TANL_layer_1</th>\n      <td>[0.52* , 0.42  , 0.43  , 0.45  ]</td>\n      <td>[0.165 , 0.18* , 0.17  , 0.12  ]</td>\n      <td>[0.21* , 0.175 , 0.18  , 0.175 ]</td>\n    </tr>\n    <tr>\n      <th>TANL_layer_2</th>\n      <td>[0.53* , 0.435 , 0.42  , 0.42  ]</td>\n      <td>[0.125 , 0.2*  , 0.125 , 0.12  ]</td>\n      <td>[0.185*, 0.175 , 0.175 , 0.175 ]</td>\n    </tr>\n    <tr>\n      <th>TANL_layer_3</th>\n      <td>[0.42* , 0.42* , 0.42* , 0.42* ]</td>\n      <td>[0.125 , 0.13  , 0.125 , 0.175*]</td>\n      <td>[0.175 , 0.22* , 0.175 , 0.175 ]</td>\n    </tr>\n    <tr>\n      <th>TANL_layer_4</th>\n      <td>[0.42  , 0.42  , 0.475*, 0.42  ]</td>\n      <td>[0.125*, 0.125*, 0.125*, 0.12  ]</td>\n      <td>[0.175*, 0.175*, 0.175*, 0.175*]</td>\n    </tr>\n    <tr>\n      <th>TANL_layer_5</th>\n      <td>[0.42* , 0.42* , 0.42* , 0.42* ]</td>\n      <td>[0.125*, 0.125*, 0.125*, 0.12  ]</td>\n      <td>[0.175*, 0.175*, 0.175*, 0.175*]</td>\n    </tr>\n    <tr>\n      <th>TANL_layer_6</th>\n      <td>[0.42* , 0.42* , 0.42* , 0.42* ]</td>\n      <td>[0.125 , 0.145*, 0.125 , 0.12  ]</td>\n      <td>[0.175 , 0.18* , 0.175 , 0.175 ]</td>\n    </tr>\n    <tr>\n      <th>TANL_layer_7</th>\n      <td>[0.42  , 0.48* , 0.42  , 0.42  ]</td>\n      <td>[0.155*, 0.125 , 0.125 , 0.12  ]</td>\n      <td>[0.18* , 0.175 , 0.175 , 0.175 ]</td>\n    </tr>\n    <tr>\n      <th>TANL_layer_8</th>\n      <td>[0.42  , 0.5*  , 0.42  , 0.42  ]</td>\n      <td>[0.125 , 0.125 , 0.195*, 0.12  ]</td>\n      <td>[0.235*, 0.175 , 0.175 , 0.23  ]</td>\n    </tr>\n    <tr>\n      <th>TANL_layer_9</th>\n      <td>[0.42  , 0.44* , 0.42  , 0.42  ]</td>\n      <td>[0.125 , 0.125 , 0.155 , 0.19* ]</td>\n      <td>[0.175 , 0.175 , 0.19  , 0.23* ]</td>\n    </tr>\n    <tr>\n      <th>TANL_layer_10</th>\n      <td>[0.42  , 0.42  , 0.42  , 0.475*]</td>\n      <td>[0.125*, 0.125*, 0.125*, 0.12  ]</td>\n      <td>[0.175 , 0.185*, 0.175 , 0.175 ]</td>\n    </tr>\n    <tr>\n      <th>TANL_layer_11</th>\n      <td>[0.42  , 0.44* , 0.42  , 0.42  ]</td>\n      <td>[0.125 , 0.185*, 0.175 , 0.165 ]</td>\n      <td>[0.185 , 0.215*, 0.19  , 0.185 ]</td>\n    </tr>\n    <tr>\n      <th>TANL_layer_last</th>\n      <td>[0.67  , 0.685 , 0.7   , 0.715*]</td>\n      <td>[0.555*, 0.545 , 0.545 , 0.55  ]</td>\n      <td>[0.405 , 0.41  , 0.405 , 0.415*]</td>\n    </tr>\n    <tr>\n      <th>dygiepp_embedding-unpadded</th>\n      <td>[0.7   , 0.705 , 0.7   , 0.71* ]</td>\n      <td>[0.62* , 0.61  , 0.61  , 0.56  ]</td>\n      <td>[0.595*, 0.545 , 0.555 , 0.485 ]</td>\n    </tr>\n  </tbody>\n</table>\n</div>"
     },
     "execution_count": 234,
     "metadata": {},
     "output_type": "execute_result"
    }
   ],
   "source": [
    "df_aligned"
   ],
   "metadata": {
    "collapsed": false,
    "ExecuteTime": {
     "end_time": "2023-05-02T20:27:58.870763Z",
     "start_time": "2023-05-02T20:27:58.825887Z"
    }
   }
  },
  {
   "cell_type": "code",
   "execution_count": 235,
   "outputs": [],
   "source": [
    "display_dict = {}  # Create an empty dictionary to store the final result\n",
    "\n",
    "for embedding_layer_name, v in results.items():  # Iterate through each key-value pair in the \"results\" dictionary\n",
    "    inner_dict = {}  # Create an empty dictionary to store the inner values\n",
    "    for task_name, list_of_results in v.items():  # Iterate through each key-value pair in the inner dictionary\n",
    "        # Sort the values based on the 'hidden_size' key and extract the 'val_acc' values\n",
    "        sorted_values = sorted([(d['hidden_size'], d['test_acc']) for d in list_of_results], key=lambda p: p[0])\n",
    "        # Extract the 'val_acc' values from the sorted list and assign them to the inner dictionary\n",
    "        inner_dict[task_name] = [p[1] for p in sorted_values]\n",
    "        inner_dict[task_name] = [str(p) + (\"*\" if p == max(inner_dict[task_name]) else \"\") for p in\n",
    "                                 inner_dict[task_name]]\n",
    "    # Remove the last 29 characters in column names (\"_bert-uncased_epoch**_muc1700\")\n",
    "    display_dict[embedding_layer_name[2:-29]] = inner_dict\n",
    "\n",
    "df = pd.DataFrame.from_dict(sort_dict_by_key(display_dict), orient='index')\n",
    "df_aligned = df.applymap(lambda l: [x.ljust(6) for x in l])\n",
    "\n",
    "df_aligned.columns.name = \"Test acc of hidden size\\n [100, 200, 400, 800]\\nbert-uncased, muc1700\\n * = best performance in cell\""
   ],
   "metadata": {
    "collapsed": false,
    "ExecuteTime": {
     "end_time": "2023-05-02T20:27:58.871018Z",
     "start_time": "2023-05-02T20:27:58.840840Z"
    }
   }
  },
  {
   "cell_type": "code",
   "execution_count": 236,
   "outputs": [
    {
     "data": {
      "text/plain": "Test acc of hidden size\n [100, 200, 400, 800]\nbert-uncased, muc1700\n * = best performance in cell       Y_bucket_num_events_muc1700  \\\nGTT_layer_0                                                                                        [0.535 , 0.575 , 0.6*  , 0.54  ]   \nGTT_layer_1                                                                                        [0.64  , 0.65* , 0.635 , 0.63  ]   \nGTT_layer_2                                                                                        [0.615 , 0.63  , 0.655 , 0.66* ]   \nGTT_layer_3                                                                                        [0.635 , 0.625 , 0.635 , 0.655*]   \nGTT_layer_4                                                                                        [0.645 , 0.64  , 0.665*, 0.64  ]   \nGTT_layer_5                                                                                        [0.66  , 0.655 , 0.67* , 0.66  ]   \nGTT_layer_6                                                                                        [0.67  , 0.675*, 0.66  , 0.665 ]   \nGTT_layer_7                                                                                        [0.69* , 0.665 , 0.675 , 0.665 ]   \nGTT_layer_8                                                                                        [0.675 , 0.67  , 0.68* , 0.67  ]   \nGTT_layer_9                                                                                        [0.675 , 0.685*, 0.67  , 0.67  ]   \nGTT_layer_10                                                                                       [0.675 , 0.67  , 0.68* , 0.665 ]   \nGTT_layer_11                                                                                       [0.675 , 0.665 , 0.675 , 0.68* ]   \nGTT_layer_last                                                                                     [0.675 , 0.69* , 0.67  , 0.67  ]   \nTANL_layer_0                                                                                       [0.37  , 0.415 , 0.44* , 0.37  ]   \nTANL_layer_1                                                                                       [0.425 , 0.37  , 0.39  , 0.43* ]   \nTANL_layer_2                                                                                       [0.425*, 0.365 , 0.37  , 0.37  ]   \nTANL_layer_3                                                                                       [0.365 , 0.37* , 0.37* , 0.37* ]   \nTANL_layer_4                                                                                       [0.37  , 0.37  , 0.445*, 0.37  ]   \nTANL_layer_5                                                                                       [0.37* , 0.37* , 0.37* , 0.37* ]   \nTANL_layer_6                                                                                       [0.37* , 0.37* , 0.37* , 0.37* ]   \nTANL_layer_7                                                                                       [0.37  , 0.43* , 0.37  , 0.37  ]   \nTANL_layer_8                                                                                       [0.37  , 0.48* , 0.37  , 0.37  ]   \nTANL_layer_9                                                                                       [0.37  , 0.415*, 0.37  , 0.37  ]   \nTANL_layer_10                                                                                      [0.37  , 0.37  , 0.37  , 0.4*  ]   \nTANL_layer_11                                                                                      [0.37  , 0.385*, 0.37  , 0.37  ]   \nTANL_layer_last                                                                                    [0.595 , 0.62* , 0.6   , 0.61  ]   \ndygiepp_embedding-unpadded                                                                         [0.625 , 0.64  , 0.655*, 0.655*]   \n\nTest acc of hidden size\n [100, 200, 400, 800]\nbert-uncased, muc1700\n * = best performance in cell        Y_bucket_num_words_muc1700  \\\nGTT_layer_0                                                                                        [0.575 , 0.52  , 0.585*, 0.55  ]   \nGTT_layer_1                                                                                        [0.54  , 0.54  , 0.555 , 0.585*]   \nGTT_layer_2                                                                                        [0.53  , 0.575*, 0.575*, 0.53  ]   \nGTT_layer_3                                                                                        [0.57* , 0.545 , 0.56  , 0.545 ]   \nGTT_layer_4                                                                                        [0.535*, 0.525 , 0.505 , 0.495 ]   \nGTT_layer_5                                                                                        [0.545*, 0.53  , 0.53  , 0.54  ]   \nGTT_layer_6                                                                                        [0.555*, 0.54  , 0.48  , 0.53  ]   \nGTT_layer_7                                                                                        [0.52  , 0.54* , 0.525 , 0.515 ]   \nGTT_layer_8                                                                                        [0.535*, 0.515 , 0.52  , 0.51  ]   \nGTT_layer_9                                                                                        [0.555*, 0.555*, 0.555*, 0.55  ]   \nGTT_layer_10                                                                                       [0.495 , 0.505 , 0.545*, 0.53  ]   \nGTT_layer_11                                                                                       [0.52  , 0.52  , 0.555*, 0.545 ]   \nGTT_layer_last                                                                                     [0.565*, 0.54  , 0.525 , 0.55  ]   \nTANL_layer_0                                                                                       [0.105 , 0.145 , 0.125 , 0.155*]   \nTANL_layer_1                                                                                       [0.115 , 0.195*, 0.17  , 0.12  ]   \nTANL_layer_2                                                                                       [0.105 , 0.135*, 0.105 , 0.12  ]   \nTANL_layer_3                                                                                       [0.105 , 0.1   , 0.105 , 0.205*]   \nTANL_layer_4                                                                                       [0.105 , 0.105 , 0.105 , 0.12* ]   \nTANL_layer_5                                                                                       [0.105 , 0.105 , 0.105 , 0.12* ]   \nTANL_layer_6                                                                                       [0.105 , 0.175*, 0.105 , 0.12  ]   \nTANL_layer_7                                                                                       [0.125*, 0.105 , 0.105 , 0.12  ]   \nTANL_layer_8                                                                                       [0.105 , 0.105 , 0.225*, 0.12  ]   \nTANL_layer_9                                                                                       [0.105 , 0.105 , 0.155 , 0.22* ]   \nTANL_layer_10                                                                                      [0.105 , 0.105 , 0.105 , 0.12* ]   \nTANL_layer_11                                                                                      [0.105 , 0.22* , 0.17  , 0.155 ]   \nTANL_layer_last                                                                                    [0.59  , 0.595 , 0.605*, 0.545 ]   \ndygiepp_embedding-unpadded                                                                         [0.635 , 0.625 , 0.65* , 0.505 ]   \n\nTest acc of hidden size\n [100, 200, 400, 800]\nbert-uncased, muc1700\n * = best performance in cell         Y_bucket_num_sent_muc1700  \nGTT_layer_0                                                                                        [0.425 , 0.445*, 0.39  , 0.39  ]  \nGTT_layer_1                                                                                        [0.395 , 0.41  , 0.415*, 0.38  ]  \nGTT_layer_2                                                                                        [0.42  , 0.435*, 0.42  , 0.435*]  \nGTT_layer_3                                                                                        [0.45* , 0.42  , 0.425 , 0.42  ]  \nGTT_layer_4                                                                                        [0.45* , 0.435 , 0.44  , 0.44  ]  \nGTT_layer_5                                                                                        [0.445 , 0.45  , 0.495*, 0.4   ]  \nGTT_layer_6                                                                                        [0.495*, 0.39  , 0.435 , 0.45  ]  \nGTT_layer_7                                                                                        [0.495*, 0.42  , 0.475 , 0.47  ]  \nGTT_layer_8                                                                                        [0.495 , 0.5*  , 0.5*  , 0.475 ]  \nGTT_layer_9                                                                                        [0.35  , 0.465 , 0.45  , 0.485*]  \nGTT_layer_10                                                                                       [0.405 , 0.48* , 0.395 , 0.445 ]  \nGTT_layer_11                                                                                       [0.405 , 0.455 , 0.425 , 0.49* ]  \nGTT_layer_last                                                                                     [0.485 , 0.515 , 0.52* , 0.455 ]  \nTANL_layer_0                                                                                       [0.16* , 0.13  , 0.135 , 0.135 ]  \nTANL_layer_1                                                                                       [0.12  , 0.135*, 0.135*, 0.135*]  \nTANL_layer_2                                                                                       [0.165*, 0.135 , 0.135 , 0.135 ]  \nTANL_layer_3                                                                                       [0.135*, 0.13  , 0.135*, 0.135*]  \nTANL_layer_4                                                                                       [0.135*, 0.135*, 0.135*, 0.135*]  \nTANL_layer_5                                                                                       [0.135*, 0.135*, 0.135*, 0.135*]  \nTANL_layer_6                                                                                       [0.135*, 0.125 , 0.135*, 0.135*]  \nTANL_layer_7                                                                                       [0.145*, 0.135 , 0.135 , 0.135 ]  \nTANL_layer_8                                                                                       [0.195*, 0.135 , 0.135 , 0.195*]  \nTANL_layer_9                                                                                       [0.135 , 0.135 , 0.16  , 0.21* ]  \nTANL_layer_10                                                                                      [0.135 , 0.195*, 0.135 , 0.135 ]  \nTANL_layer_11                                                                                      [0.18  , 0.19* , 0.175 , 0.15  ]  \nTANL_layer_last                                                                                    [0.415*, 0.415*, 0.41  , 0.415*]  \ndygiepp_embedding-unpadded                                                                         [0.57* , 0.565 , 0.57* , 0.54  ]  ",
      "text/html": "<div>\n<style scoped>\n    .dataframe tbody tr th:only-of-type {\n        vertical-align: middle;\n    }\n\n    .dataframe tbody tr th {\n        vertical-align: top;\n    }\n\n    .dataframe thead th {\n        text-align: right;\n    }\n</style>\n<table border=\"1\" class=\"dataframe\">\n  <thead>\n    <tr style=\"text-align: right;\">\n      <th>Test acc of hidden size\n [100, 200, 400, 800]\nbert-uncased, muc1700\n * = best performance in cell</th>\n      <th>Y_bucket_num_events_muc1700</th>\n      <th>Y_bucket_num_words_muc1700</th>\n      <th>Y_bucket_num_sent_muc1700</th>\n    </tr>\n  </thead>\n  <tbody>\n    <tr>\n      <th>GTT_layer_0</th>\n      <td>[0.535 , 0.575 , 0.6*  , 0.54  ]</td>\n      <td>[0.575 , 0.52  , 0.585*, 0.55  ]</td>\n      <td>[0.425 , 0.445*, 0.39  , 0.39  ]</td>\n    </tr>\n    <tr>\n      <th>GTT_layer_1</th>\n      <td>[0.64  , 0.65* , 0.635 , 0.63  ]</td>\n      <td>[0.54  , 0.54  , 0.555 , 0.585*]</td>\n      <td>[0.395 , 0.41  , 0.415*, 0.38  ]</td>\n    </tr>\n    <tr>\n      <th>GTT_layer_2</th>\n      <td>[0.615 , 0.63  , 0.655 , 0.66* ]</td>\n      <td>[0.53  , 0.575*, 0.575*, 0.53  ]</td>\n      <td>[0.42  , 0.435*, 0.42  , 0.435*]</td>\n    </tr>\n    <tr>\n      <th>GTT_layer_3</th>\n      <td>[0.635 , 0.625 , 0.635 , 0.655*]</td>\n      <td>[0.57* , 0.545 , 0.56  , 0.545 ]</td>\n      <td>[0.45* , 0.42  , 0.425 , 0.42  ]</td>\n    </tr>\n    <tr>\n      <th>GTT_layer_4</th>\n      <td>[0.645 , 0.64  , 0.665*, 0.64  ]</td>\n      <td>[0.535*, 0.525 , 0.505 , 0.495 ]</td>\n      <td>[0.45* , 0.435 , 0.44  , 0.44  ]</td>\n    </tr>\n    <tr>\n      <th>GTT_layer_5</th>\n      <td>[0.66  , 0.655 , 0.67* , 0.66  ]</td>\n      <td>[0.545*, 0.53  , 0.53  , 0.54  ]</td>\n      <td>[0.445 , 0.45  , 0.495*, 0.4   ]</td>\n    </tr>\n    <tr>\n      <th>GTT_layer_6</th>\n      <td>[0.67  , 0.675*, 0.66  , 0.665 ]</td>\n      <td>[0.555*, 0.54  , 0.48  , 0.53  ]</td>\n      <td>[0.495*, 0.39  , 0.435 , 0.45  ]</td>\n    </tr>\n    <tr>\n      <th>GTT_layer_7</th>\n      <td>[0.69* , 0.665 , 0.675 , 0.665 ]</td>\n      <td>[0.52  , 0.54* , 0.525 , 0.515 ]</td>\n      <td>[0.495*, 0.42  , 0.475 , 0.47  ]</td>\n    </tr>\n    <tr>\n      <th>GTT_layer_8</th>\n      <td>[0.675 , 0.67  , 0.68* , 0.67  ]</td>\n      <td>[0.535*, 0.515 , 0.52  , 0.51  ]</td>\n      <td>[0.495 , 0.5*  , 0.5*  , 0.475 ]</td>\n    </tr>\n    <tr>\n      <th>GTT_layer_9</th>\n      <td>[0.675 , 0.685*, 0.67  , 0.67  ]</td>\n      <td>[0.555*, 0.555*, 0.555*, 0.55  ]</td>\n      <td>[0.35  , 0.465 , 0.45  , 0.485*]</td>\n    </tr>\n    <tr>\n      <th>GTT_layer_10</th>\n      <td>[0.675 , 0.67  , 0.68* , 0.665 ]</td>\n      <td>[0.495 , 0.505 , 0.545*, 0.53  ]</td>\n      <td>[0.405 , 0.48* , 0.395 , 0.445 ]</td>\n    </tr>\n    <tr>\n      <th>GTT_layer_11</th>\n      <td>[0.675 , 0.665 , 0.675 , 0.68* ]</td>\n      <td>[0.52  , 0.52  , 0.555*, 0.545 ]</td>\n      <td>[0.405 , 0.455 , 0.425 , 0.49* ]</td>\n    </tr>\n    <tr>\n      <th>GTT_layer_last</th>\n      <td>[0.675 , 0.69* , 0.67  , 0.67  ]</td>\n      <td>[0.565*, 0.54  , 0.525 , 0.55  ]</td>\n      <td>[0.485 , 0.515 , 0.52* , 0.455 ]</td>\n    </tr>\n    <tr>\n      <th>TANL_layer_0</th>\n      <td>[0.37  , 0.415 , 0.44* , 0.37  ]</td>\n      <td>[0.105 , 0.145 , 0.125 , 0.155*]</td>\n      <td>[0.16* , 0.13  , 0.135 , 0.135 ]</td>\n    </tr>\n    <tr>\n      <th>TANL_layer_1</th>\n      <td>[0.425 , 0.37  , 0.39  , 0.43* ]</td>\n      <td>[0.115 , 0.195*, 0.17  , 0.12  ]</td>\n      <td>[0.12  , 0.135*, 0.135*, 0.135*]</td>\n    </tr>\n    <tr>\n      <th>TANL_layer_2</th>\n      <td>[0.425*, 0.365 , 0.37  , 0.37  ]</td>\n      <td>[0.105 , 0.135*, 0.105 , 0.12  ]</td>\n      <td>[0.165*, 0.135 , 0.135 , 0.135 ]</td>\n    </tr>\n    <tr>\n      <th>TANL_layer_3</th>\n      <td>[0.365 , 0.37* , 0.37* , 0.37* ]</td>\n      <td>[0.105 , 0.1   , 0.105 , 0.205*]</td>\n      <td>[0.135*, 0.13  , 0.135*, 0.135*]</td>\n    </tr>\n    <tr>\n      <th>TANL_layer_4</th>\n      <td>[0.37  , 0.37  , 0.445*, 0.37  ]</td>\n      <td>[0.105 , 0.105 , 0.105 , 0.12* ]</td>\n      <td>[0.135*, 0.135*, 0.135*, 0.135*]</td>\n    </tr>\n    <tr>\n      <th>TANL_layer_5</th>\n      <td>[0.37* , 0.37* , 0.37* , 0.37* ]</td>\n      <td>[0.105 , 0.105 , 0.105 , 0.12* ]</td>\n      <td>[0.135*, 0.135*, 0.135*, 0.135*]</td>\n    </tr>\n    <tr>\n      <th>TANL_layer_6</th>\n      <td>[0.37* , 0.37* , 0.37* , 0.37* ]</td>\n      <td>[0.105 , 0.175*, 0.105 , 0.12  ]</td>\n      <td>[0.135*, 0.125 , 0.135*, 0.135*]</td>\n    </tr>\n    <tr>\n      <th>TANL_layer_7</th>\n      <td>[0.37  , 0.43* , 0.37  , 0.37  ]</td>\n      <td>[0.125*, 0.105 , 0.105 , 0.12  ]</td>\n      <td>[0.145*, 0.135 , 0.135 , 0.135 ]</td>\n    </tr>\n    <tr>\n      <th>TANL_layer_8</th>\n      <td>[0.37  , 0.48* , 0.37  , 0.37  ]</td>\n      <td>[0.105 , 0.105 , 0.225*, 0.12  ]</td>\n      <td>[0.195*, 0.135 , 0.135 , 0.195*]</td>\n    </tr>\n    <tr>\n      <th>TANL_layer_9</th>\n      <td>[0.37  , 0.415*, 0.37  , 0.37  ]</td>\n      <td>[0.105 , 0.105 , 0.155 , 0.22* ]</td>\n      <td>[0.135 , 0.135 , 0.16  , 0.21* ]</td>\n    </tr>\n    <tr>\n      <th>TANL_layer_10</th>\n      <td>[0.37  , 0.37  , 0.37  , 0.4*  ]</td>\n      <td>[0.105 , 0.105 , 0.105 , 0.12* ]</td>\n      <td>[0.135 , 0.195*, 0.135 , 0.135 ]</td>\n    </tr>\n    <tr>\n      <th>TANL_layer_11</th>\n      <td>[0.37  , 0.385*, 0.37  , 0.37  ]</td>\n      <td>[0.105 , 0.22* , 0.17  , 0.155 ]</td>\n      <td>[0.18  , 0.19* , 0.175 , 0.15  ]</td>\n    </tr>\n    <tr>\n      <th>TANL_layer_last</th>\n      <td>[0.595 , 0.62* , 0.6   , 0.61  ]</td>\n      <td>[0.59  , 0.595 , 0.605*, 0.545 ]</td>\n      <td>[0.415*, 0.415*, 0.41  , 0.415*]</td>\n    </tr>\n    <tr>\n      <th>dygiepp_embedding-unpadded</th>\n      <td>[0.625 , 0.64  , 0.655*, 0.655*]</td>\n      <td>[0.635 , 0.625 , 0.65* , 0.505 ]</td>\n      <td>[0.57* , 0.565 , 0.57* , 0.54  ]</td>\n    </tr>\n  </tbody>\n</table>\n</div>"
     },
     "execution_count": 236,
     "metadata": {},
     "output_type": "execute_result"
    }
   ],
   "source": [
    "df_aligned"
   ],
   "metadata": {
    "collapsed": false,
    "ExecuteTime": {
     "end_time": "2023-05-02T20:27:58.920731Z",
     "start_time": "2023-05-02T20:27:58.876128Z"
    }
   }
  },
  {
   "cell_type": "code",
   "execution_count": 237,
   "outputs": [
    {
     "data": {
      "text/plain": "Test acc of hidden size 400\nbert-uncased, muc1700\n   Y_bucket_num_events_muc1700  \\\nGTT_layer_0                                                                0.600   \nGTT_layer_1                                                                0.635   \nGTT_layer_2                                                                0.655   \nGTT_layer_3                                                                0.635   \nGTT_layer_4                                                                0.665   \nGTT_layer_5                                                                0.670   \nGTT_layer_6                                                                0.660   \nGTT_layer_7                                                                0.675   \nGTT_layer_8                                                                0.680   \nGTT_layer_9                                                                0.670   \nGTT_layer_10                                                               0.680   \nGTT_layer_11                                                               0.675   \nGTT_layer_last                                                             0.670   \nTANL_layer_0                                                               0.440   \nTANL_layer_1                                                               0.390   \nTANL_layer_2                                                               0.370   \nTANL_layer_3                                                               0.370   \nTANL_layer_4                                                               0.445   \nTANL_layer_5                                                               0.370   \nTANL_layer_6                                                               0.370   \nTANL_layer_7                                                               0.370   \nTANL_layer_8                                                               0.370   \nTANL_layer_9                                                               0.370   \nTANL_layer_10                                                              0.370   \nTANL_layer_11                                                              0.370   \nTANL_layer_last                                                            0.600   \ndygiepp_embedding-unpadded                                                 0.655   \n\nTest acc of hidden size 400\nbert-uncased, muc1700\n   Y_bucket_num_words_muc1700  \\\nGTT_layer_0                                                               0.585   \nGTT_layer_1                                                               0.555   \nGTT_layer_2                                                               0.575   \nGTT_layer_3                                                               0.560   \nGTT_layer_4                                                               0.505   \nGTT_layer_5                                                               0.530   \nGTT_layer_6                                                               0.480   \nGTT_layer_7                                                               0.525   \nGTT_layer_8                                                               0.520   \nGTT_layer_9                                                               0.555   \nGTT_layer_10                                                              0.545   \nGTT_layer_11                                                              0.555   \nGTT_layer_last                                                            0.525   \nTANL_layer_0                                                              0.125   \nTANL_layer_1                                                              0.170   \nTANL_layer_2                                                              0.105   \nTANL_layer_3                                                              0.105   \nTANL_layer_4                                                              0.105   \nTANL_layer_5                                                              0.105   \nTANL_layer_6                                                              0.105   \nTANL_layer_7                                                              0.105   \nTANL_layer_8                                                              0.225   \nTANL_layer_9                                                              0.155   \nTANL_layer_10                                                             0.105   \nTANL_layer_11                                                             0.170   \nTANL_layer_last                                                           0.605   \ndygiepp_embedding-unpadded                                                0.650   \n\nTest acc of hidden size 400\nbert-uncased, muc1700\n   Y_bucket_num_sent_muc1700  \nGTT_layer_0                                                              0.390  \nGTT_layer_1                                                              0.415  \nGTT_layer_2                                                              0.420  \nGTT_layer_3                                                              0.425  \nGTT_layer_4                                                              0.440  \nGTT_layer_5                                                              0.495  \nGTT_layer_6                                                              0.435  \nGTT_layer_7                                                              0.475  \nGTT_layer_8                                                              0.500  \nGTT_layer_9                                                              0.450  \nGTT_layer_10                                                             0.395  \nGTT_layer_11                                                             0.425  \nGTT_layer_last                                                           0.520  \nTANL_layer_0                                                             0.135  \nTANL_layer_1                                                             0.135  \nTANL_layer_2                                                             0.135  \nTANL_layer_3                                                             0.135  \nTANL_layer_4                                                             0.135  \nTANL_layer_5                                                             0.135  \nTANL_layer_6                                                             0.135  \nTANL_layer_7                                                             0.135  \nTANL_layer_8                                                             0.135  \nTANL_layer_9                                                             0.160  \nTANL_layer_10                                                            0.135  \nTANL_layer_11                                                            0.175  \nTANL_layer_last                                                          0.410  \ndygiepp_embedding-unpadded                                               0.570  ",
      "text/html": "<div>\n<style scoped>\n    .dataframe tbody tr th:only-of-type {\n        vertical-align: middle;\n    }\n\n    .dataframe tbody tr th {\n        vertical-align: top;\n    }\n\n    .dataframe thead th {\n        text-align: right;\n    }\n</style>\n<table border=\"1\" class=\"dataframe\">\n  <thead>\n    <tr style=\"text-align: right;\">\n      <th>Test acc of hidden size 400\nbert-uncased, muc1700</th>\n      <th>Y_bucket_num_events_muc1700</th>\n      <th>Y_bucket_num_words_muc1700</th>\n      <th>Y_bucket_num_sent_muc1700</th>\n    </tr>\n  </thead>\n  <tbody>\n    <tr>\n      <th>GTT_layer_0</th>\n      <td>0.600</td>\n      <td>0.585</td>\n      <td>0.390</td>\n    </tr>\n    <tr>\n      <th>GTT_layer_1</th>\n      <td>0.635</td>\n      <td>0.555</td>\n      <td>0.415</td>\n    </tr>\n    <tr>\n      <th>GTT_layer_2</th>\n      <td>0.655</td>\n      <td>0.575</td>\n      <td>0.420</td>\n    </tr>\n    <tr>\n      <th>GTT_layer_3</th>\n      <td>0.635</td>\n      <td>0.560</td>\n      <td>0.425</td>\n    </tr>\n    <tr>\n      <th>GTT_layer_4</th>\n      <td>0.665</td>\n      <td>0.505</td>\n      <td>0.440</td>\n    </tr>\n    <tr>\n      <th>GTT_layer_5</th>\n      <td>0.670</td>\n      <td>0.530</td>\n      <td>0.495</td>\n    </tr>\n    <tr>\n      <th>GTT_layer_6</th>\n      <td>0.660</td>\n      <td>0.480</td>\n      <td>0.435</td>\n    </tr>\n    <tr>\n      <th>GTT_layer_7</th>\n      <td>0.675</td>\n      <td>0.525</td>\n      <td>0.475</td>\n    </tr>\n    <tr>\n      <th>GTT_layer_8</th>\n      <td>0.680</td>\n      <td>0.520</td>\n      <td>0.500</td>\n    </tr>\n    <tr>\n      <th>GTT_layer_9</th>\n      <td>0.670</td>\n      <td>0.555</td>\n      <td>0.450</td>\n    </tr>\n    <tr>\n      <th>GTT_layer_10</th>\n      <td>0.680</td>\n      <td>0.545</td>\n      <td>0.395</td>\n    </tr>\n    <tr>\n      <th>GTT_layer_11</th>\n      <td>0.675</td>\n      <td>0.555</td>\n      <td>0.425</td>\n    </tr>\n    <tr>\n      <th>GTT_layer_last</th>\n      <td>0.670</td>\n      <td>0.525</td>\n      <td>0.520</td>\n    </tr>\n    <tr>\n      <th>TANL_layer_0</th>\n      <td>0.440</td>\n      <td>0.125</td>\n      <td>0.135</td>\n    </tr>\n    <tr>\n      <th>TANL_layer_1</th>\n      <td>0.390</td>\n      <td>0.170</td>\n      <td>0.135</td>\n    </tr>\n    <tr>\n      <th>TANL_layer_2</th>\n      <td>0.370</td>\n      <td>0.105</td>\n      <td>0.135</td>\n    </tr>\n    <tr>\n      <th>TANL_layer_3</th>\n      <td>0.370</td>\n      <td>0.105</td>\n      <td>0.135</td>\n    </tr>\n    <tr>\n      <th>TANL_layer_4</th>\n      <td>0.445</td>\n      <td>0.105</td>\n      <td>0.135</td>\n    </tr>\n    <tr>\n      <th>TANL_layer_5</th>\n      <td>0.370</td>\n      <td>0.105</td>\n      <td>0.135</td>\n    </tr>\n    <tr>\n      <th>TANL_layer_6</th>\n      <td>0.370</td>\n      <td>0.105</td>\n      <td>0.135</td>\n    </tr>\n    <tr>\n      <th>TANL_layer_7</th>\n      <td>0.370</td>\n      <td>0.105</td>\n      <td>0.135</td>\n    </tr>\n    <tr>\n      <th>TANL_layer_8</th>\n      <td>0.370</td>\n      <td>0.225</td>\n      <td>0.135</td>\n    </tr>\n    <tr>\n      <th>TANL_layer_9</th>\n      <td>0.370</td>\n      <td>0.155</td>\n      <td>0.160</td>\n    </tr>\n    <tr>\n      <th>TANL_layer_10</th>\n      <td>0.370</td>\n      <td>0.105</td>\n      <td>0.135</td>\n    </tr>\n    <tr>\n      <th>TANL_layer_11</th>\n      <td>0.370</td>\n      <td>0.170</td>\n      <td>0.175</td>\n    </tr>\n    <tr>\n      <th>TANL_layer_last</th>\n      <td>0.600</td>\n      <td>0.605</td>\n      <td>0.410</td>\n    </tr>\n    <tr>\n      <th>dygiepp_embedding-unpadded</th>\n      <td>0.655</td>\n      <td>0.650</td>\n      <td>0.570</td>\n    </tr>\n  </tbody>\n</table>\n</div>"
     },
     "execution_count": 237,
     "metadata": {},
     "output_type": "execute_result"
    }
   ],
   "source": [
    "display_dict = {}  # Create an empty dictionary to store the final result\n",
    "\n",
    "for embedding_layer_name, v in results.items():  # Iterate through each key-value pair in the \"results\" dictionary\n",
    "    inner_dict = {}  # Create an empty dictionary to store the inner values\n",
    "    for task_name, list_of_results in v.items():  # Iterate through each key-value pair in the inner dictionary\n",
    "        # Sort the values based on the 'hidden_size' key and extract the 'val_acc' values\n",
    "        size_to_test_acc = {d['hidden_size']: d['test_acc'] for d in list_of_results}\n",
    "        # Extract the 'val_acc' values from the sorted list and assign them to the inner dictionary\n",
    "        inner_dict[task_name] = size_to_test_acc[400]\n",
    "    # Remove the last 29 characters in column names (\"_bert-uncased_epoch**_muc1700\")\n",
    "    display_dict[embedding_layer_name[2:-29]] = inner_dict\n",
    "\n",
    "df = pd.DataFrame.from_dict(sort_dict_by_key(display_dict), orient='index')\n",
    "#df_aligned = df.applymap(lambda l: [x.ljust(6) for x in l])\n",
    "\n",
    "df.columns.name = \"Test acc of hidden size 400\\nbert-uncased, muc1700\\n \"\n",
    "df"
   ],
   "metadata": {
    "collapsed": false,
    "ExecuteTime": {
     "end_time": "2023-05-02T20:27:58.970476Z",
     "start_time": "2023-05-02T20:27:58.913753Z"
    }
   }
  },
  {
   "cell_type": "code",
   "execution_count": 238,
   "outputs": [
    {
     "data": {
      "text/plain": "<IPython.core.display.HTML object>",
      "text/html": "<table border=\"1\" class=\"dataframe\">\n  <thead>\n    <tr style=\"text-align: right;\">\n      <th>Test acc of hidden size 400\nbert-uncased, muc1700</th>\n      <th>Y_bucket_num_events_muc1700</th>\n      <th>Y_bucket_num_words_muc1700</th>\n      <th>Y_bucket_num_sent_muc1700</th>\n    </tr>\n  </thead>\n  <tbody>\n    <tr>\n      <th>GTT_layer_0</th>\n      <td><img src=\"../Results-MLPwAttention-Bucketed/probresult_Y_bucket_num_events_muc1700_X_GTT_layer_0_bert-uncased_epoch18_muc1700_epoch48_nhid400.png\" style=\"width:100%;\" ></td>\n      <td><img src=\"../Results-MLPwAttention-Bucketed/probresult_Y_bucket_num_words_muc1700_X_GTT_layer_0_bert-uncased_epoch18_muc1700_epoch48_nhid400.png\" style=\"width:100%;\" ></td>\n      <td><img src=\"../Results-MLPwAttention-Bucketed/probresult_Y_bucket_num_sent_muc1700_X_GTT_layer_0_bert-uncased_epoch18_muc1700_epoch56_nhid400.png\" style=\"width:100%;\" ></td>\n    </tr>\n    <tr>\n      <th>GTT_layer_1</th>\n      <td><img src=\"../Results-MLPwAttention-Bucketed/probresult_Y_bucket_num_events_muc1700_X_GTT_layer_1_bert-uncased_epoch18_muc1700_epoch56_nhid400.png\" style=\"width:100%;\" ></td>\n      <td><img src=\"../Results-MLPwAttention-Bucketed/probresult_Y_bucket_num_words_muc1700_X_GTT_layer_1_bert-uncased_epoch18_muc1700_epoch52_nhid400.png\" style=\"width:100%;\" ></td>\n      <td><img src=\"../Results-MLPwAttention-Bucketed/probresult_Y_bucket_num_sent_muc1700_X_GTT_layer_1_bert-uncased_epoch18_muc1700_epoch48_nhid400.png\" style=\"width:100%;\" ></td>\n    </tr>\n    <tr>\n      <th>GTT_layer_2</th>\n      <td><img src=\"../Results-MLPwAttention-Bucketed/probresult_Y_bucket_num_events_muc1700_X_GTT_layer_2_bert-uncased_epoch18_muc1700_epoch52_nhid400.png\" style=\"width:100%;\" ></td>\n      <td><img src=\"../Results-MLPwAttention-Bucketed/probresult_Y_bucket_num_words_muc1700_X_GTT_layer_2_bert-uncased_epoch18_muc1700_epoch56_nhid400.png\" style=\"width:100%;\" ></td>\n      <td><img src=\"../Results-MLPwAttention-Bucketed/probresult_Y_bucket_num_sent_muc1700_X_GTT_layer_2_bert-uncased_epoch18_muc1700_epoch48_nhid400.png\" style=\"width:100%;\" ></td>\n    </tr>\n    <tr>\n      <th>GTT_layer_3</th>\n      <td><img src=\"../Results-MLPwAttention-Bucketed/probresult_Y_bucket_num_events_muc1700_X_GTT_layer_3_bert-uncased_epoch18_muc1700_epoch52_nhid400.png\" style=\"width:100%;\" ></td>\n      <td><img src=\"../Results-MLPwAttention-Bucketed/probresult_Y_bucket_num_words_muc1700_X_GTT_layer_3_bert-uncased_epoch18_muc1700_epoch52_nhid400.png\" style=\"width:100%;\" ></td>\n      <td><img src=\"../Results-MLPwAttention-Bucketed/probresult_Y_bucket_num_sent_muc1700_X_GTT_layer_3_bert-uncased_epoch18_muc1700_epoch48_nhid400.png\" style=\"width:100%;\" ></td>\n    </tr>\n    <tr>\n      <th>GTT_layer_4</th>\n      <td><img src=\"../Results-MLPwAttention-Bucketed/probresult_Y_bucket_num_events_muc1700_X_GTT_layer_4_bert-uncased_epoch18_muc1700_epoch60_nhid400.png\" style=\"width:100%;\" ></td>\n      <td><img src=\"../Results-MLPwAttention-Bucketed/probresult_Y_bucket_num_words_muc1700_X_GTT_layer_4_bert-uncased_epoch18_muc1700_epoch52_nhid400.png\" style=\"width:100%;\" ></td>\n      <td><img src=\"../Results-MLPwAttention-Bucketed/probresult_Y_bucket_num_sent_muc1700_X_GTT_layer_4_bert-uncased_epoch18_muc1700_epoch48_nhid400.png\" style=\"width:100%;\" ></td>\n    </tr>\n    <tr>\n      <th>GTT_layer_5</th>\n      <td><img src=\"../Results-MLPwAttention-Bucketed/probresult_Y_bucket_num_events_muc1700_X_GTT_layer_5_bert-uncased_epoch18_muc1700_epoch60_nhid400.png\" style=\"width:100%;\" ></td>\n      <td><img src=\"../Results-MLPwAttention-Bucketed/probresult_Y_bucket_num_words_muc1700_X_GTT_layer_5_bert-uncased_epoch18_muc1700_epoch56_nhid400.png\" style=\"width:100%;\" ></td>\n      <td><img src=\"../Results-MLPwAttention-Bucketed/probresult_Y_bucket_num_sent_muc1700_X_GTT_layer_5_bert-uncased_epoch18_muc1700_epoch56_nhid400.png\" style=\"width:100%;\" ></td>\n    </tr>\n    <tr>\n      <th>GTT_layer_6</th>\n      <td><img src=\"../Results-MLPwAttention-Bucketed/probresult_Y_bucket_num_events_muc1700_X_GTT_layer_6_bert-uncased_epoch18_muc1700_epoch52_nhid400.png\" style=\"width:100%;\" ></td>\n      <td><img src=\"../Results-MLPwAttention-Bucketed/probresult_Y_bucket_num_words_muc1700_X_GTT_layer_6_bert-uncased_epoch18_muc1700_epoch60_nhid400.png\" style=\"width:100%;\" ></td>\n      <td><img src=\"../Results-MLPwAttention-Bucketed/probresult_Y_bucket_num_sent_muc1700_X_GTT_layer_6_bert-uncased_epoch18_muc1700_epoch52_nhid400.png\" style=\"width:100%;\" ></td>\n    </tr>\n    <tr>\n      <th>GTT_layer_7</th>\n      <td><img src=\"../Results-MLPwAttention-Bucketed/probresult_Y_bucket_num_events_muc1700_X_GTT_layer_7_bert-uncased_epoch18_muc1700_epoch52_nhid400.png\" style=\"width:100%;\" ></td>\n      <td><img src=\"../Results-MLPwAttention-Bucketed/probresult_Y_bucket_num_words_muc1700_X_GTT_layer_7_bert-uncased_epoch18_muc1700_epoch56_nhid400.png\" style=\"width:100%;\" ></td>\n      <td><img src=\"../Results-MLPwAttention-Bucketed/probresult_Y_bucket_num_sent_muc1700_X_GTT_layer_7_bert-uncased_epoch18_muc1700_epoch56_nhid400.png\" style=\"width:100%;\" ></td>\n    </tr>\n    <tr>\n      <th>GTT_layer_8</th>\n      <td><img src=\"../Results-MLPwAttention-Bucketed/probresult_Y_bucket_num_events_muc1700_X_GTT_layer_8_bert-uncased_epoch18_muc1700_epoch60_nhid400.png\" style=\"width:100%;\" ></td>\n      <td><img src=\"../Results-MLPwAttention-Bucketed/probresult_Y_bucket_num_words_muc1700_X_GTT_layer_8_bert-uncased_epoch18_muc1700_epoch52_nhid400.png\" style=\"width:100%;\" ></td>\n      <td><img src=\"../Results-MLPwAttention-Bucketed/probresult_Y_bucket_num_sent_muc1700_X_GTT_layer_8_bert-uncased_epoch18_muc1700_epoch56_nhid400.png\" style=\"width:100%;\" ></td>\n    </tr>\n    <tr>\n      <th>GTT_layer_9</th>\n      <td><img src=\"../Results-MLPwAttention-Bucketed/probresult_Y_bucket_num_events_muc1700_X_GTT_layer_9_bert-uncased_epoch18_muc1700_epoch52_nhid400.png\" style=\"width:100%;\" ></td>\n      <td><img src=\"../Results-MLPwAttention-Bucketed/probresult_Y_bucket_num_words_muc1700_X_GTT_layer_9_bert-uncased_epoch18_muc1700_epoch64_nhid400.png\" style=\"width:100%;\" ></td>\n      <td><img src=\"../Results-MLPwAttention-Bucketed/probresult_Y_bucket_num_sent_muc1700_X_GTT_layer_9_bert-uncased_epoch18_muc1700_epoch56_nhid400.png\" style=\"width:100%;\" ></td>\n    </tr>\n    <tr>\n      <th>GTT_layer_10</th>\n      <td><img src=\"../Results-MLPwAttention-Bucketed/probresult_Y_bucket_num_events_muc1700_X_GTT_layer_10_bert-uncased_epoch18_muc1700_epoch52_nhid400.png\" style=\"width:100%;\" ></td>\n      <td><img src=\"../Results-MLPwAttention-Bucketed/probresult_Y_bucket_num_words_muc1700_X_GTT_layer_10_bert-uncased_epoch18_muc1700_epoch56_nhid400.png\" style=\"width:100%;\" ></td>\n      <td><img src=\"../Results-MLPwAttention-Bucketed/probresult_Y_bucket_num_sent_muc1700_X_GTT_layer_10_bert-uncased_epoch18_muc1700_epoch60_nhid400.png\" style=\"width:100%;\" ></td>\n    </tr>\n    <tr>\n      <th>GTT_layer_11</th>\n      <td><img src=\"../Results-MLPwAttention-Bucketed/probresult_Y_bucket_num_events_muc1700_X_GTT_layer_11_bert-uncased_epoch18_muc1700_epoch52_nhid400.png\" style=\"width:100%;\" ></td>\n      <td><img src=\"../Results-MLPwAttention-Bucketed/probresult_Y_bucket_num_words_muc1700_X_GTT_layer_11_bert-uncased_epoch18_muc1700_epoch64_nhid400.png\" style=\"width:100%;\" ></td>\n      <td><img src=\"../Results-MLPwAttention-Bucketed/probresult_Y_bucket_num_sent_muc1700_X_GTT_layer_11_bert-uncased_epoch18_muc1700_epoch56_nhid400.png\" style=\"width:100%;\" ></td>\n    </tr>\n    <tr>\n      <th>GTT_layer_last</th>\n      <td><img src=\"../Results-MLPwAttention-Bucketed/probresult_Y_bucket_num_events_muc1700_X_GTT_layer_last_bert-uncased_epoch18_muc1700_epoch60_nhid400.png\" style=\"width:100%;\" ></td>\n      <td><img src=\"../Results-MLPwAttention-Bucketed/probresult_Y_bucket_num_words_muc1700_X_GTT_layer_last_bert-uncased_epoch18_muc1700_epoch60_nhid400.png\" style=\"width:100%;\" ></td>\n      <td><img src=\"../Results-MLPwAttention-Bucketed/probresult_Y_bucket_num_sent_muc1700_X_GTT_layer_last_bert-uncased_epoch18_muc1700_epoch72_nhid400.png\" style=\"width:100%;\" ></td>\n    </tr>\n    <tr>\n      <th>TANL_layer_0</th>\n      <td><img src=\"../Results-MLPwAttention-Bucketed/probresult_Y_bucket_num_events_muc1700_X_TANL_layer_0_bert-uncased_epoch20_muc1700_epoch48_nhid400.png\" style=\"width:100%;\" ></td>\n      <td><img src=\"../Results-MLPwAttention-Bucketed/probresult_Y_bucket_num_words_muc1700_X_TANL_layer_0_bert-uncased_epoch20_muc1700_epoch56_nhid400.png\" style=\"width:100%;\" ></td>\n      <td><img src=\"../Results-MLPwAttention-Bucketed/probresult_Y_bucket_num_sent_muc1700_X_TANL_layer_0_bert-uncased_epoch20_muc1700_epoch56_nhid400.png\" style=\"width:100%;\" ></td>\n    </tr>\n    <tr>\n      <th>TANL_layer_1</th>\n      <td><img src=\"../Results-MLPwAttention-Bucketed/probresult_Y_bucket_num_events_muc1700_X_TANL_layer_1_bert-uncased_epoch20_muc1700_epoch52_nhid400.png\" style=\"width:100%;\" ></td>\n      <td><img src=\"../Results-MLPwAttention-Bucketed/probresult_Y_bucket_num_words_muc1700_X_TANL_layer_1_bert-uncased_epoch20_muc1700_epoch60_nhid400.png\" style=\"width:100%;\" ></td>\n      <td><img src=\"../Results-MLPwAttention-Bucketed/probresult_Y_bucket_num_sent_muc1700_X_TANL_layer_1_bert-uncased_epoch20_muc1700_epoch56_nhid400.png\" style=\"width:100%;\" ></td>\n    </tr>\n    <tr>\n      <th>TANL_layer_2</th>\n      <td><img src=\"../Results-MLPwAttention-Bucketed/probresult_Y_bucket_num_events_muc1700_X_TANL_layer_2_bert-uncased_epoch20_muc1700_epoch48_nhid400.png\" style=\"width:100%;\" ></td>\n      <td><img src=\"../Results-MLPwAttention-Bucketed/probresult_Y_bucket_num_words_muc1700_X_TANL_layer_2_bert-uncased_epoch20_muc1700_epoch60_nhid400.png\" style=\"width:100%;\" ></td>\n      <td><img src=\"../Results-MLPwAttention-Bucketed/probresult_Y_bucket_num_sent_muc1700_X_TANL_layer_2_bert-uncased_epoch20_muc1700_epoch56_nhid400.png\" style=\"width:100%;\" ></td>\n    </tr>\n    <tr>\n      <th>TANL_layer_3</th>\n      <td><img src=\"../Results-MLPwAttention-Bucketed/probresult_Y_bucket_num_events_muc1700_X_TANL_layer_3_bert-uncased_epoch20_muc1700_epoch48_nhid400.png\" style=\"width:100%;\" ></td>\n      <td><img src=\"../Results-MLPwAttention-Bucketed/probresult_Y_bucket_num_words_muc1700_X_TANL_layer_3_bert-uncased_epoch20_muc1700_epoch60_nhid400.png\" style=\"width:100%;\" ></td>\n      <td><img src=\"../Results-MLPwAttention-Bucketed/probresult_Y_bucket_num_sent_muc1700_X_TANL_layer_3_bert-uncased_epoch20_muc1700_epoch56_nhid400.png\" style=\"width:100%;\" ></td>\n    </tr>\n    <tr>\n      <th>TANL_layer_4</th>\n      <td><img src=\"../Results-MLPwAttention-Bucketed/probresult_Y_bucket_num_events_muc1700_X_TANL_layer_4_bert-uncased_epoch20_muc1700_epoch56_nhid400.png\" style=\"width:100%;\" ></td>\n      <td><img src=\"../Results-MLPwAttention-Bucketed/probresult_Y_bucket_num_words_muc1700_X_TANL_layer_4_bert-uncased_epoch20_muc1700_epoch60_nhid400.png\" style=\"width:100%;\" ></td>\n      <td><img src=\"../Results-MLPwAttention-Bucketed/probresult_Y_bucket_num_sent_muc1700_X_TANL_layer_4_bert-uncased_epoch20_muc1700_epoch56_nhid400.png\" style=\"width:100%;\" ></td>\n    </tr>\n    <tr>\n      <th>TANL_layer_5</th>\n      <td><img src=\"../Results-MLPwAttention-Bucketed/probresult_Y_bucket_num_events_muc1700_X_TANL_layer_5_bert-uncased_epoch20_muc1700_epoch48_nhid400.png\" style=\"width:100%;\" ></td>\n      <td><img src=\"../Results-MLPwAttention-Bucketed/probresult_Y_bucket_num_words_muc1700_X_TANL_layer_5_bert-uncased_epoch20_muc1700_epoch60_nhid400.png\" style=\"width:100%;\" ></td>\n      <td><img src=\"../Results-MLPwAttention-Bucketed/probresult_Y_bucket_num_sent_muc1700_X_TANL_layer_5_bert-uncased_epoch20_muc1700_epoch60_nhid400.png\" style=\"width:100%;\" ></td>\n    </tr>\n    <tr>\n      <th>TANL_layer_6</th>\n      <td><img src=\"../Results-MLPwAttention-Bucketed/probresult_Y_bucket_num_events_muc1700_X_TANL_layer_6_bert-uncased_epoch20_muc1700_epoch48_nhid400.png\" style=\"width:100%;\" ></td>\n      <td><img src=\"../Results-MLPwAttention-Bucketed/probresult_Y_bucket_num_words_muc1700_X_TANL_layer_6_bert-uncased_epoch20_muc1700_epoch60_nhid400.png\" style=\"width:100%;\" ></td>\n      <td><img src=\"../Results-MLPwAttention-Bucketed/probresult_Y_bucket_num_sent_muc1700_X_TANL_layer_6_bert-uncased_epoch20_muc1700_epoch60_nhid400.png\" style=\"width:100%;\" ></td>\n    </tr>\n    <tr>\n      <th>TANL_layer_7</th>\n      <td><img src=\"../Results-MLPwAttention-Bucketed/probresult_Y_bucket_num_events_muc1700_X_TANL_layer_7_bert-uncased_epoch20_muc1700_epoch48_nhid400.png\" style=\"width:100%;\" ></td>\n      <td><img src=\"../Results-MLPwAttention-Bucketed/probresult_Y_bucket_num_words_muc1700_X_TANL_layer_7_bert-uncased_epoch20_muc1700_epoch60_nhid400.png\" style=\"width:100%;\" ></td>\n      <td><img src=\"../Results-MLPwAttention-Bucketed/probresult_Y_bucket_num_sent_muc1700_X_TANL_layer_7_bert-uncased_epoch20_muc1700_epoch60_nhid400.png\" style=\"width:100%;\" ></td>\n    </tr>\n    <tr>\n      <th>TANL_layer_8</th>\n      <td><img src=\"../Results-MLPwAttention-Bucketed/probresult_Y_bucket_num_events_muc1700_X_TANL_layer_8_bert-uncased_epoch20_muc1700_epoch48_nhid400.png\" style=\"width:100%;\" ></td>\n      <td><img src=\"../Results-MLPwAttention-Bucketed/probresult_Y_bucket_num_words_muc1700_X_TANL_layer_8_bert-uncased_epoch20_muc1700_epoch72_nhid400.png\" style=\"width:100%;\" ></td>\n      <td><img src=\"../Results-MLPwAttention-Bucketed/probresult_Y_bucket_num_sent_muc1700_X_TANL_layer_8_bert-uncased_epoch20_muc1700_epoch60_nhid400.png\" style=\"width:100%;\" ></td>\n    </tr>\n    <tr>\n      <th>TANL_layer_9</th>\n      <td><img src=\"../Results-MLPwAttention-Bucketed/probresult_Y_bucket_num_events_muc1700_X_TANL_layer_9_bert-uncased_epoch20_muc1700_epoch48_nhid400.png\" style=\"width:100%;\" ></td>\n      <td><img src=\"../Results-MLPwAttention-Bucketed/probresult_Y_bucket_num_words_muc1700_X_TANL_layer_9_bert-uncased_epoch20_muc1700_epoch52_nhid400.png\" style=\"width:100%;\" ></td>\n      <td><img src=\"../Results-MLPwAttention-Bucketed/probresult_Y_bucket_num_sent_muc1700_X_TANL_layer_9_bert-uncased_epoch20_muc1700_epoch56_nhid400.png\" style=\"width:100%;\" ></td>\n    </tr>\n    <tr>\n      <th>TANL_layer_10</th>\n      <td><img src=\"../Results-MLPwAttention-Bucketed/probresult_Y_bucket_num_events_muc1700_X_TANL_layer_10_bert-uncased_epoch20_muc1700_epoch48_nhid400.png\" style=\"width:100%;\" ></td>\n      <td><img src=\"../Results-MLPwAttention-Bucketed/probresult_Y_bucket_num_words_muc1700_X_TANL_layer_10_bert-uncased_epoch20_muc1700_epoch60_nhid400.png\" style=\"width:100%;\" ></td>\n      <td><img src=\"../Results-MLPwAttention-Bucketed/probresult_Y_bucket_num_sent_muc1700_X_TANL_layer_10_bert-uncased_epoch20_muc1700_epoch60_nhid400.png\" style=\"width:100%;\" ></td>\n    </tr>\n    <tr>\n      <th>TANL_layer_11</th>\n      <td><img src=\"../Results-MLPwAttention-Bucketed/probresult_Y_bucket_num_events_muc1700_X_TANL_layer_11_bert-uncased_epoch20_muc1700_epoch48_nhid400.png\" style=\"width:100%;\" ></td>\n      <td><img src=\"../Results-MLPwAttention-Bucketed/probresult_Y_bucket_num_words_muc1700_X_TANL_layer_11_bert-uncased_epoch20_muc1700_epoch56_nhid400.png\" style=\"width:100%;\" ></td>\n      <td><img src=\"../Results-MLPwAttention-Bucketed/probresult_Y_bucket_num_sent_muc1700_X_TANL_layer_11_bert-uncased_epoch20_muc1700_epoch60_nhid400.png\" style=\"width:100%;\" ></td>\n    </tr>\n    <tr>\n      <th>TANL_layer_last</th>\n      <td><img src=\"../Results-MLPwAttention-Bucketed/probresult_Y_bucket_num_events_muc1700_X_TANL_layer_last_bert-uncased_epoch20_muc1700_epoch64_nhid400.png\" style=\"width:100%;\" ></td>\n      <td><img src=\"../Results-MLPwAttention-Bucketed/probresult_Y_bucket_num_words_muc1700_X_TANL_layer_last_bert-uncased_epoch20_muc1700_epoch72_nhid400.png\" style=\"width:100%;\" ></td>\n      <td><img src=\"../Results-MLPwAttention-Bucketed/probresult_Y_bucket_num_sent_muc1700_X_TANL_layer_last_bert-uncased_epoch20_muc1700_epoch60_nhid400.png\" style=\"width:100%;\" ></td>\n    </tr>\n    <tr>\n      <th>dygiepp_embedding-unpadded</th>\n      <td><img src=\"../Results-MLPwAttention-Bucketed/probresult_Y_bucket_num_events_muc1700_X_dygiepp_embedding-unpadded_bert-uncased_epoch21_muc1700_epoch56_nhid400.png\" style=\"width:100%;\" ></td>\n      <td><img src=\"../Results-MLPwAttention-Bucketed/probresult_Y_bucket_num_words_muc1700_X_dygiepp_embedding-unpadded_bert-uncased_epoch21_muc1700_epoch72_nhid400.png\" style=\"width:100%;\" ></td>\n      <td><img src=\"../Results-MLPwAttention-Bucketed/probresult_Y_bucket_num_sent_muc1700_X_dygiepp_embedding-unpadded_bert-uncased_epoch21_muc1700_epoch80_nhid400.png\" style=\"width:100%;\" ></td>\n    </tr>\n  </tbody>\n</table>"
     },
     "metadata": {},
     "output_type": "display_data"
    }
   ],
   "source": [
    "display_dict = {}  # Create an empty dictionary to store the final result\n",
    "from IPython.core.display import display, HTML\n",
    "\n",
    "\n",
    "def path_to_image_html(path):\n",
    "    return '<img src=\"' + path + '\" style=\"width:100%;\" >'\n",
    "\n",
    "\n",
    "for embedding_layer_name, v in results.items():  # Iterate through each key-value pair in the \"results\" dictionary\n",
    "    inner_dict = {}  # Create an empty dictionary to store the inner values\n",
    "    for task_name, list_of_results in v.items():  # Iterate through each key-value pair in the inner dictionary\n",
    "        # Sort the values based on the 'hidden_size' key and extract the 'val_acc' values\n",
    "        size_to_results = {}\n",
    "        for d in list_of_results:\n",
    "            size_to_results[d['hidden_size']] = d\n",
    "\n",
    "        # Extract the 'val_acc' values from the sorted list and assign them to the inner dictionary\n",
    "        y_name = size_to_results[400][\"Y\"]\n",
    "        x_name = size_to_results[400][\"X\"]\n",
    "        epoch_str = size_to_results[400][\"actual_epoch\"]\n",
    "        probing_classifier_width = size_to_results[400][\"hidden_size\"]\n",
    "\n",
    "        inner_dict[task_name] = (os.path.join(results_path,\n",
    "                                              f\"probresult_{y_name}_{x_name}_epoch{epoch_str}_nhid{str(probing_classifier_width)}.png\"))\n",
    "    # Remove the last 29 characters in column names (\"_bert-uncased_epoch**_muc1700\")\n",
    "    display_dict[embedding_layer_name[2:-29]] = inner_dict\n",
    "\n",
    "df = pd.DataFrame.from_dict(sort_dict_by_key(display_dict), orient='index')\n",
    "df.columns.name = \"Test acc of hidden size 400\\nbert-uncased, muc1700\\n \"\n",
    "df = df.applymap(path_to_image_html)\n",
    "\n",
    "html_content = df.to_html(escape=False)\n",
    "filename = \"output1.html\"\n",
    "\n",
    "# Save the HTML string to a file\n",
    "with open(filename, \"w\") as file:\n",
    "    file.write(html_content)\n",
    "\n",
    "# Open the HTML file in a web browser\n",
    "import webbrowser\n",
    "\n",
    "webbrowser.open(\"file://\" + os.path.abspath(filename))\n",
    "\n",
    "display(HTML(html_content))"
   ],
   "metadata": {
    "collapsed": false,
    "ExecuteTime": {
     "end_time": "2023-05-02T20:28:00.626953Z",
     "start_time": "2023-05-02T20:28:00.297270Z"
    }
   }
  },
  {
   "cell_type": "markdown",
   "source": [],
   "metadata": {
    "collapsed": false
   }
  },
  {
   "cell_type": "code",
   "execution_count": 239,
   "outputs": [
    {
     "data": {
      "text/plain": "<IPython.core.display.HTML object>",
      "text/html": "<table border=\"1\" class=\"dataframe\">\n  <thead>\n    <tr style=\"text-align: right;\">\n      <th>Test acc of hidden size 400\nbert-uncased, muc1700</th>\n      <th>Y_bucket_num_events_muc1700</th>\n      <th>Y_bucket_num_words_muc1700</th>\n      <th>Y_bucket_num_sent_muc1700</th>\n    </tr>\n  </thead>\n  <tbody>\n    <tr>\n      <th>GTT_layer_0</th>\n      <td><img src=\"../Results-MLPwAttention-Bucketed/probresult_Y_bucket_num_events_muc1700_X_GTT_layer_0_bert-uncased_epoch18_muc1700_epoch48_nhid400.png\" style=\"width:100%;\" ></td>\n      <td><img src=\"../Results-MLPwAttention-Bucketed/probresult_Y_bucket_num_words_muc1700_X_GTT_layer_0_bert-uncased_epoch18_muc1700_epoch48_nhid400.png\" style=\"width:100%;\" ></td>\n      <td><img src=\"../Results-MLPwAttention-Bucketed/probresult_Y_bucket_num_sent_muc1700_X_GTT_layer_0_bert-uncased_epoch18_muc1700_epoch56_nhid400.png\" style=\"width:100%;\" ></td>\n    </tr>\n    <tr>\n      <th>GTT_layer_last</th>\n      <td><img src=\"../Results-MLPwAttention-Bucketed/probresult_Y_bucket_num_events_muc1700_X_GTT_layer_last_bert-uncased_epoch18_muc1700_epoch60_nhid400.png\" style=\"width:100%;\" ></td>\n      <td><img src=\"../Results-MLPwAttention-Bucketed/probresult_Y_bucket_num_words_muc1700_X_GTT_layer_last_bert-uncased_epoch18_muc1700_epoch60_nhid400.png\" style=\"width:100%;\" ></td>\n      <td><img src=\"../Results-MLPwAttention-Bucketed/probresult_Y_bucket_num_sent_muc1700_X_GTT_layer_last_bert-uncased_epoch18_muc1700_epoch72_nhid400.png\" style=\"width:100%;\" ></td>\n    </tr>\n    <tr>\n      <th>TANL_layer_0</th>\n      <td><img src=\"../Results-MLPwAttention-Bucketed/probresult_Y_bucket_num_events_muc1700_X_TANL_layer_0_bert-uncased_epoch20_muc1700_epoch48_nhid400.png\" style=\"width:100%;\" ></td>\n      <td><img src=\"../Results-MLPwAttention-Bucketed/probresult_Y_bucket_num_words_muc1700_X_TANL_layer_0_bert-uncased_epoch20_muc1700_epoch56_nhid400.png\" style=\"width:100%;\" ></td>\n      <td><img src=\"../Results-MLPwAttention-Bucketed/probresult_Y_bucket_num_sent_muc1700_X_TANL_layer_0_bert-uncased_epoch20_muc1700_epoch56_nhid400.png\" style=\"width:100%;\" ></td>\n    </tr>\n    <tr>\n      <th>TANL_layer_last</th>\n      <td><img src=\"../Results-MLPwAttention-Bucketed/probresult_Y_bucket_num_events_muc1700_X_TANL_layer_last_bert-uncased_epoch20_muc1700_epoch64_nhid400.png\" style=\"width:100%;\" ></td>\n      <td><img src=\"../Results-MLPwAttention-Bucketed/probresult_Y_bucket_num_words_muc1700_X_TANL_layer_last_bert-uncased_epoch20_muc1700_epoch72_nhid400.png\" style=\"width:100%;\" ></td>\n      <td><img src=\"../Results-MLPwAttention-Bucketed/probresult_Y_bucket_num_sent_muc1700_X_TANL_layer_last_bert-uncased_epoch20_muc1700_epoch60_nhid400.png\" style=\"width:100%;\" ></td>\n    </tr>\n    <tr>\n      <th>dygiepp_embedding-unpadded</th>\n      <td><img src=\"../Results-MLPwAttention-Bucketed/probresult_Y_bucket_num_events_muc1700_X_dygiepp_embedding-unpadded_bert-uncased_epoch21_muc1700_epoch56_nhid400.png\" style=\"width:100%;\" ></td>\n      <td><img src=\"../Results-MLPwAttention-Bucketed/probresult_Y_bucket_num_words_muc1700_X_dygiepp_embedding-unpadded_bert-uncased_epoch21_muc1700_epoch72_nhid400.png\" style=\"width:100%;\" ></td>\n      <td><img src=\"../Results-MLPwAttention-Bucketed/probresult_Y_bucket_num_sent_muc1700_X_dygiepp_embedding-unpadded_bert-uncased_epoch21_muc1700_epoch80_nhid400.png\" style=\"width:100%;\" ></td>\n    </tr>\n  </tbody>\n</table>"
     },
     "metadata": {},
     "output_type": "display_data"
    }
   ],
   "source": [
    "display_dict = {}  # Create an empty dictionary to store the final result\n",
    "from IPython.core.display import display, HTML\n",
    "\n",
    "\n",
    "def path_to_image_html(path):\n",
    "    return '<img src=\"' + path + '\" style=\"width:100%;\" >'\n",
    "\n",
    "\n",
    "for embedding_layer_name, v in results.items():  # Iterate through each key-value pair in the \"results\" dictionary\n",
    "    if \"_1_\" in embedding_layer_name or \"_2_\" in embedding_layer_name or \"_3_\" in embedding_layer_name or \"_4_\" in embedding_layer_name or \"_5_\" in embedding_layer_name or \"_6_\" in embedding_layer_name or \"_7_\" in embedding_layer_name or \"_8_\" in embedding_layer_name or \"_9_\" in embedding_layer_name or \"_10_\" in embedding_layer_name or \"_11_\" in embedding_layer_name:\n",
    "        continue\n",
    "    inner_dict = {}  # Create an empty dictionary to store the inner values\n",
    "    for task_name, list_of_results in v.items():  # Iterate through each key-value pair in the inner dictionary\n",
    "        # Sort the values based on the 'hidden_size' key and extract the 'val_acc' values\n",
    "        size_to_results = {}\n",
    "        for d in list_of_results:\n",
    "            size_to_results[d['hidden_size']] = d\n",
    "\n",
    "        # Extract the 'val_acc' values from the sorted list and assign them to the inner dictionary\n",
    "        y_name = size_to_results[400][\"Y\"]\n",
    "        x_name = size_to_results[400][\"X\"]\n",
    "\n",
    "        epoch_str = size_to_results[400][\"actual_epoch\"]\n",
    "        probing_classifier_width = size_to_results[400][\"hidden_size\"]\n",
    "\n",
    "        inner_dict[task_name] = (os.path.join(results_path,\n",
    "                                              f\"probresult_{y_name}_{x_name}_epoch{epoch_str}_nhid{str(probing_classifier_width)}.png\"))\n",
    "    # Remove the last 29 characters in column names (\"_bert-uncased_epoch**_muc1700\")\n",
    "    display_dict[embedding_layer_name[2:-29]] = inner_dict\n",
    "\n",
    "df = pd.DataFrame.from_dict(sort_dict_by_key(display_dict), orient='index')\n",
    "df.columns.name = \"Test acc of hidden size 400\\nbert-uncased, muc1700\\n \"\n",
    "df = df.applymap(path_to_image_html)\n",
    "\n",
    "html_content = df.to_html(escape=False)\n",
    "filename = \"output1.1.html\"\n",
    "\n",
    "# Save the HTML string to a file\n",
    "with open(filename, \"w\") as file:\n",
    "    file.write(html_content)\n",
    "\n",
    "# Open the HTML file in a web browser\n",
    "import webbrowser\n",
    "\n",
    "webbrowser.open(\"file://\" + os.path.abspath(filename))\n",
    "\n",
    "display(HTML(html_content))"
   ],
   "metadata": {
    "collapsed": false,
    "ExecuteTime": {
     "end_time": "2023-05-02T20:28:06.197529Z",
     "start_time": "2023-05-02T20:28:05.897748Z"
    }
   }
  },
  {
   "cell_type": "code",
   "execution_count": null,
   "outputs": [],
   "source": [],
   "metadata": {
    "collapsed": false
   }
  }
 ],
 "metadata": {
  "kernelspec": {
   "display_name": "Python 3",
   "language": "python",
   "name": "python3"
  },
  "language_info": {
   "codemirror_mode": {
    "name": "ipython",
    "version": 2
   },
   "file_extension": ".py",
   "mimetype": "text/x-python",
   "name": "python",
   "nbconvert_exporter": "python",
   "pygments_lexer": "ipython2",
   "version": "2.7.6"
  }
 },
 "nbformat": 4,
 "nbformat_minor": 0
}
