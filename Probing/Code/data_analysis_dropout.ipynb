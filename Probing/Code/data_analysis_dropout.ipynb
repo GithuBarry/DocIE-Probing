{
 "cells": [
  {
   "cell_type": "code",
   "execution_count": 3,
   "metadata": {
    "collapsed": true,
    "ExecuteTime": {
     "end_time": "2023-05-01T13:17:25.030097Z",
     "start_time": "2023-05-01T13:17:24.073344Z"
    }
   },
   "outputs": [],
   "source": [
    "\n",
    "import json\n",
    "import os\n",
    "from collections import defaultdict\n",
    "import pandas as pd"
   ]
  },
  {
   "cell_type": "code",
   "execution_count": 4,
   "outputs": [],
   "source": [
    "import re\n",
    "\n",
    "\n",
    "def sort_dict_by_key(dictionary):\n",
    "    sorted_dict = dict(\n",
    "        sorted(dictionary.items(), key=lambda x: [int(s) if s.isdigit() else s for s in re.split(r'(\\d+)', x[0])]))\n",
    "    return sorted_dict"
   ],
   "metadata": {
    "collapsed": false,
    "ExecuteTime": {
     "end_time": "2023-05-01T13:17:25.030711Z",
     "start_time": "2023-05-01T13:17:25.030344Z"
    }
   }
  },
  {
   "cell_type": "code",
   "execution_count": 5,
   "outputs": [
    {
     "name": "stdout",
     "output_type": "stream",
     "text": [
      "../Results-MLPwAttention-Dropout0.2/probresult_Y_bucket_num_events_muc1700_X_TANL_layer_11_bert-uncased_epoch20_muc1700_epoch48_nhid400.json\n",
      "../Results-MLPwAttention-Dropout0.2/probresult_Y_bucket_num_words_muc1700_X_TANL_layer_8_bert-uncased_epoch20_muc1700_epoch60_nhid400.json\n",
      "../Results-MLPwAttention-Dropout0.2/probresult_Y_bucket_num_words_muc1700_X_TANL_layer_6_bert-uncased_epoch20_muc1700_epoch48_nhid800.json\n",
      "../Results-MLPwAttention-Dropout0.2/probresult_Y_bucket_num_words_muc1700_X_TANL_layer_9_bert-uncased_epoch20_muc1700_epoch56_nhid800.json\n",
      "../Results-MLPwAttention-Dropout0.2/probresult_Y_bucket_num_events_muc1700_X_TANL_layer_7_bert-uncased_epoch20_muc1700_epoch52_nhid800.json\n",
      "../Results-MLPwAttention-Dropout0.2/probresult_Y_bucket_num_sent_muc1700_X_TANL_layer_5_bert-uncased_epoch20_muc1700_epoch56_nhid800.json\n",
      "../Results-MLPwAttention-Dropout0.2/probresult_Y_bucket_num_events_muc1700_X_GTT_layer_last_bert-uncased_epoch20_muc1700_epoch48_nhid400.json\n",
      "../Results-MLPwAttention-Dropout0.2/probresult_Y_bucket_num_sent_muc1700_X_TANL_layer_5_bert-uncased_epoch20_muc1700_epoch56_nhid400.json\n",
      "../Results-MLPwAttention-Dropout0.2/probresult_Y_bucket_num_events_muc1700_X_dygiepp_embedding-unpadded_bert-uncased_epoch21_muc1700_epoch68_nhid400.json\n",
      "../Results-MLPwAttention-Dropout0.2/probresult_Y_bucket_num_words_muc1700_X_TANL_layer_10_bert-uncased_epoch20_muc1700_epoch60_nhid400.json\n",
      "../Results-MLPwAttention-Dropout0.2/probresult_Y_bucket_num_sent_muc1700_X_TANL_layer_11_bert-uncased_epoch20_muc1700_epoch52_nhid800.json\n",
      "../Results-MLPwAttention-Dropout0.2/probresult_Y_bucket_num_words_muc1700_X_GTT_layer_last_bert-uncased_epoch20_muc1700_epoch52_nhid400.json\n",
      "../Results-MLPwAttention-Dropout0.2/probresult_Y_bucket_num_events_muc1700_X_TANL_layer_6_bert-uncased_epoch20_muc1700_epoch52_nhid800.json\n",
      "../Results-MLPwAttention-Dropout0.2/probresult_Y_bucket_num_sent_muc1700_X_TANL_layer_0_bert-uncased_epoch20_muc1700_epoch64_nhid400.json\n",
      "../Results-MLPwAttention-Dropout0.2/probresult_Y_bucket_num_sent_muc1700_X_GTT_layer_last_bert-uncased_epoch20_muc1700_epoch60_nhid400.json\n",
      "../Results-MLPwAttention-Dropout0.2/probresult_Y_bucket_num_sent_muc1700_X_TANL_layer_4_bert-uncased_epoch20_muc1700_epoch56_nhid400.json\n",
      "../Results-MLPwAttention-Dropout0.2/probresult_Y_bucket_num_events_muc1700_X_TANL_layer_10_bert-uncased_epoch20_muc1700_epoch48_nhid400.json\n",
      "../Results-MLPwAttention-Dropout0.2/probresult_Y_bucket_num_words_muc1700_X_TANL_layer_8_bert-uncased_epoch20_muc1700_epoch56_nhid800.json\n",
      "../Results-MLPwAttention-Dropout0.2/probresult_Y_bucket_num_events_muc1700_X_TANL_layer_4_bert-uncased_epoch20_muc1700_epoch52_nhid800.json\n",
      "../Results-MLPwAttention-Dropout0.2/probresult_Y_bucket_num_sent_muc1700_X_TANL_layer_6_bert-uncased_epoch20_muc1700_epoch56_nhid800.json\n",
      "../Results-MLPwAttention-Dropout0.2/probresult_Y_bucket_num_sent_muc1700_X_TANL_layer_3_bert-uncased_epoch20_muc1700_epoch52_nhid400.json\n",
      "../Results-MLPwAttention-Dropout0.2/probresult_Y_bucket_num_sent_muc1700_X_TANL_layer_6_bert-uncased_epoch20_muc1700_epoch56_nhid400.json\n",
      "../Results-MLPwAttention-Dropout0.2/probresult_Y_bucket_num_events_muc1700_X_TANL_layer_4_bert-uncased_epoch20_muc1700_epoch52_nhid400.json\n",
      "../Results-MLPwAttention-Dropout0.2/probresult_Y_bucket_num_words_muc1700_X_TANL_layer_last_bert-uncased_epoch20_muc1700_epoch76_nhid400.json\n",
      "../Results-MLPwAttention-Dropout0.2/probresult_Y_bucket_num_events_muc1700_X_TANL_layer_0_bert-uncased_epoch20_muc1700_epoch56_nhid400.json\n",
      "../Results-MLPwAttention-Dropout0.2/probresult_Y_bucket_num_events_muc1700_X_TANL_layer_5_bert-uncased_epoch20_muc1700_epoch52_nhid800.json\n",
      "../Results-MLPwAttention-Dropout0.2/probresult_Y_bucket_num_sent_muc1700_X_TANL_layer_7_bert-uncased_epoch20_muc1700_epoch56_nhid800.json\n",
      "../Results-MLPwAttention-Dropout0.2/probresult_Y_bucket_num_events_muc1700_X_TANL_layer_last_bert-uncased_epoch20_muc1700_epoch60_nhid400.json\n",
      "../Results-MLPwAttention-Dropout0.2/probresult_Y_bucket_num_sent_muc1700_X_TANL_layer_2_bert-uncased_epoch20_muc1700_epoch52_nhid400.json\n",
      "../Results-MLPwAttention-Dropout0.2/probresult_Y_bucket_num_sent_muc1700_X_TANL_layer_7_bert-uncased_epoch20_muc1700_epoch56_nhid400.json\n",
      "../Results-MLPwAttention-Dropout0.2/probresult_Y_bucket_num_events_muc1700_X_TANL_layer_last_bert-uncased_epoch20_muc1700_epoch60_nhid800.json\n",
      "../Results-MLPwAttention-Dropout0.2/probresult_Y_bucket_num_events_muc1700_X_TANL_layer_0_bert-uncased_epoch20_muc1700_epoch56_nhid800.json\n",
      "../Results-MLPwAttention-Dropout0.2/probresult_Y_bucket_num_events_muc1700_X_dygiepp_embedding-unpadded_bert-uncased_epoch21_muc1700_epoch52_nhid800.json\n",
      "../Results-MLPwAttention-Dropout0.2/probresult_Y_bucket_num_words_muc1700_X_TANL_layer_7_bert-uncased_epoch20_muc1700_epoch56_nhid800.json\n",
      "../Results-MLPwAttention-Dropout0.2/probresult_Y_bucket_num_words_muc1700_X_TANL_layer_10_bert-uncased_epoch20_muc1700_epoch48_nhid800.json\n",
      "../Results-MLPwAttention-Dropout0.2/probresult_Y_bucket_num_events_muc1700_X_TANL_layer_3_bert-uncased_epoch20_muc1700_epoch48_nhid400.json\n",
      "../Results-MLPwAttention-Dropout0.2/probresult_Y_bucket_num_events_muc1700_X_TANL_layer_9_bert-uncased_epoch20_muc1700_epoch52_nhid800.json\n",
      "../Results-MLPwAttention-Dropout0.2/probresult_Y_bucket_num_events_muc1700_X_GTT_layer_0_bert-uncased_epoch20_muc1700_epoch56_nhid800.json\n",
      "../Results-MLPwAttention-Dropout0.2/probresult_Y_bucket_num_words_muc1700_X_TANL_layer_11_bert-uncased_epoch20_muc1700_epoch48_nhid800.json\n",
      "../Results-MLPwAttention-Dropout0.2/probresult_Y_bucket_num_events_muc1700_X_GTT_layer_0_bert-uncased_epoch20_muc1700_epoch60_nhid400.json\n",
      "../Results-MLPwAttention-Dropout0.2/probresult_Y_bucket_num_events_muc1700_X_TANL_layer_2_bert-uncased_epoch20_muc1700_epoch48_nhid400.json\n",
      "../Results-MLPwAttention-Dropout0.2/probresult_Y_bucket_num_events_muc1700_X_TANL_layer_8_bert-uncased_epoch20_muc1700_epoch52_nhid800.json\n",
      "../Results-MLPwAttention-Dropout0.2/probresult_Y_bucket_num_sent_muc1700_X_GTT_layer_last_bert-uncased_epoch20_muc1700_epoch48_nhid800.json\n",
      "../Results-MLPwAttention-Dropout0.2/probresult_Y_bucket_num_words_muc1700_X_TANL_layer_7_bert-uncased_epoch20_muc1700_epoch60_nhid400.json\n",
      "../Results-MLPwAttention-Dropout0.2/probresult_Y_bucket_num_words_muc1700_X_TANL_layer_6_bert-uncased_epoch20_muc1700_epoch56_nhid400.json\n",
      "../Results-MLPwAttention-Dropout0.2/probresult_Y_bucket_num_words_muc1700_X_GTT_layer_0_bert-uncased_epoch20_muc1700_epoch56_nhid800.json\n",
      "../Results-MLPwAttention-Dropout0.2/probresult_Y_bucket_num_sent_muc1700_X_GTT_layer_0_bert-uncased_epoch20_muc1700_epoch52_nhid800.json\n",
      "../Results-MLPwAttention-Dropout0.2/probresult_Y_bucket_num_sent_muc1700_X_TANL_layer_last_bert-uncased_epoch20_muc1700_epoch64_nhid400.json\n",
      "../Results-MLPwAttention-Dropout0.2/probresult_Y_bucket_num_words_muc1700_X_GTT_layer_0_bert-uncased_epoch20_muc1700_epoch56_nhid400.json\n",
      "../Results-MLPwAttention-Dropout0.2/probresult_Y_bucket_num_words_muc1700_X_TANL_layer_4_bert-uncased_epoch20_muc1700_epoch56_nhid400.json\n",
      "../Results-MLPwAttention-Dropout0.2/probresult_Y_bucket_num_words_muc1700_X_TANL_layer_5_bert-uncased_epoch20_muc1700_epoch56_nhid400.json\n",
      "../Results-MLPwAttention-Dropout0.2/probresult_Y_bucket_num_words_muc1700_X_TANL_layer_last_bert-uncased_epoch20_muc1700_epoch68_nhid800.json\n",
      "../Results-MLPwAttention-Dropout0.2/probresult_Y_bucket_num_words_muc1700_X_TANL_layer_5_bert-uncased_epoch20_muc1700_epoch56_nhid800.json\n",
      "../Results-MLPwAttention-Dropout0.2/probresult_Y_bucket_num_words_muc1700_X_TANL_layer_4_bert-uncased_epoch20_muc1700_epoch60_nhid800.json\n",
      "../Results-MLPwAttention-Dropout0.2/probresult_Y_bucket_num_sent_muc1700_X_TANL_layer_8_bert-uncased_epoch20_muc1700_epoch60_nhid800.json\n",
      "../Results-MLPwAttention-Dropout0.2/probresult_Y_bucket_num_sent_muc1700_X_TANL_layer_9_bert-uncased_epoch20_muc1700_epoch56_nhid400.json\n",
      "../Results-MLPwAttention-Dropout0.2/probresult_Y_bucket_num_events_muc1700_X_TANL_layer_6_bert-uncased_epoch20_muc1700_epoch48_nhid400.json\n",
      "../Results-MLPwAttention-Dropout0.2/probresult_Y_bucket_num_words_muc1700_X_TANL_layer_3_bert-uncased_epoch20_muc1700_epoch60_nhid400.json\n",
      "../Results-MLPwAttention-Dropout0.2/probresult_Y_bucket_num_events_muc1700_X_TANL_layer_10_bert-uncased_epoch20_muc1700_epoch52_nhid800.json\n",
      "../Results-MLPwAttention-Dropout0.2/probresult_Y_bucket_num_words_muc1700_X_TANL_layer_2_bert-uncased_epoch20_muc1700_epoch56_nhid800.json\n",
      "../Results-MLPwAttention-Dropout0.2/probresult_Y_bucket_num_words_muc1700_X_TANL_layer_2_bert-uncased_epoch20_muc1700_epoch60_nhid400.json\n",
      "../Results-MLPwAttention-Dropout0.2/probresult_Y_bucket_num_events_muc1700_X_TANL_layer_11_bert-uncased_epoch20_muc1700_epoch52_nhid800.json\n",
      "../Results-MLPwAttention-Dropout0.2/probresult_Y_bucket_num_sent_muc1700_X_TANL_layer_4_bert-uncased_epoch20_muc1700_epoch68_nhid800.json\n",
      "../Results-MLPwAttention-Dropout0.2/probresult_Y_bucket_num_events_muc1700_X_GTT_layer_last_bert-uncased_epoch20_muc1700_epoch52_nhid800.json\n",
      "../Results-MLPwAttention-Dropout0.2/probresult_Y_bucket_num_events_muc1700_X_TANL_layer_7_bert-uncased_epoch20_muc1700_epoch48_nhid400.json\n",
      "../Results-MLPwAttention-Dropout0.2/probresult_Y_bucket_num_words_muc1700_X_TANL_layer_0_bert-uncased_epoch20_muc1700_epoch60_nhid800.json\n",
      "../Results-MLPwAttention-Dropout0.2/probresult_Y_bucket_num_sent_muc1700_X_TANL_layer_8_bert-uncased_epoch20_muc1700_epoch52_nhid400.json\n",
      "../Results-MLPwAttention-Dropout0.2/probresult_Y_bucket_num_events_muc1700_X_TANL_layer_5_bert-uncased_epoch20_muc1700_epoch48_nhid400.json\n",
      "../Results-MLPwAttention-Dropout0.2/probresult_Y_bucket_num_sent_muc1700_X_TANL_layer_9_bert-uncased_epoch20_muc1700_epoch64_nhid800.json\n",
      "../Results-MLPwAttention-Dropout0.2/probresult_Y_bucket_num_sent_muc1700_X_TANL_layer_last_bert-uncased_epoch20_muc1700_epoch56_nhid800.json\n",
      "../Results-MLPwAttention-Dropout0.2/probresult_Y_bucket_num_sent_muc1700_X_GTT_layer_0_bert-uncased_epoch20_muc1700_epoch60_nhid400.json\n",
      "../Results-MLPwAttention-Dropout0.2/probresult_Y_bucket_num_words_muc1700_X_TANL_layer_0_bert-uncased_epoch20_muc1700_epoch56_nhid400.json\n",
      "../Results-MLPwAttention-Dropout0.2/probresult_Y_bucket_num_events_muc1700_X_TANL_layer_8_bert-uncased_epoch20_muc1700_epoch48_nhid400.json\n",
      "../Results-MLPwAttention-Dropout0.2/probresult_Y_bucket_num_events_muc1700_X_TANL_layer_2_bert-uncased_epoch20_muc1700_epoch52_nhid800.json\n",
      "../Results-MLPwAttention-Dropout0.2/probresult_Y_bucket_num_sent_muc1700_X_TANL_layer_0_bert-uncased_epoch20_muc1700_epoch56_nhid800.json\n",
      "../Results-MLPwAttention-Dropout0.2/probresult_Y_bucket_num_words_muc1700_X_TANL_layer_11_bert-uncased_epoch20_muc1700_epoch52_nhid400.json\n",
      "../Results-MLPwAttention-Dropout0.2/probresult_Y_bucket_num_sent_muc1700_X_TANL_layer_11_bert-uncased_epoch20_muc1700_epoch56_nhid400.json\n",
      "../Results-MLPwAttention-Dropout0.2/probresult_Y_bucket_num_words_muc1700_X_TANL_layer_3_bert-uncased_epoch20_muc1700_epoch48_nhid800.json\n",
      "../Results-MLPwAttention-Dropout0.2/probresult_Y_bucket_num_words_muc1700_X_TANL_layer_9_bert-uncased_epoch20_muc1700_epoch64_nhid400.json\n",
      "../Results-MLPwAttention-Dropout0.2/probresult_Y_bucket_num_words_muc1700_X_GTT_layer_last_bert-uncased_epoch20_muc1700_epoch56_nhid800.json\n",
      "../Results-MLPwAttention-Dropout0.2/probresult_Y_bucket_num_events_muc1700_X_TANL_layer_9_bert-uncased_epoch20_muc1700_epoch48_nhid400.json\n",
      "../Results-MLPwAttention-Dropout0.2/probresult_Y_bucket_num_events_muc1700_X_TANL_layer_3_bert-uncased_epoch20_muc1700_epoch52_nhid800.json\n",
      "../Results-MLPwAttention-Dropout0.2/probresult_Y_bucket_num_sent_muc1700_X_TANL_layer_10_bert-uncased_epoch20_muc1700_epoch56_nhid800.json\n",
      "../Results-MLPwAttention-Dropout0.2/probresult_Y_bucket_num_sent_muc1700_X_TANL_layer_10_bert-uncased_epoch20_muc1700_epoch56_nhid400.json\n",
      "../Results-MLPwAttention-Dropout0.2/probresult_Y_bucket_num_sent_muc1700_X_TANL_layer_3_bert-uncased_epoch20_muc1700_epoch60_nhid800.json\n",
      "../Results-MLPwAttention-Dropout0.2/probresult_Y_bucket_num_sent_muc1700_X_TANL_layer_2_bert-uncased_epoch20_muc1700_epoch56_nhid800.json\n"
     ]
    }
   ],
   "source": [
    "results = defaultdict(lambda: defaultdict(list))\n",
    "results_path = \"../Results-MLPwAttention-Dropout0.2/\"\n",
    "for file in os.listdir(results_path):\n",
    "    prefix = \"probresult\"\n",
    "    if file[:len(prefix)] == prefix and file[-5:] == \".json\":\n",
    "        print(os.path.join(results_path, file))\n",
    "        with open(os.path.join(results_path, file)) as f:\n",
    "            result = json.load(f)\n",
    "            results[result[\"X\"]][result[\"Y\"]].append(result)\n"
   ],
   "metadata": {
    "collapsed": false,
    "ExecuteTime": {
     "end_time": "2023-05-01T13:17:25.297730Z",
     "start_time": "2023-05-01T13:17:25.030581Z"
    }
   }
  },
  {
   "cell_type": "code",
   "execution_count": 6,
   "outputs": [
    {
     "data": {
      "text/plain": "[dict_keys(['Y_bucket_num_events_muc1700', 'Y_bucket_num_sent_muc1700', 'Y_bucket_num_words_muc1700']),\n dict_keys(['Y_bucket_num_words_muc1700', 'Y_bucket_num_events_muc1700', 'Y_bucket_num_sent_muc1700']),\n dict_keys(['Y_bucket_num_words_muc1700', 'Y_bucket_num_events_muc1700', 'Y_bucket_num_sent_muc1700']),\n dict_keys(['Y_bucket_num_words_muc1700', 'Y_bucket_num_events_muc1700', 'Y_bucket_num_sent_muc1700']),\n dict_keys(['Y_bucket_num_events_muc1700', 'Y_bucket_num_sent_muc1700', 'Y_bucket_num_words_muc1700']),\n dict_keys(['Y_bucket_num_sent_muc1700', 'Y_bucket_num_events_muc1700', 'Y_bucket_num_words_muc1700']),\n dict_keys(['Y_bucket_num_events_muc1700', 'Y_bucket_num_words_muc1700', 'Y_bucket_num_sent_muc1700']),\n dict_keys(['Y_bucket_num_events_muc1700']),\n dict_keys(['Y_bucket_num_words_muc1700', 'Y_bucket_num_events_muc1700', 'Y_bucket_num_sent_muc1700']),\n dict_keys(['Y_bucket_num_sent_muc1700', 'Y_bucket_num_events_muc1700', 'Y_bucket_num_words_muc1700']),\n dict_keys(['Y_bucket_num_sent_muc1700', 'Y_bucket_num_events_muc1700', 'Y_bucket_num_words_muc1700']),\n dict_keys(['Y_bucket_num_sent_muc1700', 'Y_bucket_num_events_muc1700', 'Y_bucket_num_words_muc1700']),\n dict_keys(['Y_bucket_num_words_muc1700', 'Y_bucket_num_events_muc1700', 'Y_bucket_num_sent_muc1700']),\n dict_keys(['Y_bucket_num_sent_muc1700', 'Y_bucket_num_events_muc1700', 'Y_bucket_num_words_muc1700']),\n dict_keys(['Y_bucket_num_events_muc1700', 'Y_bucket_num_words_muc1700', 'Y_bucket_num_sent_muc1700'])]"
     },
     "execution_count": 6,
     "metadata": {},
     "output_type": "execute_result"
    }
   ],
   "source": [
    "[results[k].keys() for k in results.keys()]"
   ],
   "metadata": {
    "collapsed": false,
    "ExecuteTime": {
     "end_time": "2023-05-01T13:17:26.051610Z",
     "start_time": "2023-05-01T13:17:25.994461Z"
    }
   }
  },
  {
   "cell_type": "code",
   "execution_count": 7,
   "outputs": [
    {
     "ename": "TypeError",
     "evalue": "'float' object is not iterable",
     "output_type": "error",
     "traceback": [
      "\u001B[0;31m---------------------------------------------------------------------------\u001B[0m",
      "\u001B[0;31mTypeError\u001B[0m                                 Traceback (most recent call last)",
      "\u001B[0;32m<ipython-input-7-afb760e5a586>\u001B[0m in \u001B[0;36m<module>\u001B[0;34m\u001B[0m\n\u001B[1;32m     14\u001B[0m \u001B[0;34m\u001B[0m\u001B[0m\n\u001B[1;32m     15\u001B[0m \u001B[0mdf\u001B[0m \u001B[0;34m=\u001B[0m \u001B[0mpd\u001B[0m\u001B[0;34m.\u001B[0m\u001B[0mDataFrame\u001B[0m\u001B[0;34m.\u001B[0m\u001B[0mfrom_dict\u001B[0m\u001B[0;34m(\u001B[0m\u001B[0msort_dict_by_key\u001B[0m\u001B[0;34m(\u001B[0m\u001B[0mdisplay_dict\u001B[0m\u001B[0;34m)\u001B[0m\u001B[0;34m,\u001B[0m \u001B[0morient\u001B[0m\u001B[0;34m=\u001B[0m\u001B[0;34m'index'\u001B[0m\u001B[0;34m)\u001B[0m\u001B[0;34m\u001B[0m\u001B[0;34m\u001B[0m\u001B[0m\n\u001B[0;32m---> 16\u001B[0;31m \u001B[0mdf_aligned\u001B[0m \u001B[0;34m=\u001B[0m \u001B[0mdf\u001B[0m\u001B[0;34m.\u001B[0m\u001B[0mapplymap\u001B[0m\u001B[0;34m(\u001B[0m\u001B[0;32mlambda\u001B[0m \u001B[0ml\u001B[0m\u001B[0;34m:\u001B[0m \u001B[0;34m[\u001B[0m\u001B[0mx\u001B[0m\u001B[0;34m.\u001B[0m\u001B[0mljust\u001B[0m\u001B[0;34m(\u001B[0m\u001B[0;36m6\u001B[0m\u001B[0;34m)\u001B[0m \u001B[0;32mfor\u001B[0m \u001B[0mx\u001B[0m \u001B[0;32min\u001B[0m \u001B[0ml\u001B[0m\u001B[0;34m]\u001B[0m\u001B[0;34m)\u001B[0m\u001B[0;34m\u001B[0m\u001B[0;34m\u001B[0m\u001B[0m\n\u001B[0m\u001B[1;32m     17\u001B[0m \u001B[0;34m\u001B[0m\u001B[0m\n\u001B[1;32m     18\u001B[0m \u001B[0mdf_aligned\u001B[0m\u001B[0;34m.\u001B[0m\u001B[0mcolumns\u001B[0m\u001B[0;34m.\u001B[0m\u001B[0mname\u001B[0m \u001B[0;34m=\u001B[0m \u001B[0;34m\"val acc of hidden size\\n [100, 200, 400, 800]\\nbert-uncased, muc1700\\n * = best performance in cell\"\u001B[0m\u001B[0;34m\u001B[0m\u001B[0;34m\u001B[0m\u001B[0m\n",
      "\u001B[0;32m~/.pyenv/versions/3.6.15/envs/probing/lib/python3.6/site-packages/pandas/core/frame.py\u001B[0m in \u001B[0;36mapplymap\u001B[0;34m(self, func)\u001B[0m\n\u001B[1;32m   7607\u001B[0m             \u001B[0;32mreturn\u001B[0m \u001B[0mlib\u001B[0m\u001B[0;34m.\u001B[0m\u001B[0mmap_infer\u001B[0m\u001B[0;34m(\u001B[0m\u001B[0mx\u001B[0m\u001B[0;34m.\u001B[0m\u001B[0mastype\u001B[0m\u001B[0;34m(\u001B[0m\u001B[0mobject\u001B[0m\u001B[0;34m)\u001B[0m\u001B[0;34m.\u001B[0m\u001B[0m_values\u001B[0m\u001B[0;34m,\u001B[0m \u001B[0mfunc\u001B[0m\u001B[0;34m)\u001B[0m\u001B[0;34m\u001B[0m\u001B[0;34m\u001B[0m\u001B[0m\n\u001B[1;32m   7608\u001B[0m \u001B[0;34m\u001B[0m\u001B[0m\n\u001B[0;32m-> 7609\u001B[0;31m         \u001B[0;32mreturn\u001B[0m \u001B[0mself\u001B[0m\u001B[0;34m.\u001B[0m\u001B[0mapply\u001B[0m\u001B[0;34m(\u001B[0m\u001B[0minfer\u001B[0m\u001B[0;34m)\u001B[0m\u001B[0;34m\u001B[0m\u001B[0;34m\u001B[0m\u001B[0m\n\u001B[0m\u001B[1;32m   7610\u001B[0m \u001B[0;34m\u001B[0m\u001B[0m\n\u001B[1;32m   7611\u001B[0m     \u001B[0;31m# ----------------------------------------------------------------------\u001B[0m\u001B[0;34m\u001B[0m\u001B[0;34m\u001B[0m\u001B[0;34m\u001B[0m\u001B[0m\n",
      "\u001B[0;32m~/.pyenv/versions/3.6.15/envs/probing/lib/python3.6/site-packages/pandas/core/frame.py\u001B[0m in \u001B[0;36mapply\u001B[0;34m(self, func, axis, raw, result_type, args, **kwds)\u001B[0m\n\u001B[1;32m   7550\u001B[0m             \u001B[0mkwds\u001B[0m\u001B[0;34m=\u001B[0m\u001B[0mkwds\u001B[0m\u001B[0;34m,\u001B[0m\u001B[0;34m\u001B[0m\u001B[0;34m\u001B[0m\u001B[0m\n\u001B[1;32m   7551\u001B[0m         )\n\u001B[0;32m-> 7552\u001B[0;31m         \u001B[0;32mreturn\u001B[0m \u001B[0mop\u001B[0m\u001B[0;34m.\u001B[0m\u001B[0mget_result\u001B[0m\u001B[0;34m(\u001B[0m\u001B[0;34m)\u001B[0m\u001B[0;34m\u001B[0m\u001B[0;34m\u001B[0m\u001B[0m\n\u001B[0m\u001B[1;32m   7553\u001B[0m \u001B[0;34m\u001B[0m\u001B[0m\n\u001B[1;32m   7554\u001B[0m     \u001B[0;32mdef\u001B[0m \u001B[0mapplymap\u001B[0m\u001B[0;34m(\u001B[0m\u001B[0mself\u001B[0m\u001B[0;34m,\u001B[0m \u001B[0mfunc\u001B[0m\u001B[0;34m)\u001B[0m \u001B[0;34m->\u001B[0m \u001B[0;34m\"DataFrame\"\u001B[0m\u001B[0;34m:\u001B[0m\u001B[0;34m\u001B[0m\u001B[0;34m\u001B[0m\u001B[0m\n",
      "\u001B[0;32m~/.pyenv/versions/3.6.15/envs/probing/lib/python3.6/site-packages/pandas/core/apply.py\u001B[0m in \u001B[0;36mget_result\u001B[0;34m(self)\u001B[0m\n\u001B[1;32m    183\u001B[0m             \u001B[0;32mreturn\u001B[0m \u001B[0mself\u001B[0m\u001B[0;34m.\u001B[0m\u001B[0mapply_raw\u001B[0m\u001B[0;34m(\u001B[0m\u001B[0;34m)\u001B[0m\u001B[0;34m\u001B[0m\u001B[0;34m\u001B[0m\u001B[0m\n\u001B[1;32m    184\u001B[0m \u001B[0;34m\u001B[0m\u001B[0m\n\u001B[0;32m--> 185\u001B[0;31m         \u001B[0;32mreturn\u001B[0m \u001B[0mself\u001B[0m\u001B[0;34m.\u001B[0m\u001B[0mapply_standard\u001B[0m\u001B[0;34m(\u001B[0m\u001B[0;34m)\u001B[0m\u001B[0;34m\u001B[0m\u001B[0;34m\u001B[0m\u001B[0m\n\u001B[0m\u001B[1;32m    186\u001B[0m \u001B[0;34m\u001B[0m\u001B[0m\n\u001B[1;32m    187\u001B[0m     \u001B[0;32mdef\u001B[0m \u001B[0mapply_empty_result\u001B[0m\u001B[0;34m(\u001B[0m\u001B[0mself\u001B[0m\u001B[0;34m)\u001B[0m\u001B[0;34m:\u001B[0m\u001B[0;34m\u001B[0m\u001B[0;34m\u001B[0m\u001B[0m\n",
      "\u001B[0;32m~/.pyenv/versions/3.6.15/envs/probing/lib/python3.6/site-packages/pandas/core/apply.py\u001B[0m in \u001B[0;36mapply_standard\u001B[0;34m(self)\u001B[0m\n\u001B[1;32m    274\u001B[0m \u001B[0;34m\u001B[0m\u001B[0m\n\u001B[1;32m    275\u001B[0m     \u001B[0;32mdef\u001B[0m \u001B[0mapply_standard\u001B[0m\u001B[0;34m(\u001B[0m\u001B[0mself\u001B[0m\u001B[0;34m)\u001B[0m\u001B[0;34m:\u001B[0m\u001B[0;34m\u001B[0m\u001B[0;34m\u001B[0m\u001B[0m\n\u001B[0;32m--> 276\u001B[0;31m         \u001B[0mresults\u001B[0m\u001B[0;34m,\u001B[0m \u001B[0mres_index\u001B[0m \u001B[0;34m=\u001B[0m \u001B[0mself\u001B[0m\u001B[0;34m.\u001B[0m\u001B[0mapply_series_generator\u001B[0m\u001B[0;34m(\u001B[0m\u001B[0;34m)\u001B[0m\u001B[0;34m\u001B[0m\u001B[0;34m\u001B[0m\u001B[0m\n\u001B[0m\u001B[1;32m    277\u001B[0m \u001B[0;34m\u001B[0m\u001B[0m\n\u001B[1;32m    278\u001B[0m         \u001B[0;31m# wrap results\u001B[0m\u001B[0;34m\u001B[0m\u001B[0;34m\u001B[0m\u001B[0;34m\u001B[0m\u001B[0m\n",
      "\u001B[0;32m~/.pyenv/versions/3.6.15/envs/probing/lib/python3.6/site-packages/pandas/core/apply.py\u001B[0m in \u001B[0;36mapply_series_generator\u001B[0;34m(self)\u001B[0m\n\u001B[1;32m    303\u001B[0m                 \u001B[0;32mfor\u001B[0m \u001B[0mi\u001B[0m\u001B[0;34m,\u001B[0m \u001B[0mv\u001B[0m \u001B[0;32min\u001B[0m \u001B[0menumerate\u001B[0m\u001B[0;34m(\u001B[0m\u001B[0mseries_gen\u001B[0m\u001B[0;34m)\u001B[0m\u001B[0;34m:\u001B[0m\u001B[0;34m\u001B[0m\u001B[0;34m\u001B[0m\u001B[0m\n\u001B[1;32m    304\u001B[0m                     \u001B[0;31m# ignore SettingWithCopy here in case the user mutates\u001B[0m\u001B[0;34m\u001B[0m\u001B[0;34m\u001B[0m\u001B[0;34m\u001B[0m\u001B[0m\n\u001B[0;32m--> 305\u001B[0;31m                     \u001B[0mresults\u001B[0m\u001B[0;34m[\u001B[0m\u001B[0mi\u001B[0m\u001B[0;34m]\u001B[0m \u001B[0;34m=\u001B[0m \u001B[0mself\u001B[0m\u001B[0;34m.\u001B[0m\u001B[0mf\u001B[0m\u001B[0;34m(\u001B[0m\u001B[0mv\u001B[0m\u001B[0;34m)\u001B[0m\u001B[0;34m\u001B[0m\u001B[0;34m\u001B[0m\u001B[0m\n\u001B[0m\u001B[1;32m    306\u001B[0m                     \u001B[0;32mif\u001B[0m \u001B[0misinstance\u001B[0m\u001B[0;34m(\u001B[0m\u001B[0mresults\u001B[0m\u001B[0;34m[\u001B[0m\u001B[0mi\u001B[0m\u001B[0;34m]\u001B[0m\u001B[0;34m,\u001B[0m \u001B[0mABCSeries\u001B[0m\u001B[0;34m)\u001B[0m\u001B[0;34m:\u001B[0m\u001B[0;34m\u001B[0m\u001B[0;34m\u001B[0m\u001B[0m\n\u001B[1;32m    307\u001B[0m                         \u001B[0;31m# If we have a view on v, we need to make a copy because\u001B[0m\u001B[0;34m\u001B[0m\u001B[0;34m\u001B[0m\u001B[0;34m\u001B[0m\u001B[0m\n",
      "\u001B[0;32m~/.pyenv/versions/3.6.15/envs/probing/lib/python3.6/site-packages/pandas/core/frame.py\u001B[0m in \u001B[0;36minfer\u001B[0;34m(x)\u001B[0m\n\u001B[1;32m   7605\u001B[0m             \u001B[0;32mif\u001B[0m \u001B[0mx\u001B[0m\u001B[0;34m.\u001B[0m\u001B[0mempty\u001B[0m\u001B[0;34m:\u001B[0m\u001B[0;34m\u001B[0m\u001B[0;34m\u001B[0m\u001B[0m\n\u001B[1;32m   7606\u001B[0m                 \u001B[0;32mreturn\u001B[0m \u001B[0mlib\u001B[0m\u001B[0;34m.\u001B[0m\u001B[0mmap_infer\u001B[0m\u001B[0;34m(\u001B[0m\u001B[0mx\u001B[0m\u001B[0;34m,\u001B[0m \u001B[0mfunc\u001B[0m\u001B[0;34m)\u001B[0m\u001B[0;34m\u001B[0m\u001B[0;34m\u001B[0m\u001B[0m\n\u001B[0;32m-> 7607\u001B[0;31m             \u001B[0;32mreturn\u001B[0m \u001B[0mlib\u001B[0m\u001B[0;34m.\u001B[0m\u001B[0mmap_infer\u001B[0m\u001B[0;34m(\u001B[0m\u001B[0mx\u001B[0m\u001B[0;34m.\u001B[0m\u001B[0mastype\u001B[0m\u001B[0;34m(\u001B[0m\u001B[0mobject\u001B[0m\u001B[0;34m)\u001B[0m\u001B[0;34m.\u001B[0m\u001B[0m_values\u001B[0m\u001B[0;34m,\u001B[0m \u001B[0mfunc\u001B[0m\u001B[0;34m)\u001B[0m\u001B[0;34m\u001B[0m\u001B[0;34m\u001B[0m\u001B[0m\n\u001B[0m\u001B[1;32m   7608\u001B[0m \u001B[0;34m\u001B[0m\u001B[0m\n\u001B[1;32m   7609\u001B[0m         \u001B[0;32mreturn\u001B[0m \u001B[0mself\u001B[0m\u001B[0;34m.\u001B[0m\u001B[0mapply\u001B[0m\u001B[0;34m(\u001B[0m\u001B[0minfer\u001B[0m\u001B[0;34m)\u001B[0m\u001B[0;34m\u001B[0m\u001B[0;34m\u001B[0m\u001B[0m\n",
      "\u001B[0;32mpandas/_libs/lib.pyx\u001B[0m in \u001B[0;36mpandas._libs.lib.map_infer\u001B[0;34m()\u001B[0m\n",
      "\u001B[0;32m<ipython-input-7-afb760e5a586>\u001B[0m in \u001B[0;36m<lambda>\u001B[0;34m(l)\u001B[0m\n\u001B[1;32m     14\u001B[0m \u001B[0;34m\u001B[0m\u001B[0m\n\u001B[1;32m     15\u001B[0m \u001B[0mdf\u001B[0m \u001B[0;34m=\u001B[0m \u001B[0mpd\u001B[0m\u001B[0;34m.\u001B[0m\u001B[0mDataFrame\u001B[0m\u001B[0;34m.\u001B[0m\u001B[0mfrom_dict\u001B[0m\u001B[0;34m(\u001B[0m\u001B[0msort_dict_by_key\u001B[0m\u001B[0;34m(\u001B[0m\u001B[0mdisplay_dict\u001B[0m\u001B[0;34m)\u001B[0m\u001B[0;34m,\u001B[0m \u001B[0morient\u001B[0m\u001B[0;34m=\u001B[0m\u001B[0;34m'index'\u001B[0m\u001B[0;34m)\u001B[0m\u001B[0;34m\u001B[0m\u001B[0;34m\u001B[0m\u001B[0m\n\u001B[0;32m---> 16\u001B[0;31m \u001B[0mdf_aligned\u001B[0m \u001B[0;34m=\u001B[0m \u001B[0mdf\u001B[0m\u001B[0;34m.\u001B[0m\u001B[0mapplymap\u001B[0m\u001B[0;34m(\u001B[0m\u001B[0;32mlambda\u001B[0m \u001B[0ml\u001B[0m\u001B[0;34m:\u001B[0m \u001B[0;34m[\u001B[0m\u001B[0mx\u001B[0m\u001B[0;34m.\u001B[0m\u001B[0mljust\u001B[0m\u001B[0;34m(\u001B[0m\u001B[0;36m6\u001B[0m\u001B[0;34m)\u001B[0m \u001B[0;32mfor\u001B[0m \u001B[0mx\u001B[0m \u001B[0;32min\u001B[0m \u001B[0ml\u001B[0m\u001B[0;34m]\u001B[0m\u001B[0;34m)\u001B[0m\u001B[0;34m\u001B[0m\u001B[0;34m\u001B[0m\u001B[0m\n\u001B[0m\u001B[1;32m     17\u001B[0m \u001B[0;34m\u001B[0m\u001B[0m\n\u001B[1;32m     18\u001B[0m \u001B[0mdf_aligned\u001B[0m\u001B[0;34m.\u001B[0m\u001B[0mcolumns\u001B[0m\u001B[0;34m.\u001B[0m\u001B[0mname\u001B[0m \u001B[0;34m=\u001B[0m \u001B[0;34m\"val acc of hidden size\\n [100, 200, 400, 800]\\nbert-uncased, muc1700\\n * = best performance in cell\"\u001B[0m\u001B[0;34m\u001B[0m\u001B[0;34m\u001B[0m\u001B[0m\n",
      "\u001B[0;31mTypeError\u001B[0m: 'float' object is not iterable"
     ]
    }
   ],
   "source": [
    "display_dict = {}  # Create an empty dictionary to store the final result\n",
    "\n",
    "for embedding_layer_name, v in results.items():  # Iterate through each key-value pair in the \"results\" dictionary\n",
    "    inner_dict = {}  # Create an empty dictionary to store the inner values\n",
    "    for task_name, list_of_results in v.items():  # Iterate through each key-value pair in the inner dictionary\n",
    "        # Sort the values based on the 'hidden_size' key and extract the 'val_acc' values\n",
    "        sorted_values = sorted([(d['hidden_size'], d['val_acc']) for d in list_of_results], key=lambda p: p[0])\n",
    "        # Extract the 'val_acc' values from the sorted list and assign them to the inner dictionary\n",
    "        inner_dict[task_name] = [p[1] for p in sorted_values]\n",
    "        inner_dict[task_name] = [str(p) + (\"*\" if p == max(inner_dict[task_name]) else \"\") for p in\n",
    "                                 inner_dict[task_name]]\n",
    "    # Remove the last 29 characters in column names (\"_bert-uncased_epoch20_muc1700\")\n",
    "    display_dict[embedding_layer_name[2:-29]] = inner_dict\n",
    "\n",
    "df = pd.DataFrame.from_dict(sort_dict_by_key(display_dict), orient='index')\n",
    "df_aligned = df.applymap(lambda l: [x.ljust(6) for x in l])\n",
    "\n",
    "df_aligned.columns.name = \"val acc of hidden size\\n [100, 200, 400, 800]\\nbert-uncased, muc1700\\n * = best performance in cell\""
   ],
   "metadata": {
    "collapsed": false,
    "ExecuteTime": {
     "end_time": "2023-05-01T13:17:27.033038Z",
     "start_time": "2023-05-01T13:17:26.659710Z"
    }
   }
  },
  {
   "cell_type": "code",
   "execution_count": 8,
   "outputs": [
    {
     "ename": "NameError",
     "evalue": "name 'df_aligned' is not defined",
     "output_type": "error",
     "traceback": [
      "\u001B[0;31m---------------------------------------------------------------------------\u001B[0m",
      "\u001B[0;31mNameError\u001B[0m                                 Traceback (most recent call last)",
      "\u001B[0;32m<ipython-input-8-497cc10f00d5>\u001B[0m in \u001B[0;36m<module>\u001B[0;34m\u001B[0m\n\u001B[0;32m----> 1\u001B[0;31m \u001B[0mdf_aligned\u001B[0m\u001B[0;34m\u001B[0m\u001B[0;34m\u001B[0m\u001B[0m\n\u001B[0m",
      "\u001B[0;31mNameError\u001B[0m: name 'df_aligned' is not defined"
     ]
    }
   ],
   "source": [
    "df_aligned"
   ],
   "metadata": {
    "collapsed": false,
    "ExecuteTime": {
     "end_time": "2023-05-01T13:17:32.904868Z",
     "start_time": "2023-05-01T13:17:32.895514Z"
    }
   }
  },
  {
   "cell_type": "code",
   "execution_count": 9,
   "outputs": [
    {
     "ename": "TypeError",
     "evalue": "'float' object is not iterable",
     "output_type": "error",
     "traceback": [
      "\u001B[0;31m---------------------------------------------------------------------------\u001B[0m",
      "\u001B[0;31mTypeError\u001B[0m                                 Traceback (most recent call last)",
      "\u001B[0;32m<ipython-input-9-bc7115c13bdd>\u001B[0m in \u001B[0;36m<module>\u001B[0;34m\u001B[0m\n\u001B[1;32m     14\u001B[0m \u001B[0;34m\u001B[0m\u001B[0m\n\u001B[1;32m     15\u001B[0m \u001B[0mdf\u001B[0m \u001B[0;34m=\u001B[0m \u001B[0mpd\u001B[0m\u001B[0;34m.\u001B[0m\u001B[0mDataFrame\u001B[0m\u001B[0;34m.\u001B[0m\u001B[0mfrom_dict\u001B[0m\u001B[0;34m(\u001B[0m\u001B[0msort_dict_by_key\u001B[0m\u001B[0;34m(\u001B[0m\u001B[0mdisplay_dict\u001B[0m\u001B[0;34m)\u001B[0m\u001B[0;34m,\u001B[0m \u001B[0morient\u001B[0m\u001B[0;34m=\u001B[0m\u001B[0;34m'index'\u001B[0m\u001B[0;34m)\u001B[0m\u001B[0;34m\u001B[0m\u001B[0;34m\u001B[0m\u001B[0m\n\u001B[0;32m---> 16\u001B[0;31m \u001B[0mdf_aligned\u001B[0m \u001B[0;34m=\u001B[0m \u001B[0mdf\u001B[0m\u001B[0;34m.\u001B[0m\u001B[0mapplymap\u001B[0m\u001B[0;34m(\u001B[0m\u001B[0;32mlambda\u001B[0m \u001B[0ml\u001B[0m\u001B[0;34m:\u001B[0m \u001B[0;34m[\u001B[0m\u001B[0mx\u001B[0m\u001B[0;34m.\u001B[0m\u001B[0mljust\u001B[0m\u001B[0;34m(\u001B[0m\u001B[0;36m6\u001B[0m\u001B[0;34m)\u001B[0m \u001B[0;32mfor\u001B[0m \u001B[0mx\u001B[0m \u001B[0;32min\u001B[0m \u001B[0ml\u001B[0m\u001B[0;34m]\u001B[0m\u001B[0;34m)\u001B[0m\u001B[0;34m\u001B[0m\u001B[0;34m\u001B[0m\u001B[0m\n\u001B[0m\u001B[1;32m     17\u001B[0m \u001B[0;34m\u001B[0m\u001B[0m\n\u001B[1;32m     18\u001B[0m \u001B[0mdf_aligned\u001B[0m\u001B[0;34m.\u001B[0m\u001B[0mcolumns\u001B[0m\u001B[0;34m.\u001B[0m\u001B[0mname\u001B[0m \u001B[0;34m=\u001B[0m \u001B[0;34m\"Test acc of hidden size\\n [100, 200, 400, 800]\\nbert-uncased, muc1700\\n * = best performance in cell\"\u001B[0m\u001B[0;34m\u001B[0m\u001B[0;34m\u001B[0m\u001B[0m\n",
      "\u001B[0;32m~/.pyenv/versions/3.6.15/envs/probing/lib/python3.6/site-packages/pandas/core/frame.py\u001B[0m in \u001B[0;36mapplymap\u001B[0;34m(self, func)\u001B[0m\n\u001B[1;32m   7607\u001B[0m             \u001B[0;32mreturn\u001B[0m \u001B[0mlib\u001B[0m\u001B[0;34m.\u001B[0m\u001B[0mmap_infer\u001B[0m\u001B[0;34m(\u001B[0m\u001B[0mx\u001B[0m\u001B[0;34m.\u001B[0m\u001B[0mastype\u001B[0m\u001B[0;34m(\u001B[0m\u001B[0mobject\u001B[0m\u001B[0;34m)\u001B[0m\u001B[0;34m.\u001B[0m\u001B[0m_values\u001B[0m\u001B[0;34m,\u001B[0m \u001B[0mfunc\u001B[0m\u001B[0;34m)\u001B[0m\u001B[0;34m\u001B[0m\u001B[0;34m\u001B[0m\u001B[0m\n\u001B[1;32m   7608\u001B[0m \u001B[0;34m\u001B[0m\u001B[0m\n\u001B[0;32m-> 7609\u001B[0;31m         \u001B[0;32mreturn\u001B[0m \u001B[0mself\u001B[0m\u001B[0;34m.\u001B[0m\u001B[0mapply\u001B[0m\u001B[0;34m(\u001B[0m\u001B[0minfer\u001B[0m\u001B[0;34m)\u001B[0m\u001B[0;34m\u001B[0m\u001B[0;34m\u001B[0m\u001B[0m\n\u001B[0m\u001B[1;32m   7610\u001B[0m \u001B[0;34m\u001B[0m\u001B[0m\n\u001B[1;32m   7611\u001B[0m     \u001B[0;31m# ----------------------------------------------------------------------\u001B[0m\u001B[0;34m\u001B[0m\u001B[0;34m\u001B[0m\u001B[0;34m\u001B[0m\u001B[0m\n",
      "\u001B[0;32m~/.pyenv/versions/3.6.15/envs/probing/lib/python3.6/site-packages/pandas/core/frame.py\u001B[0m in \u001B[0;36mapply\u001B[0;34m(self, func, axis, raw, result_type, args, **kwds)\u001B[0m\n\u001B[1;32m   7550\u001B[0m             \u001B[0mkwds\u001B[0m\u001B[0;34m=\u001B[0m\u001B[0mkwds\u001B[0m\u001B[0;34m,\u001B[0m\u001B[0;34m\u001B[0m\u001B[0;34m\u001B[0m\u001B[0m\n\u001B[1;32m   7551\u001B[0m         )\n\u001B[0;32m-> 7552\u001B[0;31m         \u001B[0;32mreturn\u001B[0m \u001B[0mop\u001B[0m\u001B[0;34m.\u001B[0m\u001B[0mget_result\u001B[0m\u001B[0;34m(\u001B[0m\u001B[0;34m)\u001B[0m\u001B[0;34m\u001B[0m\u001B[0;34m\u001B[0m\u001B[0m\n\u001B[0m\u001B[1;32m   7553\u001B[0m \u001B[0;34m\u001B[0m\u001B[0m\n\u001B[1;32m   7554\u001B[0m     \u001B[0;32mdef\u001B[0m \u001B[0mapplymap\u001B[0m\u001B[0;34m(\u001B[0m\u001B[0mself\u001B[0m\u001B[0;34m,\u001B[0m \u001B[0mfunc\u001B[0m\u001B[0;34m)\u001B[0m \u001B[0;34m->\u001B[0m \u001B[0;34m\"DataFrame\"\u001B[0m\u001B[0;34m:\u001B[0m\u001B[0;34m\u001B[0m\u001B[0;34m\u001B[0m\u001B[0m\n",
      "\u001B[0;32m~/.pyenv/versions/3.6.15/envs/probing/lib/python3.6/site-packages/pandas/core/apply.py\u001B[0m in \u001B[0;36mget_result\u001B[0;34m(self)\u001B[0m\n\u001B[1;32m    183\u001B[0m             \u001B[0;32mreturn\u001B[0m \u001B[0mself\u001B[0m\u001B[0;34m.\u001B[0m\u001B[0mapply_raw\u001B[0m\u001B[0;34m(\u001B[0m\u001B[0;34m)\u001B[0m\u001B[0;34m\u001B[0m\u001B[0;34m\u001B[0m\u001B[0m\n\u001B[1;32m    184\u001B[0m \u001B[0;34m\u001B[0m\u001B[0m\n\u001B[0;32m--> 185\u001B[0;31m         \u001B[0;32mreturn\u001B[0m \u001B[0mself\u001B[0m\u001B[0;34m.\u001B[0m\u001B[0mapply_standard\u001B[0m\u001B[0;34m(\u001B[0m\u001B[0;34m)\u001B[0m\u001B[0;34m\u001B[0m\u001B[0;34m\u001B[0m\u001B[0m\n\u001B[0m\u001B[1;32m    186\u001B[0m \u001B[0;34m\u001B[0m\u001B[0m\n\u001B[1;32m    187\u001B[0m     \u001B[0;32mdef\u001B[0m \u001B[0mapply_empty_result\u001B[0m\u001B[0;34m(\u001B[0m\u001B[0mself\u001B[0m\u001B[0;34m)\u001B[0m\u001B[0;34m:\u001B[0m\u001B[0;34m\u001B[0m\u001B[0;34m\u001B[0m\u001B[0m\n",
      "\u001B[0;32m~/.pyenv/versions/3.6.15/envs/probing/lib/python3.6/site-packages/pandas/core/apply.py\u001B[0m in \u001B[0;36mapply_standard\u001B[0;34m(self)\u001B[0m\n\u001B[1;32m    274\u001B[0m \u001B[0;34m\u001B[0m\u001B[0m\n\u001B[1;32m    275\u001B[0m     \u001B[0;32mdef\u001B[0m \u001B[0mapply_standard\u001B[0m\u001B[0;34m(\u001B[0m\u001B[0mself\u001B[0m\u001B[0;34m)\u001B[0m\u001B[0;34m:\u001B[0m\u001B[0;34m\u001B[0m\u001B[0;34m\u001B[0m\u001B[0m\n\u001B[0;32m--> 276\u001B[0;31m         \u001B[0mresults\u001B[0m\u001B[0;34m,\u001B[0m \u001B[0mres_index\u001B[0m \u001B[0;34m=\u001B[0m \u001B[0mself\u001B[0m\u001B[0;34m.\u001B[0m\u001B[0mapply_series_generator\u001B[0m\u001B[0;34m(\u001B[0m\u001B[0;34m)\u001B[0m\u001B[0;34m\u001B[0m\u001B[0;34m\u001B[0m\u001B[0m\n\u001B[0m\u001B[1;32m    277\u001B[0m \u001B[0;34m\u001B[0m\u001B[0m\n\u001B[1;32m    278\u001B[0m         \u001B[0;31m# wrap results\u001B[0m\u001B[0;34m\u001B[0m\u001B[0;34m\u001B[0m\u001B[0;34m\u001B[0m\u001B[0m\n",
      "\u001B[0;32m~/.pyenv/versions/3.6.15/envs/probing/lib/python3.6/site-packages/pandas/core/apply.py\u001B[0m in \u001B[0;36mapply_series_generator\u001B[0;34m(self)\u001B[0m\n\u001B[1;32m    303\u001B[0m                 \u001B[0;32mfor\u001B[0m \u001B[0mi\u001B[0m\u001B[0;34m,\u001B[0m \u001B[0mv\u001B[0m \u001B[0;32min\u001B[0m \u001B[0menumerate\u001B[0m\u001B[0;34m(\u001B[0m\u001B[0mseries_gen\u001B[0m\u001B[0;34m)\u001B[0m\u001B[0;34m:\u001B[0m\u001B[0;34m\u001B[0m\u001B[0;34m\u001B[0m\u001B[0m\n\u001B[1;32m    304\u001B[0m                     \u001B[0;31m# ignore SettingWithCopy here in case the user mutates\u001B[0m\u001B[0;34m\u001B[0m\u001B[0;34m\u001B[0m\u001B[0;34m\u001B[0m\u001B[0m\n\u001B[0;32m--> 305\u001B[0;31m                     \u001B[0mresults\u001B[0m\u001B[0;34m[\u001B[0m\u001B[0mi\u001B[0m\u001B[0;34m]\u001B[0m \u001B[0;34m=\u001B[0m \u001B[0mself\u001B[0m\u001B[0;34m.\u001B[0m\u001B[0mf\u001B[0m\u001B[0;34m(\u001B[0m\u001B[0mv\u001B[0m\u001B[0;34m)\u001B[0m\u001B[0;34m\u001B[0m\u001B[0;34m\u001B[0m\u001B[0m\n\u001B[0m\u001B[1;32m    306\u001B[0m                     \u001B[0;32mif\u001B[0m \u001B[0misinstance\u001B[0m\u001B[0;34m(\u001B[0m\u001B[0mresults\u001B[0m\u001B[0;34m[\u001B[0m\u001B[0mi\u001B[0m\u001B[0;34m]\u001B[0m\u001B[0;34m,\u001B[0m \u001B[0mABCSeries\u001B[0m\u001B[0;34m)\u001B[0m\u001B[0;34m:\u001B[0m\u001B[0;34m\u001B[0m\u001B[0;34m\u001B[0m\u001B[0m\n\u001B[1;32m    307\u001B[0m                         \u001B[0;31m# If we have a view on v, we need to make a copy because\u001B[0m\u001B[0;34m\u001B[0m\u001B[0;34m\u001B[0m\u001B[0;34m\u001B[0m\u001B[0m\n",
      "\u001B[0;32m~/.pyenv/versions/3.6.15/envs/probing/lib/python3.6/site-packages/pandas/core/frame.py\u001B[0m in \u001B[0;36minfer\u001B[0;34m(x)\u001B[0m\n\u001B[1;32m   7605\u001B[0m             \u001B[0;32mif\u001B[0m \u001B[0mx\u001B[0m\u001B[0;34m.\u001B[0m\u001B[0mempty\u001B[0m\u001B[0;34m:\u001B[0m\u001B[0;34m\u001B[0m\u001B[0;34m\u001B[0m\u001B[0m\n\u001B[1;32m   7606\u001B[0m                 \u001B[0;32mreturn\u001B[0m \u001B[0mlib\u001B[0m\u001B[0;34m.\u001B[0m\u001B[0mmap_infer\u001B[0m\u001B[0;34m(\u001B[0m\u001B[0mx\u001B[0m\u001B[0;34m,\u001B[0m \u001B[0mfunc\u001B[0m\u001B[0;34m)\u001B[0m\u001B[0;34m\u001B[0m\u001B[0;34m\u001B[0m\u001B[0m\n\u001B[0;32m-> 7607\u001B[0;31m             \u001B[0;32mreturn\u001B[0m \u001B[0mlib\u001B[0m\u001B[0;34m.\u001B[0m\u001B[0mmap_infer\u001B[0m\u001B[0;34m(\u001B[0m\u001B[0mx\u001B[0m\u001B[0;34m.\u001B[0m\u001B[0mastype\u001B[0m\u001B[0;34m(\u001B[0m\u001B[0mobject\u001B[0m\u001B[0;34m)\u001B[0m\u001B[0;34m.\u001B[0m\u001B[0m_values\u001B[0m\u001B[0;34m,\u001B[0m \u001B[0mfunc\u001B[0m\u001B[0;34m)\u001B[0m\u001B[0;34m\u001B[0m\u001B[0;34m\u001B[0m\u001B[0m\n\u001B[0m\u001B[1;32m   7608\u001B[0m \u001B[0;34m\u001B[0m\u001B[0m\n\u001B[1;32m   7609\u001B[0m         \u001B[0;32mreturn\u001B[0m \u001B[0mself\u001B[0m\u001B[0;34m.\u001B[0m\u001B[0mapply\u001B[0m\u001B[0;34m(\u001B[0m\u001B[0minfer\u001B[0m\u001B[0;34m)\u001B[0m\u001B[0;34m\u001B[0m\u001B[0;34m\u001B[0m\u001B[0m\n",
      "\u001B[0;32mpandas/_libs/lib.pyx\u001B[0m in \u001B[0;36mpandas._libs.lib.map_infer\u001B[0;34m()\u001B[0m\n",
      "\u001B[0;32m<ipython-input-9-bc7115c13bdd>\u001B[0m in \u001B[0;36m<lambda>\u001B[0;34m(l)\u001B[0m\n\u001B[1;32m     14\u001B[0m \u001B[0;34m\u001B[0m\u001B[0m\n\u001B[1;32m     15\u001B[0m \u001B[0mdf\u001B[0m \u001B[0;34m=\u001B[0m \u001B[0mpd\u001B[0m\u001B[0;34m.\u001B[0m\u001B[0mDataFrame\u001B[0m\u001B[0;34m.\u001B[0m\u001B[0mfrom_dict\u001B[0m\u001B[0;34m(\u001B[0m\u001B[0msort_dict_by_key\u001B[0m\u001B[0;34m(\u001B[0m\u001B[0mdisplay_dict\u001B[0m\u001B[0;34m)\u001B[0m\u001B[0;34m,\u001B[0m \u001B[0morient\u001B[0m\u001B[0;34m=\u001B[0m\u001B[0;34m'index'\u001B[0m\u001B[0;34m)\u001B[0m\u001B[0;34m\u001B[0m\u001B[0;34m\u001B[0m\u001B[0m\n\u001B[0;32m---> 16\u001B[0;31m \u001B[0mdf_aligned\u001B[0m \u001B[0;34m=\u001B[0m \u001B[0mdf\u001B[0m\u001B[0;34m.\u001B[0m\u001B[0mapplymap\u001B[0m\u001B[0;34m(\u001B[0m\u001B[0;32mlambda\u001B[0m \u001B[0ml\u001B[0m\u001B[0;34m:\u001B[0m \u001B[0;34m[\u001B[0m\u001B[0mx\u001B[0m\u001B[0;34m.\u001B[0m\u001B[0mljust\u001B[0m\u001B[0;34m(\u001B[0m\u001B[0;36m6\u001B[0m\u001B[0;34m)\u001B[0m \u001B[0;32mfor\u001B[0m \u001B[0mx\u001B[0m \u001B[0;32min\u001B[0m \u001B[0ml\u001B[0m\u001B[0;34m]\u001B[0m\u001B[0;34m)\u001B[0m\u001B[0;34m\u001B[0m\u001B[0;34m\u001B[0m\u001B[0m\n\u001B[0m\u001B[1;32m     17\u001B[0m \u001B[0;34m\u001B[0m\u001B[0m\n\u001B[1;32m     18\u001B[0m \u001B[0mdf_aligned\u001B[0m\u001B[0;34m.\u001B[0m\u001B[0mcolumns\u001B[0m\u001B[0;34m.\u001B[0m\u001B[0mname\u001B[0m \u001B[0;34m=\u001B[0m \u001B[0;34m\"Test acc of hidden size\\n [100, 200, 400, 800]\\nbert-uncased, muc1700\\n * = best performance in cell\"\u001B[0m\u001B[0;34m\u001B[0m\u001B[0;34m\u001B[0m\u001B[0m\n",
      "\u001B[0;31mTypeError\u001B[0m: 'float' object is not iterable"
     ]
    }
   ],
   "source": [
    "display_dict = {}  # Create an empty dictionary to store the final result\n",
    "\n",
    "for embedding_layer_name, v in results.items():  # Iterate through each key-value pair in the \"results\" dictionary\n",
    "    inner_dict = {}  # Create an empty dictionary to store the inner values\n",
    "    for task_name, list_of_results in v.items():  # Iterate through each key-value pair in the inner dictionary\n",
    "        # Sort the values based on the 'hidden_size' key and extract the 'val_acc' values\n",
    "        sorted_values = sorted([(d['hidden_size'], d['test_acc']) for d in list_of_results], key=lambda p: p[0])\n",
    "        # Extract the 'val_acc' values from the sorted list and assign them to the inner dictionary\n",
    "        inner_dict[task_name] = [p[1] for p in sorted_values]\n",
    "        inner_dict[task_name] = [str(p) + (\"*\" if p == max(inner_dict[task_name]) else \"\") for p in\n",
    "                                 inner_dict[task_name]]\n",
    "    # Remove the last 29 characters in column names (\"_bert-uncased_epoch**_muc1700\")\n",
    "    display_dict[embedding_layer_name[2:-29]] = inner_dict\n",
    "\n",
    "df = pd.DataFrame.from_dict(sort_dict_by_key(display_dict), orient='index')\n",
    "df_aligned = df.applymap(lambda l: [x.ljust(6) for x in l])\n",
    "\n",
    "df_aligned.columns.name = \"Test acc of hidden size\\n [100, 200, 400, 800]\\nbert-uncased, muc1700\\n * = best performance in cell\""
   ],
   "metadata": {
    "collapsed": false,
    "ExecuteTime": {
     "end_time": "2023-05-01T13:17:34.226846Z",
     "start_time": "2023-05-01T13:17:34.180666Z"
    }
   }
  },
  {
   "cell_type": "code",
   "execution_count": 10,
   "outputs": [
    {
     "ename": "NameError",
     "evalue": "name 'df_aligned' is not defined",
     "output_type": "error",
     "traceback": [
      "\u001B[0;31m---------------------------------------------------------------------------\u001B[0m",
      "\u001B[0;31mNameError\u001B[0m                                 Traceback (most recent call last)",
      "\u001B[0;32m<ipython-input-10-497cc10f00d5>\u001B[0m in \u001B[0;36m<module>\u001B[0;34m\u001B[0m\n\u001B[0;32m----> 1\u001B[0;31m \u001B[0mdf_aligned\u001B[0m\u001B[0;34m\u001B[0m\u001B[0;34m\u001B[0m\u001B[0m\n\u001B[0m",
      "\u001B[0;31mNameError\u001B[0m: name 'df_aligned' is not defined"
     ]
    }
   ],
   "source": [
    "df_aligned"
   ],
   "metadata": {
    "collapsed": false,
    "ExecuteTime": {
     "end_time": "2023-05-01T13:17:35.242412Z",
     "start_time": "2023-05-01T13:17:35.177901Z"
    }
   }
  },
  {
   "cell_type": "code",
   "execution_count": 11,
   "outputs": [
    {
     "data": {
      "text/plain": "Test acc of hidden size 400\nbert-uncased, muc1700\n   Y_bucket_num_events_muc1700  \\\nGTT_layer_0                                                                0.425   \nGTT_layer_last                                                             0.355   \nTANL_layer_0                                                               0.425   \nTANL_layer_2                                                               0.370   \nTANL_layer_3                                                               0.370   \nTANL_layer_4                                                               0.370   \nTANL_layer_5                                                               0.370   \nTANL_layer_6                                                               0.370   \nTANL_layer_7                                                               0.370   \nTANL_layer_8                                                               0.425   \nTANL_layer_9                                                               0.370   \nTANL_layer_10                                                              0.370   \nTANL_layer_11                                                              0.370   \nTANL_layer_last                                                            0.605   \ndygiepp_embedding-unpadded                                                 0.665   \n\nTest acc of hidden size 400\nbert-uncased, muc1700\n   Y_bucket_num_words_muc1700  \\\nGTT_layer_0                                                               0.100   \nGTT_layer_last                                                            0.080   \nTANL_layer_0                                                              0.080   \nTANL_layer_2                                                              0.165   \nTANL_layer_3                                                              0.105   \nTANL_layer_4                                                              0.105   \nTANL_layer_5                                                              0.190   \nTANL_layer_6                                                              0.105   \nTANL_layer_7                                                              0.105   \nTANL_layer_8                                                              0.105   \nTANL_layer_9                                                              0.160   \nTANL_layer_10                                                             0.105   \nTANL_layer_11                                                             0.155   \nTANL_layer_last                                                           0.565   \ndygiepp_embedding-unpadded                                                  NaN   \n\nTest acc of hidden size 400\nbert-uncased, muc1700\n   Y_bucket_num_sent_muc1700  \nGTT_layer_0                                                              0.110  \nGTT_layer_last                                                           0.070  \nTANL_layer_0                                                             0.135  \nTANL_layer_2                                                             0.135  \nTANL_layer_3                                                             0.135  \nTANL_layer_4                                                             0.135  \nTANL_layer_5                                                             0.135  \nTANL_layer_6                                                             0.135  \nTANL_layer_7                                                             0.135  \nTANL_layer_8                                                             0.135  \nTANL_layer_9                                                             0.135  \nTANL_layer_10                                                            0.135  \nTANL_layer_11                                                            0.135  \nTANL_layer_last                                                          0.410  \ndygiepp_embedding-unpadded                                                 NaN  ",
      "text/html": "<div>\n<style scoped>\n    .dataframe tbody tr th:only-of-type {\n        vertical-align: middle;\n    }\n\n    .dataframe tbody tr th {\n        vertical-align: top;\n    }\n\n    .dataframe thead th {\n        text-align: right;\n    }\n</style>\n<table border=\"1\" class=\"dataframe\">\n  <thead>\n    <tr style=\"text-align: right;\">\n      <th>Test acc of hidden size 400\nbert-uncased, muc1700</th>\n      <th>Y_bucket_num_events_muc1700</th>\n      <th>Y_bucket_num_words_muc1700</th>\n      <th>Y_bucket_num_sent_muc1700</th>\n    </tr>\n  </thead>\n  <tbody>\n    <tr>\n      <th>GTT_layer_0</th>\n      <td>0.425</td>\n      <td>0.100</td>\n      <td>0.110</td>\n    </tr>\n    <tr>\n      <th>GTT_layer_last</th>\n      <td>0.355</td>\n      <td>0.080</td>\n      <td>0.070</td>\n    </tr>\n    <tr>\n      <th>TANL_layer_0</th>\n      <td>0.425</td>\n      <td>0.080</td>\n      <td>0.135</td>\n    </tr>\n    <tr>\n      <th>TANL_layer_2</th>\n      <td>0.370</td>\n      <td>0.165</td>\n      <td>0.135</td>\n    </tr>\n    <tr>\n      <th>TANL_layer_3</th>\n      <td>0.370</td>\n      <td>0.105</td>\n      <td>0.135</td>\n    </tr>\n    <tr>\n      <th>TANL_layer_4</th>\n      <td>0.370</td>\n      <td>0.105</td>\n      <td>0.135</td>\n    </tr>\n    <tr>\n      <th>TANL_layer_5</th>\n      <td>0.370</td>\n      <td>0.190</td>\n      <td>0.135</td>\n    </tr>\n    <tr>\n      <th>TANL_layer_6</th>\n      <td>0.370</td>\n      <td>0.105</td>\n      <td>0.135</td>\n    </tr>\n    <tr>\n      <th>TANL_layer_7</th>\n      <td>0.370</td>\n      <td>0.105</td>\n      <td>0.135</td>\n    </tr>\n    <tr>\n      <th>TANL_layer_8</th>\n      <td>0.425</td>\n      <td>0.105</td>\n      <td>0.135</td>\n    </tr>\n    <tr>\n      <th>TANL_layer_9</th>\n      <td>0.370</td>\n      <td>0.160</td>\n      <td>0.135</td>\n    </tr>\n    <tr>\n      <th>TANL_layer_10</th>\n      <td>0.370</td>\n      <td>0.105</td>\n      <td>0.135</td>\n    </tr>\n    <tr>\n      <th>TANL_layer_11</th>\n      <td>0.370</td>\n      <td>0.155</td>\n      <td>0.135</td>\n    </tr>\n    <tr>\n      <th>TANL_layer_last</th>\n      <td>0.605</td>\n      <td>0.565</td>\n      <td>0.410</td>\n    </tr>\n    <tr>\n      <th>dygiepp_embedding-unpadded</th>\n      <td>0.665</td>\n      <td>NaN</td>\n      <td>NaN</td>\n    </tr>\n  </tbody>\n</table>\n</div>"
     },
     "execution_count": 11,
     "metadata": {},
     "output_type": "execute_result"
    }
   ],
   "source": [
    "display_dict = {}  # Create an empty dictionary to store the final result\n",
    "\n",
    "for embedding_layer_name, v in results.items():  # Iterate through each key-value pair in the \"results\" dictionary\n",
    "    inner_dict = {}  # Create an empty dictionary to store the inner values\n",
    "    for task_name, list_of_results in v.items():  # Iterate through each key-value pair in the inner dictionary\n",
    "        # Sort the values based on the 'hidden_size' key and extract the 'val_acc' values\n",
    "        size_to_test_acc = {d['hidden_size']: d['test_acc'] for d in list_of_results}\n",
    "        # Extract the 'val_acc' values from the sorted list and assign them to the inner dictionary\n",
    "        inner_dict[task_name] = size_to_test_acc[400]\n",
    "    # Remove the last 29 characters in column names (\"_bert-uncased_epoch**_muc1700\")\n",
    "    display_dict[embedding_layer_name[2:-29]] = inner_dict\n",
    "\n",
    "df = pd.DataFrame.from_dict(sort_dict_by_key(display_dict), orient='index')\n",
    "#df_aligned = df.applymap(lambda l: [x.ljust(6) for x in l])\n",
    "\n",
    "df.columns.name = \"Test acc of hidden size 400\\nbert-uncased, muc1700\\n \"\n",
    "df"
   ],
   "metadata": {
    "collapsed": false,
    "ExecuteTime": {
     "end_time": "2023-05-01T13:17:35.887170Z",
     "start_time": "2023-05-01T13:17:35.847227Z"
    }
   }
  },
  {
   "cell_type": "code",
   "execution_count": 14,
   "outputs": [
    {
     "data": {
      "text/plain": "<IPython.core.display.HTML object>",
      "text/html": "<table border=\"1\" class=\"dataframe\">\n  <thead>\n    <tr style=\"text-align: right;\">\n      <th>Test acc of hidden size 400\nbert-uncased, muc1700</th>\n      <th>Y_bucket_num_events_muc1700</th>\n      <th>Y_bucket_num_words_muc1700</th>\n      <th>Y_bucket_num_sent_muc1700</th>\n    </tr>\n  </thead>\n  <tbody>\n    <tr>\n      <th>GTT_layer_0</th>\n      <td><img src=\"../Results-MLPwAttention-Dropout0.2/probresult_Y_bucket_num_events_muc1700_X_GTT_layer_0_bert-uncased_epoch20_muc1700_epoch60_nhid400.png\" style=\"width:100%;\" ></td>\n      <td><img src=\"../Results-MLPwAttention-Dropout0.2/probresult_Y_bucket_num_words_muc1700_X_GTT_layer_0_bert-uncased_epoch20_muc1700_epoch56_nhid400.png\" style=\"width:100%;\" ></td>\n      <td><img src=\"../Results-MLPwAttention-Dropout0.2/probresult_Y_bucket_num_sent_muc1700_X_GTT_layer_0_bert-uncased_epoch20_muc1700_epoch60_nhid400.png\" style=\"width:100%;\" ></td>\n    </tr>\n    <tr>\n      <th>GTT_layer_last</th>\n      <td><img src=\"../Results-MLPwAttention-Dropout0.2/probresult_Y_bucket_num_events_muc1700_X_GTT_layer_last_bert-uncased_epoch20_muc1700_epoch48_nhid400.png\" style=\"width:100%;\" ></td>\n      <td><img src=\"../Results-MLPwAttention-Dropout0.2/probresult_Y_bucket_num_words_muc1700_X_GTT_layer_last_bert-uncased_epoch20_muc1700_epoch52_nhid400.png\" style=\"width:100%;\" ></td>\n      <td><img src=\"../Results-MLPwAttention-Dropout0.2/probresult_Y_bucket_num_sent_muc1700_X_GTT_layer_last_bert-uncased_epoch20_muc1700_epoch60_nhid400.png\" style=\"width:100%;\" ></td>\n    </tr>\n    <tr>\n      <th>TANL_layer_0</th>\n      <td><img src=\"../Results-MLPwAttention-Dropout0.2/probresult_Y_bucket_num_events_muc1700_X_TANL_layer_0_bert-uncased_epoch20_muc1700_epoch56_nhid400.png\" style=\"width:100%;\" ></td>\n      <td><img src=\"../Results-MLPwAttention-Dropout0.2/probresult_Y_bucket_num_words_muc1700_X_TANL_layer_0_bert-uncased_epoch20_muc1700_epoch56_nhid400.png\" style=\"width:100%;\" ></td>\n      <td><img src=\"../Results-MLPwAttention-Dropout0.2/probresult_Y_bucket_num_sent_muc1700_X_TANL_layer_0_bert-uncased_epoch20_muc1700_epoch64_nhid400.png\" style=\"width:100%;\" ></td>\n    </tr>\n    <tr>\n      <th>TANL_layer_2</th>\n      <td><img src=\"../Results-MLPwAttention-Dropout0.2/probresult_Y_bucket_num_events_muc1700_X_TANL_layer_2_bert-uncased_epoch20_muc1700_epoch48_nhid400.png\" style=\"width:100%;\" ></td>\n      <td><img src=\"../Results-MLPwAttention-Dropout0.2/probresult_Y_bucket_num_words_muc1700_X_TANL_layer_2_bert-uncased_epoch20_muc1700_epoch60_nhid400.png\" style=\"width:100%;\" ></td>\n      <td><img src=\"../Results-MLPwAttention-Dropout0.2/probresult_Y_bucket_num_sent_muc1700_X_TANL_layer_2_bert-uncased_epoch20_muc1700_epoch52_nhid400.png\" style=\"width:100%;\" ></td>\n    </tr>\n    <tr>\n      <th>TANL_layer_3</th>\n      <td><img src=\"../Results-MLPwAttention-Dropout0.2/probresult_Y_bucket_num_events_muc1700_X_TANL_layer_3_bert-uncased_epoch20_muc1700_epoch48_nhid400.png\" style=\"width:100%;\" ></td>\n      <td><img src=\"../Results-MLPwAttention-Dropout0.2/probresult_Y_bucket_num_words_muc1700_X_TANL_layer_3_bert-uncased_epoch20_muc1700_epoch60_nhid400.png\" style=\"width:100%;\" ></td>\n      <td><img src=\"../Results-MLPwAttention-Dropout0.2/probresult_Y_bucket_num_sent_muc1700_X_TANL_layer_3_bert-uncased_epoch20_muc1700_epoch52_nhid400.png\" style=\"width:100%;\" ></td>\n    </tr>\n    <tr>\n      <th>TANL_layer_4</th>\n      <td><img src=\"../Results-MLPwAttention-Dropout0.2/probresult_Y_bucket_num_events_muc1700_X_TANL_layer_4_bert-uncased_epoch20_muc1700_epoch52_nhid400.png\" style=\"width:100%;\" ></td>\n      <td><img src=\"../Results-MLPwAttention-Dropout0.2/probresult_Y_bucket_num_words_muc1700_X_TANL_layer_4_bert-uncased_epoch20_muc1700_epoch56_nhid400.png\" style=\"width:100%;\" ></td>\n      <td><img src=\"../Results-MLPwAttention-Dropout0.2/probresult_Y_bucket_num_sent_muc1700_X_TANL_layer_4_bert-uncased_epoch20_muc1700_epoch56_nhid400.png\" style=\"width:100%;\" ></td>\n    </tr>\n    <tr>\n      <th>TANL_layer_5</th>\n      <td><img src=\"../Results-MLPwAttention-Dropout0.2/probresult_Y_bucket_num_events_muc1700_X_TANL_layer_5_bert-uncased_epoch20_muc1700_epoch48_nhid400.png\" style=\"width:100%;\" ></td>\n      <td><img src=\"../Results-MLPwAttention-Dropout0.2/probresult_Y_bucket_num_words_muc1700_X_TANL_layer_5_bert-uncased_epoch20_muc1700_epoch56_nhid400.png\" style=\"width:100%;\" ></td>\n      <td><img src=\"../Results-MLPwAttention-Dropout0.2/probresult_Y_bucket_num_sent_muc1700_X_TANL_layer_5_bert-uncased_epoch20_muc1700_epoch56_nhid400.png\" style=\"width:100%;\" ></td>\n    </tr>\n    <tr>\n      <th>TANL_layer_6</th>\n      <td><img src=\"../Results-MLPwAttention-Dropout0.2/probresult_Y_bucket_num_events_muc1700_X_TANL_layer_6_bert-uncased_epoch20_muc1700_epoch48_nhid400.png\" style=\"width:100%;\" ></td>\n      <td><img src=\"../Results-MLPwAttention-Dropout0.2/probresult_Y_bucket_num_words_muc1700_X_TANL_layer_6_bert-uncased_epoch20_muc1700_epoch56_nhid400.png\" style=\"width:100%;\" ></td>\n      <td><img src=\"../Results-MLPwAttention-Dropout0.2/probresult_Y_bucket_num_sent_muc1700_X_TANL_layer_6_bert-uncased_epoch20_muc1700_epoch56_nhid400.png\" style=\"width:100%;\" ></td>\n    </tr>\n    <tr>\n      <th>TANL_layer_7</th>\n      <td><img src=\"../Results-MLPwAttention-Dropout0.2/probresult_Y_bucket_num_events_muc1700_X_TANL_layer_7_bert-uncased_epoch20_muc1700_epoch48_nhid400.png\" style=\"width:100%;\" ></td>\n      <td><img src=\"../Results-MLPwAttention-Dropout0.2/probresult_Y_bucket_num_words_muc1700_X_TANL_layer_7_bert-uncased_epoch20_muc1700_epoch60_nhid400.png\" style=\"width:100%;\" ></td>\n      <td><img src=\"../Results-MLPwAttention-Dropout0.2/probresult_Y_bucket_num_sent_muc1700_X_TANL_layer_7_bert-uncased_epoch20_muc1700_epoch56_nhid400.png\" style=\"width:100%;\" ></td>\n    </tr>\n    <tr>\n      <th>TANL_layer_8</th>\n      <td><img src=\"../Results-MLPwAttention-Dropout0.2/probresult_Y_bucket_num_events_muc1700_X_TANL_layer_8_bert-uncased_epoch20_muc1700_epoch48_nhid400.png\" style=\"width:100%;\" ></td>\n      <td><img src=\"../Results-MLPwAttention-Dropout0.2/probresult_Y_bucket_num_words_muc1700_X_TANL_layer_8_bert-uncased_epoch20_muc1700_epoch60_nhid400.png\" style=\"width:100%;\" ></td>\n      <td><img src=\"../Results-MLPwAttention-Dropout0.2/probresult_Y_bucket_num_sent_muc1700_X_TANL_layer_8_bert-uncased_epoch20_muc1700_epoch52_nhid400.png\" style=\"width:100%;\" ></td>\n    </tr>\n    <tr>\n      <th>TANL_layer_9</th>\n      <td><img src=\"../Results-MLPwAttention-Dropout0.2/probresult_Y_bucket_num_events_muc1700_X_TANL_layer_9_bert-uncased_epoch20_muc1700_epoch48_nhid400.png\" style=\"width:100%;\" ></td>\n      <td><img src=\"../Results-MLPwAttention-Dropout0.2/probresult_Y_bucket_num_words_muc1700_X_TANL_layer_9_bert-uncased_epoch20_muc1700_epoch64_nhid400.png\" style=\"width:100%;\" ></td>\n      <td><img src=\"../Results-MLPwAttention-Dropout0.2/probresult_Y_bucket_num_sent_muc1700_X_TANL_layer_9_bert-uncased_epoch20_muc1700_epoch56_nhid400.png\" style=\"width:100%;\" ></td>\n    </tr>\n    <tr>\n      <th>TANL_layer_10</th>\n      <td><img src=\"../Results-MLPwAttention-Dropout0.2/probresult_Y_bucket_num_events_muc1700_X_TANL_layer_10_bert-uncased_epoch20_muc1700_epoch48_nhid400.png\" style=\"width:100%;\" ></td>\n      <td><img src=\"../Results-MLPwAttention-Dropout0.2/probresult_Y_bucket_num_words_muc1700_X_TANL_layer_10_bert-uncased_epoch20_muc1700_epoch60_nhid400.png\" style=\"width:100%;\" ></td>\n      <td><img src=\"../Results-MLPwAttention-Dropout0.2/probresult_Y_bucket_num_sent_muc1700_X_TANL_layer_10_bert-uncased_epoch20_muc1700_epoch56_nhid400.png\" style=\"width:100%;\" ></td>\n    </tr>\n    <tr>\n      <th>TANL_layer_11</th>\n      <td><img src=\"../Results-MLPwAttention-Dropout0.2/probresult_Y_bucket_num_events_muc1700_X_TANL_layer_11_bert-uncased_epoch20_muc1700_epoch48_nhid400.png\" style=\"width:100%;\" ></td>\n      <td><img src=\"../Results-MLPwAttention-Dropout0.2/probresult_Y_bucket_num_words_muc1700_X_TANL_layer_11_bert-uncased_epoch20_muc1700_epoch52_nhid400.png\" style=\"width:100%;\" ></td>\n      <td><img src=\"../Results-MLPwAttention-Dropout0.2/probresult_Y_bucket_num_sent_muc1700_X_TANL_layer_11_bert-uncased_epoch20_muc1700_epoch56_nhid400.png\" style=\"width:100%;\" ></td>\n    </tr>\n    <tr>\n      <th>TANL_layer_last</th>\n      <td><img src=\"../Results-MLPwAttention-Dropout0.2/probresult_Y_bucket_num_events_muc1700_X_TANL_layer_last_bert-uncased_epoch20_muc1700_epoch60_nhid400.png\" style=\"width:100%;\" ></td>\n      <td><img src=\"../Results-MLPwAttention-Dropout0.2/probresult_Y_bucket_num_words_muc1700_X_TANL_layer_last_bert-uncased_epoch20_muc1700_epoch76_nhid400.png\" style=\"width:100%;\" ></td>\n      <td><img src=\"../Results-MLPwAttention-Dropout0.2/probresult_Y_bucket_num_sent_muc1700_X_TANL_layer_last_bert-uncased_epoch20_muc1700_epoch64_nhid400.png\" style=\"width:100%;\" ></td>\n    </tr>\n    <tr>\n      <th>dygiepp_embedding-unpadded</th>\n      <td><img src=\"../Results-MLPwAttention-Dropout0.2/probresult_Y_bucket_num_events_muc1700_X_dygiepp_embedding-unpadded_bert-uncased_epoch21_muc1700_epoch68_nhid400.png\" style=\"width:100%;\" ></td>\n      <td>None</td>\n      <td>None</td>\n    </tr>\n  </tbody>\n</table>"
     },
     "metadata": {},
     "output_type": "display_data"
    }
   ],
   "source": [
    "display_dict = {}  # Create an empty dictionary to store the final result\n",
    "from IPython.core.display import display, HTML\n",
    "\n",
    "\n",
    "def path_to_image_html(path):\n",
    "    if isinstance(path, str):\n",
    "        return '<img src=\"' + path + '\" style=\"width:100%;\" >'\n",
    "\n",
    "\n",
    "for embedding_layer_name, v in results.items():  # Iterate through each key-value pair in the \"results\" dictionary\n",
    "    inner_dict = {}  # Create an empty dictionary to store the inner values\n",
    "    for task_name, list_of_results in v.items():  # Iterate through each key-value pair in the inner dictionary\n",
    "        # Sort the values based on the 'hidden_size' key and extract the 'val_acc' values\n",
    "        size_to_results = {}\n",
    "        for d in list_of_results:\n",
    "            size_to_results[d['hidden_size']] = d\n",
    "\n",
    "        # Extract the 'val_acc' values from the sorted list and assign them to the inner dictionary\n",
    "        y_name = size_to_results[400][\"Y\"]\n",
    "        x_name = size_to_results[400][\"X\"]\n",
    "        epoch_str = size_to_results[400][\"actual_epoch\"]\n",
    "        probing_classifier_width = size_to_results[400][\"hidden_size\"]\n",
    "\n",
    "        inner_dict[task_name] = (os.path.join(results_path,\n",
    "                                                             f\"probresult_{y_name}_{x_name}_epoch{epoch_str}_nhid{str(probing_classifier_width)}.png\"))\n",
    "    # Remove the last 29 characters in column names (\"_bert-uncased_epoch**_muc1700\")\n",
    "    display_dict[embedding_layer_name[2:-29]] = inner_dict\n",
    "\n",
    "df = pd.DataFrame.from_dict(sort_dict_by_key(display_dict), orient='index')\n",
    "df.columns.name = \"Test acc of hidden size 400\\nbert-uncased, muc1700\\n \"\n",
    "df = df.applymap(path_to_image_html)\n",
    "\n",
    "html_content = df.to_html(escape=False)\n",
    "filename = \"output3.html\"\n",
    "\n",
    "# Save the HTML string to a file\n",
    "with open(filename, \"w\") as file:\n",
    "    file.write(html_content)\n",
    "\n",
    "# Open the HTML file in a web browser\n",
    "import webbrowser\n",
    "\n",
    "webbrowser.open(\"file://\" + os.path.abspath(filename))\n",
    "\n",
    "display(HTML(html_content))"
   ],
   "metadata": {
    "collapsed": false,
    "ExecuteTime": {
     "end_time": "2023-05-01T13:19:03.365618Z",
     "start_time": "2023-05-01T13:19:03.002353Z"
    }
   }
  },
  {
   "cell_type": "markdown",
   "source": [],
   "metadata": {
    "collapsed": false
   }
  },
  {
   "cell_type": "code",
   "execution_count": null,
   "outputs": [],
   "source": [],
   "metadata": {
    "collapsed": false
   }
  }
 ],
 "metadata": {
  "kernelspec": {
   "display_name": "Python 3",
   "language": "python",
   "name": "python3"
  },
  "language_info": {
   "codemirror_mode": {
    "name": "ipython",
    "version": 2
   },
   "file_extension": ".py",
   "mimetype": "text/x-python",
   "name": "python",
   "nbconvert_exporter": "python",
   "pygments_lexer": "ipython2",
   "version": "2.7.6"
  }
 },
 "nbformat": 4,
 "nbformat_minor": 0
}
