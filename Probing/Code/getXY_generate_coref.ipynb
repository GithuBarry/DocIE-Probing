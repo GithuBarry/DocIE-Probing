{
 "cells": [
  {
   "cell_type": "code",
   "execution_count": 40,
   "metadata": {
    "collapsed": true,
    "ExecuteTime": {
     "end_time": "2023-05-02T23:01:35.274927Z",
     "start_time": "2023-05-02T23:01:35.266515Z"
    }
   },
   "outputs": [],
   "source": [
    "import json\n",
    "import re\n",
    "from collections import defaultdict\n",
    "from itertools import combinations\n",
    "from collections import Counter\n",
    "from tqdm import tqdm"
   ]
  },
  {
   "cell_type": "code",
   "execution_count": 15,
   "outputs": [],
   "source": [
    "dataset_name = \"muc1700\"\n",
    "muc_1700_input = open(\"../../Corpora/MUC/muc/processed2/muc_1700_GTT_style-test-dev-train.json\")\n",
    "examples = json.load(muc_1700_input)\n",
    "muc_1700_input.close()\n",
    "\n"
   ],
   "metadata": {
    "collapsed": false,
    "ExecuteTime": {
     "end_time": "2023-05-02T22:26:58.459615Z",
     "start_time": "2023-05-02T22:26:58.372374Z"
    }
   }
  },
  {
   "cell_type": "code",
   "execution_count": 37,
   "outputs": [],
   "source": [
    "\n",
    "def clean(string):\n",
    "    string = string.lower()\n",
    "    cleaned_string = re.sub(r'[^a-z]', '', string)\n",
    "    return cleaned_string\n",
    "\n",
    "\n",
    "def flatten_list(nested_list):\n",
    "    return [item for sublist in nested_list for item in\n",
    "            (flatten_list(sublist) if isinstance(sublist, list) else [sublist])]\n",
    "\n",
    "\n",
    "def n_comb(l):\n",
    "    return len(l) * (len(l) - 1) // 2"
   ],
   "metadata": {
    "collapsed": false,
    "ExecuteTime": {
     "end_time": "2023-05-02T22:59:45.382675Z",
     "start_time": "2023-05-02T22:59:45.373073Z"
    }
   }
  },
  {
   "cell_type": "code",
   "execution_count": 61,
   "outputs": [
    {
     "name": "stderr",
     "output_type": "stream",
     "text": [
      "100%|██████████| 1700/1700 [00:00<00:00, 2232.02it/s]\n"
     ]
    }
   ],
   "source": [
    "example_template_entity_mentions = []\n",
    "counts = defaultdict(lambda: 0)\n",
    "mention_count = []\n",
    "qualified_mention_count=[]\n",
    "for ex in tqdm(examples):\n",
    "    templates = ex['templates']\n",
    "    text = ex['doctext']\n",
    "    cleanedtext = clean(\" \".join(text))\n",
    "    template_of_entities = []\n",
    "    flattened_list_all_templates = []\n",
    "    for template in templates:\n",
    "        flattened_list_within_template = []\n",
    "        arguments = [l for l in template.values() if isinstance(l, list)]\n",
    "        qualified_entities = []\n",
    "        per_example_coref_pairs = set()\n",
    "        per_example_coref_pairs_non_single_mention = set()\n",
    "        for role_fillers in arguments:\n",
    "            for entities in role_fillers:\n",
    "                qualified_mentions = []\n",
    "                mentions = []\n",
    "                for mention_w_index in entities:\n",
    "                    mention = mention_w_index[0]\n",
    "                    #assert cleanedtext.count(clean(mention)) > 0\n",
    "                    mentions.append(mention)\n",
    "                    if cleanedtext.count(clean(mention)) == 1:\n",
    "                        qualified_mentions.append(mention)\n",
    "                        counts['qualified_mentions'] += 1\n",
    "\n",
    "                        if mention in flattened_list_all_templates:\n",
    "                            counts['duplicated qualified mention across templates'] += 1\n",
    "                        flattened_list_all_templates.append(mention)\n",
    "\n",
    "                        if mention in flattened_list_within_template:\n",
    "                            counts['duplicated qualified mention within templates'] += 1\n",
    "                        flattened_list_within_template.append(mention)\n",
    "\n",
    "                if len(qualified_mentions) > 0:\n",
    "                    counts['qualified_entities'] += 1\n",
    "                    qualified_entities.append(qualified_mentions)\n",
    "\n",
    "                    per_example_coref_pairs = per_example_coref_pairs.union(\n",
    "                        [p for p in list(combinations(qualified_mentions, 2)) if p[0] < p[1]])\n",
    "                per_example_coref_pairs_non_single_mention = per_example_coref_pairs_non_single_mention.union(\n",
    "                        [p for p in list(combinations(mentions, 2)) if p[0] < p[1]])\n",
    "                mention_count.append(len(mentions))\n",
    "                qualified_mention_count.append(len(qualified_mentions))\n",
    "        counts['qualified_coenv'] += n_comb(set(flattened_list_within_template))\n",
    "        counts['actual_coref_pairs'] += len(per_example_coref_pairs)\n",
    "        counts['actual_coref_pairs_non_single'] += len(per_example_coref_pairs_non_single_mention)\n",
    "        template_of_entities.append(qualified_entities)\n",
    "\n",
    "    example_template_entity_mentions.append(template_of_entities)"
   ],
   "metadata": {
    "collapsed": false,
    "ExecuteTime": {
     "end_time": "2023-05-02T23:18:04.645565Z",
     "start_time": "2023-05-02T23:18:03.876661Z"
    }
   }
  },
  {
   "cell_type": "code",
   "execution_count": 58,
   "outputs": [
    {
     "data": {
      "text/plain": "defaultdict(<function __main__.<lambda>()>,\n            {'qualified_coenv': 8541,\n             'actual_coref_pairs': 614,\n             'actual_coref_pairs_non_single': 1309,\n             'qualified_mentions': 4229,\n             'qualified_entities': 3269,\n             'duplicated qualified mention across templates': 602,\n             'duplicated qualified mention within templates': 35})"
     },
     "execution_count": 58,
     "metadata": {},
     "output_type": "execute_result"
    }
   ],
   "source": [
    "counts"
   ],
   "metadata": {
    "collapsed": false,
    "ExecuteTime": {
     "end_time": "2023-05-02T23:14:39.790770Z",
     "start_time": "2023-05-02T23:14:39.785229Z"
    }
   }
  },
  {
   "cell_type": "code",
   "execution_count": 63,
   "outputs": [
    {
     "data": {
      "text/plain": "Counter({4: 97, 1: 2835, 2: 926, 3: 217, 5: 19, 6: 12, 9: 1, 7: 4})"
     },
     "execution_count": 63,
     "metadata": {},
     "output_type": "execute_result"
    }
   ],
   "source": [
    "Counter(mention_count)"
   ],
   "metadata": {
    "collapsed": false,
    "ExecuteTime": {
     "end_time": "2023-05-02T23:18:07.600976Z",
     "start_time": "2023-05-02T23:18:07.594242Z"
    }
   }
  },
  {
   "cell_type": "code",
   "execution_count": 62,
   "outputs": [
    {
     "data": {
      "text/plain": "Counter({3: 111, 1: 2549, 2: 553, 0: 842, 4: 42, 5: 11, 6: 3})"
     },
     "execution_count": 62,
     "metadata": {},
     "output_type": "execute_result"
    }
   ],
   "source": [
    "Counter(qualified_mention_count)"
   ],
   "metadata": {
    "collapsed": false,
    "ExecuteTime": {
     "end_time": "2023-05-02T23:18:06.419845Z",
     "start_time": "2023-05-02T23:18:06.404731Z"
    }
   }
  },
  {
   "cell_type": "code",
   "execution_count": null,
   "outputs": [],
   "source": [],
   "metadata": {
    "collapsed": false
   }
  }
 ],
 "metadata": {
  "kernelspec": {
   "display_name": "Python 3",
   "language": "python",
   "name": "python3"
  },
  "language_info": {
   "codemirror_mode": {
    "name": "ipython",
    "version": 2
   },
   "file_extension": ".py",
   "mimetype": "text/x-python",
   "name": "python",
   "nbconvert_exporter": "python",
   "pygments_lexer": "ipython2",
   "version": "2.7.6"
  }
 },
 "nbformat": 4,
 "nbformat_minor": 0
}
